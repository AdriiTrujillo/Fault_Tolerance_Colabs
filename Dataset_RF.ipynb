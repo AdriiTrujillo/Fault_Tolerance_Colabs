{
  "nbformat": 4,
  "nbformat_minor": 0,
  "metadata": {
    "colab": {
      "name": "Dataset_RF.ipynb",
      "provenance": [],
      "collapsed_sections": [],
      "toc_visible": true,
      "authorship_tag": "ABX9TyNLkH3K3bSFwjHaV3tJo3CN",
      "include_colab_link": true
    },
    "kernelspec": {
      "name": "python3",
      "display_name": "Python 3"
    },
    "language_info": {
      "name": "python"
    }
  },
  "cells": [
    {
      "cell_type": "markdown",
      "metadata": {
        "id": "view-in-github",
        "colab_type": "text"
      },
      "source": [
        "<a href=\"https://colab.research.google.com/github/AdriiTrujillo/Fault_Tolerance_Colabs/blob/main/Dataset_RF.ipynb\" target=\"_parent\"><img src=\"https://colab.research.google.com/assets/colab-badge.svg\" alt=\"Open In Colab\"/></a>"
      ]
    },
    {
      "cell_type": "markdown",
      "metadata": {
        "id": "98OtrM-QAC0N"
      },
      "source": [
        "# CREATE DATASET (BANCO DE REGISTROS)\n",
        "_Adrián Trujillo López_\n",
        "\n",
        "**Descripción:**\n",
        "Creación de los datasets con los valores de FT unicamente del banco de registros.\n",
        "\n",
        "Correr primero las funcoines de lectura de datos!"
      ]
    },
    {
      "cell_type": "code",
      "metadata": {
        "id": "6ywNXe8lOEmg"
      },
      "source": [
        "#Celda para poder probar lo que se quiera (o utilizar comandos del bash con !)\n"
      ],
      "execution_count": null,
      "outputs": []
    },
    {
      "cell_type": "code",
      "metadata": {
        "id": "U3piEoJyxT8a"
      },
      "source": [
        "# Importación de librerias\n",
        "%matplotlib inline\n",
        "import matplotlib.pyplot as plt\n",
        "import pandas as pd\n",
        "import numpy as np\n",
        "import re\n",
        "import sys\n",
        "import os\n",
        "import shutil"
      ],
      "execution_count": 1,
      "outputs": []
    },
    {
      "cell_type": "code",
      "metadata": {
        "colab": {
          "base_uri": "https://localhost:8080/"
        },
        "id": "d5ctfsjRy6mu",
        "outputId": "7030d89a-03e3-4f90-f31f-13b394dc3343"
      },
      "source": [
        "# Montar el contenido de drive\n",
        "from google.colab import drive\n",
        "drive.mount('/content/drive')"
      ],
      "execution_count": 2,
      "outputs": [
        {
          "output_type": "stream",
          "text": [
            "Mounted at /content/drive\n"
          ],
          "name": "stdout"
        }
      ]
    },
    {
      "cell_type": "markdown",
      "metadata": {
        "id": "bT_HufqmApyW"
      },
      "source": [
        "## Lectura de las carpetas de individuos\n",
        "\n",
        "Los datasets que se utilizan para entrenamiento son: \n",
        "* quicksort (000)\n",
        "* tarai (000, 101, 110, 111)\n",
        "* insertsort (000, 101, 110, 111)\n",
        "* heapsort (000, 110, 111)\n",
        "* mmult (No está)\n",
        "* mmultvector (100, 110)\n",
        "* maddconst (100, 110)\n",
        "* bitcount1 (111)\n",
        "* bitcount2 (111)\n",
        "* crc_32_short (no está)\n",
        "\n",
        "\n",
        "Los datasets que se utilizan para test son:\n",
        "* Bubblesort (000 110)\n",
        "* Dijkstra (Antiguo)\n",
        "* Ndes (000)\n",
        "* Fir short (111 falta info)\n",
        "* aes (no está)"
      ]
    },
    {
      "cell_type": "code",
      "metadata": {
        "id": "GF6MgmHaZYZ6"
      },
      "source": [
        "# Dataframes utilizados para training\n",
        "quicksort_folders = ['quicksort_000']\n",
        "tarai_folders = ['tarai_000', 'tarai_101', 'tarai_110', 'tarai_111']\n",
        "insertsort_folders = ['insertsort_000', 'insertsort_101', 'insertsort_110', 'insertsort_111']\n",
        "heapsort_folders = ['heapsort_000', 'heapsort_110', 'heapsort_111']\n",
        "mmultvector_folders = ['mmultvector_100', 'mmultvector_110']\n",
        "maddconst_folders = ['maddconst_100', 'maddconst_110']\n",
        "bitcount1_folders = ['bitcount1_111']\n",
        "bitcount2_folders = ['bitcount2_111']\n",
        "\n",
        "# Dataframes utilizados para test\n",
        "bubblesort_folders = ['bubblesort_000', 'bubblesort_110']\n",
        "ndes_folders = ['ndes_000']\n",
        "\n",
        "benchmarks = [bubblesort_folders]\n",
        "              \n",
        "# TODO : bubblesort_folders (failed)\n",
        "# DONE : heapsort_folders, quicksort_folders, tarai_folders, insertsort_folders, mmultvector_folders, maddconst_folders, bitcount1_folders, bitcount2_folders, ndes_folders"
      ],
      "execution_count": 12,
      "outputs": []
    },
    {
      "cell_type": "code",
      "metadata": {
        "id": "8O2vpIpQApI8"
      },
      "source": [
        "# Data treatment \n",
        "csv_extension = '_db_info.csv'\n",
        "database_extension = '_db'\n",
        "global_path = '/content/drive/Shareddrives/NN4FT_DB/'\n",
        "all_csv = []\n",
        "\n",
        "for bench in benchmarks:\n",
        "  print(\"In \" + bench[0][0:-4] + \": \")\n",
        "  # Create each csv file\n",
        "  csv = bench[0][0:-4] + '.csv'\n",
        "  all_csv.append(csv)\n",
        "  # Start writing the csv file for each benchmark\n",
        "  with open(csv, \"w\") as f:\n",
        "    f.write('ind;r0;r1;r2;r3;r4;r5;r6;r7;r8;r9;r10;r11;r12;pc;sp;lr;totalInstructions;memoryRead;memoryWrite;memoryAccess;text;data;bss;stack;rf_sdc;rf_hang\\n')\n",
        "    f.close()\n",
        "\n",
        "  for code in bench:\n",
        "    print(\"Analyzing \" + code + \" ...\")\n",
        "    bench_path = global_path + code\n",
        "    info_path = bench_path + '/' +  code + csv_extension # File with indiviuals information\n",
        "    info_db = pd.read_csv(info_path, sep=\",\")\n",
        "    database_path = bench_path + database_extension # Folder with all individuals\n",
        "    folder_list = os.listdir(database_path)\n",
        "    total_ind = len(folder_list)\n",
        "    i = 0\n",
        "\n",
        "    for folder in folder_list:\n",
        "      outputToWrite = \"\"\n",
        "      i+=1\n",
        "      trace_file = database_path + '/' + folder + '/' + code + '.ARM.elf.trace'\n",
        "      # Get program information\n",
        "      df = createDataframe(trace_file)\n",
        "      lifetime, memoryAccess, memoryRead, memoryWrite = getInformationProgram()\n",
        "      # Get program size\n",
        "      text_size, data_size, bss_size, stack_size = getSizePrograms(folder, info_db)\n",
        "      # Get FT of RF\n",
        "      rf_sdc, rf_hang = getCoverage(folder, info_db) \n",
        "    \n",
        "      outputToWrite += folder + ';'\n",
        "\n",
        "      for reg in registers:\n",
        "        outputToWrite += str(lifetime[reg])+\";\"\n",
        "\n",
        "      outputToWrite += str(df.shape[0])+\";\"+str(memoryRead)+\";\"+str(memoryWrite)+\";\"+str(memoryAccess)+\";\"+str(text_size)+\";\"+str(data_size)+\";\"+str(bss_size)+\";\"+str(stack_size)+\";\"+str(rf_sdc)+\";\"+str(rf_hang)+\"\\n\"\n",
        "\n",
        "      with open(csv, \"a\") as f:\n",
        "        f.write(outputToWrite)\n",
        "        f.close()\n",
        "      \n",
        "      print(\"Ind: \", i, \"/\", total_ind)\n",
        "\n",
        "\n"
      ],
      "execution_count": null,
      "outputs": []
    },
    {
      "cell_type": "code",
      "metadata": {
        "id": "6Ewb6mYzYF0Y"
      },
      "source": [
        "# Move all the created dataset to any destination\n",
        "save_path = '/content/drive/Shareddrives/NN4FT_DB/Exp_Adrian/Data Frames/TAREA_3'\n",
        "for file in all_csv:\n",
        "  shutil.move(file, save_path)\n",
        "  # print(file)"
      ],
      "execution_count": null,
      "outputs": []
    },
    {
      "cell_type": "markdown",
      "metadata": {
        "id": "FpYRZetvLslh"
      },
      "source": [
        "## Funciones de lectura de datos"
      ]
    },
    {
      "cell_type": "code",
      "metadata": {
        "id": "zvBnClv8ZYqe"
      },
      "source": [
        "#Regular expressions to classify instructions\n",
        "\n",
        "instrLine = r\"^Info\\s[0-9]\"\n",
        "cpsrLine = r\"^\\s{8}cpsr\"\n",
        "\n",
        "arm_cond = r\"(eq|ne|cs|cc|mi|pl|vs|vc|hi|ls|ge|lt|gt|le){0,1}$\"\n",
        "arm_type = r\"(d|b|sb|h|sh){0,1}\"\n",
        "addr_mode = r\"(ia|ib|da|db|fd|fa|ed|ea){0,1}\"\n",
        "sflag = r\"s{0,1}\"\n",
        "\n",
        "#Read Write instructions\n",
        "ldm = r\"^ldm\"+addr_mode+arm_cond\n",
        "\n",
        "#Write Read instructions\n",
        "##mov opsubadd ldr uxtb logical lsr\n",
        "mov = r\"^(mov|movw|movt|mvn)\"+sflag+arm_cond\n",
        "op = r\"^(add|sub|mul|mla|rsb)\"+sflag+arm_cond\n",
        "ldr = r\"^ldr\"+arm_type+arm_cond\n",
        "lsr = r\"^(asr|lsl|lsr|ror|rrx)\"+sflag+arm_cond\n",
        "uxtb = r\"^(uxtb|sbfx|ubfx)\"+arm_cond\n",
        "logical = r\"^(and|orr|eor|bic|orn)\"+sflag+arm_cond\n",
        "\n",
        "writeReadInstr = r\"^(\"+mov+\"|\"+op+\"|\"+ldr+\"|\"+lsr+\"|\"+uxtb+\"|\"+logical+\")$\"\n",
        "\n",
        "#Read Read instructions\n",
        "##branch testop str1 stm\n",
        "str1 = r\"^str\"+arm_type+arm_cond\n",
        "stm = r\"^stm\"+addr_mode+arm_cond\n",
        "branch = r\"^(b|bl|bx|blx)\"+arm_cond\n",
        "testop = r\"^(tst|teq)\"+arm_cond\n",
        "compare = r\"^(cmp|cmn)\"+arm_cond\n",
        "pld = r\"^(pld|pldw|pli)\"+arm_cond\n",
        "\n",
        "readReadInstr = r\"^(\"+str1+\"|\"+stm+\"|\"+branch+\"|\"+testop+\"|\"+compare+\"|\"+pld+\")$\"\n",
        "\n",
        "\n",
        "doInstr = r\"(eq|ne|cs|cc|mi|pl|vs|vc|hi|ls|ge|lt|gt|le)$\"\n",
        "exInstr = [\"teq\",\"movs\",\"svc\",\"lsls\",\"bics\",\"muls\"]\n",
        "\n",
        "memoryAccesInstr = r\"^(\"+str1+\"|\"+stm+\"|\"+ldr+\"|\"+ldm+\"|\"+pld+\")$\"\n",
        "memoryReadInstr = r\"^(\"+ldr+\"|\"+ldm+\"|\"+pld+\")$\"\n",
        "memoryWriteInstr = r\"^(\"+str1+\"|\"+stm+\")$\"\n",
        "\n",
        "#test = \"lsl\"\n",
        "#if re.search(doInstr,test) and (test not in exInstr):\n",
        "#  print(\"True\")\n",
        "\n",
        "# Only the RF\n",
        "registers = [\"r0\",\"r1\",\"r2\",\"r3\",\"r4\",\"r5\",\"r6\",\"r7\",\"r8\",\"r9\",\"r10\",\"r11\",\"r12\",\"pc\",\"sp\",\"lr\"]\n",
        "\n",
        "setCond = set()\n",
        "setWR = set()\n",
        "setRR = set()\n",
        "setRW = set()\n",
        "setMemory = set()\n",
        "setMemoryRead = set()\n",
        "setMemoryWrite = set()\n",
        "setIgnoredInstr = set()\n",
        "setInstructions = set()"
      ],
      "execution_count": 5,
      "outputs": []
    },
    {
      "cell_type": "code",
      "metadata": {
        "id": "9BqiVwIdZZ4Z"
      },
      "source": [
        "def executedInstr(cond, cpsr):\n",
        "  binarynum = bin(cpsr)[2:]\n",
        "  \n",
        "  try:\n",
        "    N = int(binarynum[31])\n",
        "  except IndexError:\n",
        "    N = 0\n",
        "  try:\n",
        "    Z = int(binarynum[30])\n",
        "  except IndexError:\n",
        "    Z = 0\n",
        "  try:\n",
        "    C = int(binarynum[29])\n",
        "  except IndexError:\n",
        "    C = 0\n",
        "  try:\n",
        "    V = int(binarynum[28])\n",
        "  except IndexError:\n",
        "    V = 0\n",
        "\n",
        "  if(cond==\"eq\"):\n",
        "    if Z == 1:\n",
        "      return True\n",
        "  elif(cond==\"ne\"):\n",
        "    if Z == 0:\n",
        "      return True\n",
        "  elif(cond==\"cs\"):\n",
        "    if C == 1:\n",
        "      return True\n",
        "  elif(cond==\"cc\"):\n",
        "    if C == 0:\n",
        "      return True\n",
        "  elif(cond==\"mi\"):\n",
        "    if N == 1:\n",
        "      return True\n",
        "  elif(cond==\"pl\"):\n",
        "    if N == 0:\n",
        "      return True\n",
        "  elif(cond==\"vs\"):\n",
        "    if V == 1:\n",
        "      return True\n",
        "  elif(cond==\"vc\"):\n",
        "    if V == 0:\n",
        "      return True\n",
        "  elif(cond==\"hi\"):\n",
        "    if (C == 1) and (Z == 0):\n",
        "      return True\n",
        "  elif(cond==\"ls\"):\n",
        "    if (C == 0) and (Z == 1):\n",
        "      return True\n",
        "  elif(cond==\"ge\"):\n",
        "    if N == V:\n",
        "      return True\n",
        "  elif(cond==\"lt\"):\n",
        "    if N != V:\n",
        "      return True\n",
        "  elif(cond==\"gt\"):\n",
        "    if (Z == 0) and (N == V):\n",
        "      return True\n",
        "  elif(cond==\"le\"):\n",
        "    if (Z == 1) and (N != V):\n",
        "      return True\n",
        "  return False\n",
        "\n",
        "def createDataframe(trace_file):\n",
        "  #Filter and convert bubblesort.ARM.elf.trace to csv\n",
        "  fileToWrite = open(\"traceFile.csv\", \"w\")\n",
        "  with open(trace_file) as file:\n",
        "    for line in file:\n",
        "      if re.match(instrLine,line):\n",
        "        columns = line.split()\n",
        "        fileToWrite.write('%s;' % (columns[5])) #instruction\n",
        "        if(len(columns)>6):\n",
        "          registersAB = columns[6].split(\",\",1)\n",
        "          if(len(registersAB)==1):\n",
        "            fileToWrite.write('%s;%s;' % (registersAB[0], \"-\")) #only register A\n",
        "          else:\n",
        "            fileToWrite.write('%s;%s;' % (registersAB[0], registersAB[1])) #register A and B\n",
        "      elif re.match(cpsrLine,line):\n",
        "        columns = line.split()\n",
        "        fileToWrite.write('%s\\n' % (columns[2]))\n",
        "  fileToWrite.close()\n",
        "  \n",
        "  #Read the created csv\n",
        "  df = pd.read_csv(\"traceFile.csv\", sep=\";\", names=[\"Instruction\",\"A\",\"B\",\"cpsr\"])\n",
        "  df.cpsr = df.cpsr.shift(1).fillna(0)\n",
        "  df.cpsr = df.cpsr.astype(int)\n",
        "  \n",
        "  return df    \n",
        "      \n",
        "def getInformationProgram():\n",
        "  \n",
        "  def calculateLTRegRead(read):\n",
        "    for reg in registers:\n",
        "      if reg in read:\n",
        "        lifetime[reg]+=index-values[reg]\n",
        "        values[reg]=index\n",
        "      \n",
        "  def calculateLTRegWritten(written):\n",
        "    for reg in registers:\n",
        "      if reg in written:\n",
        "        values[reg]=index\n",
        "        \n",
        "\n",
        "  memoryAccess = 0\n",
        "  memoryRead = 0\n",
        "  memoryWrite = 0\n",
        "  \n",
        "  lifetime = {}\n",
        "  values = {}\n",
        "  for i in registers:\n",
        "    values[i] = 0\n",
        "    lifetime[i] = 0\n",
        "\n",
        "  index = 0\n",
        "  for row in df.itertuples(index=True, name=\"line\"):\n",
        "    instr = row[1]\n",
        "    index = row[0]\n",
        "    \n",
        "    setInstructions.add(instr)\n",
        "    condMatch = re.search(doInstr,instr)\n",
        "    if(condMatch and (instr not in exInstr)):\n",
        "      setCond.add(instr)\n",
        "      if not executedInstr(condMatch.group(0), row[4]):\n",
        "        continue\n",
        "    if(re.match(writeReadInstr,instr)): # Write Read\n",
        "      setWR.add(instr)\n",
        "      calculateLTRegRead(row[3])\n",
        "      calculateLTRegWritten(row[2])\n",
        "    elif(re.match(readReadInstr,instr)): # Read Read\n",
        "      setRR.add(instr)\n",
        "      calculateLTRegRead(row[2])\n",
        "      calculateLTRegRead(row[3])\n",
        "    elif(re.match(ldm,instr)): # Read Write (ldm)\n",
        "      setRW.add(instr)\n",
        "      calculateLTRegRead(row[2])\n",
        "      calculateLTRegWritten(row[3])\n",
        "    else:\n",
        "      setIgnoredInstr.add(instr)\n",
        "\n",
        "    if(re.match(memoryAccesInstr,instr)):\n",
        "      memoryAccess += 1\n",
        "      setMemory.add(instr)\n",
        "      if(re.match(memoryReadInstr,instr)): \n",
        "        memoryRead += 1\n",
        "        setMemoryRead.add(instr)\n",
        "      if(re.match(memoryWriteInstr,instr)):\n",
        "        memoryWrite += 1\n",
        "        setMemoryWrite.add(instr)\n",
        "        \n",
        "  return lifetime, memoryAccess, memoryRead, memoryWrite"
      ],
      "execution_count": 6,
      "outputs": []
    },
    {
      "cell_type": "code",
      "metadata": {
        "id": "tHvGYH9NZfJY"
      },
      "source": [
        "def getCoverage(folder, info_db):\n",
        "\n",
        "  rf_sdc = 0.0\n",
        "  rf_hang = 0.0\n",
        "\n",
        "  sdc_fields = [\"r0_sdc\",\"r1_sdc\",\"r2_sdc\",\"r3_sdc\",\"r4_sdc\",\"r5_sdc\",\"r6_sdc\",\"r7_sdc\",\"r8_sdc\",\"r9_sdc\",\"r10_sdc\",\"r11_sdc\",\"r12_sdc\",\"sp_sdc\",\"lr_sdc\",\"pc_sdc\"]\n",
        "  hang_fields = [\"r0_hang\",\"r1_hang\",\"r2_hang\",\"r3_hang\",\"r4_hang\",\"r5_hang\",\"r6_hang\",\"r7_hang\",\"r8_hang\",\"r9_hang\",\"r10_hang\",\"r11_hang\",\"r12_hang\",\"sp_hang\",\"lr_hang\",\"pc_hang\"]\n",
        "\n",
        "  #Search actual individual in the info df\n",
        "  ind_df = info_db.loc[info_db['ind'] == folder]\n",
        "\n",
        "  for field in sdc_fields:\n",
        "    rf_sdc += ind_df[field].values[0]\n",
        "\n",
        "  for field in hang_fields:\n",
        "    rf_hang += ind_df[field].values[0]\n",
        "\n",
        "  rf_sdc = rf_sdc/16\n",
        "  rf_hang = rf_hang/16\n",
        "\n",
        "  return rf_sdc, rf_hang\n"
      ],
      "execution_count": 9,
      "outputs": []
    },
    {
      "cell_type": "code",
      "metadata": {
        "id": "rk3vvN-Q8MMZ"
      },
      "source": [
        "# ruta = \"/content/drive/Shareddrives/NN4FT_DB/heapsort_110/heapsort_110_db_info.csv\"\n",
        "# df = pd.read_csv(ruta, sep=\",\")\n",
        "# # print(df.shape)\n",
        "# # ind = \"d3ea90595e0ebcdc306ccacc1f2c455c01b4691b\"\n",
        "# # ind = \"05148b1a539450830030fffdd56c026909c45855\"\n",
        "# ind = \"188f92a279216a73742764e0cbcd6b3a35d5e3c4\"\n",
        "# row_df = df.loc[df['ind'] == ind]\n",
        "# # row_df[\"r0_sdc\"].values[0]\n",
        "# row_df[\"text_size\"].values\n"
      ],
      "execution_count": null,
      "outputs": []
    },
    {
      "cell_type": "code",
      "metadata": {
        "id": "D67r0Gcnq6yw"
      },
      "source": [
        "def getSizePrograms(folder, info_db):\n",
        "  \n",
        "  #Search actual individual in the info df\n",
        "  ind_df = info_db.loc[info_db['ind'] == folder]\n",
        "\n",
        "  text_size = ind_df['text_size'].values[0]\n",
        "  data_size = ind_df['data_size'].values[0]\n",
        "  bss_size = ind_df['bss_size'].values[0]\n",
        "  stack_size = ind_df['stack_size'].values[0]\n",
        "\n",
        "  return text_size, data_size, bss_size, stack_size"
      ],
      "execution_count": 10,
      "outputs": []
    }
  ]
}