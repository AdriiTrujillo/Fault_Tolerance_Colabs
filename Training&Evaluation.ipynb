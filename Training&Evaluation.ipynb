{
  "nbformat": 4,
  "nbformat_minor": 0,
  "metadata": {
    "colab": {
      "name": "Training&Evaluation.ipynb",
      "provenance": [],
      "collapsed_sections": [],
      "toc_visible": true,
      "authorship_tag": "ABX9TyOnZAs7T/pVdEcqxxm83sTa",
      "include_colab_link": true
    },
    "kernelspec": {
      "name": "python3",
      "display_name": "Python 3"
    }
  },
  "cells": [
    {
      "cell_type": "markdown",
      "metadata": {
        "id": "view-in-github",
        "colab_type": "text"
      },
      "source": [
        "<a href=\"https://colab.research.google.com/github/AdriiTrujillo/Fault_Tolerance_Colabs/blob/main/Training%26Evaluation.ipynb\" target=\"_parent\"><img src=\"https://colab.research.google.com/assets/colab-badge.svg\" alt=\"Open In Colab\"/></a>"
      ]
    },
    {
      "cell_type": "markdown",
      "metadata": {
        "id": "yIwoPXkiKzLS"
      },
      "source": [
        "# DEEP FORWARD NEURAL NETWORK"
      ]
    },
    {
      "cell_type": "code",
      "metadata": {
        "id": "6gbj6_Y060Px"
      },
      "source": [
        "# Imports y permisos\r\n",
        "\r\n",
        "%matplotlib inline\r\n",
        "import matplotlib.pyplot as plt\r\n",
        "import sklearn\r\n",
        "import pandas as pd\r\n",
        "import numpy as np\r\n",
        "import re\r\n",
        "import sys\r\n",
        "\r\n",
        "import os\r\n",
        "from pydrive.auth import GoogleAuth\r\n",
        "from pydrive.drive import GoogleDrive\r\n",
        "from google.colab import auth, files\r\n",
        "from oauth2client.client import GoogleCredentials\r\n",
        "\r\n",
        "from keras.constraints import maxnorm\r\n",
        "from keras.models import Sequential\r\n",
        "from keras.models import load_model, Model\r\n",
        "from keras.models import model_from_json\r\n",
        "from keras.layers import Dense, Dropout, Activation, Input\r\n",
        "from keras.callbacks import EarlyStopping,ModelCheckpoint\r\n",
        "from sklearn.model_selection import GridSearchCV\r\n",
        "from sklearn.model_selection import RandomizedSearchCV\r\n",
        "from keras.wrappers.scikit_learn import KerasRegressor\r\n",
        "from sklearn.model_selection import KFold\r\n",
        "from keras import applications\r\n",
        "from keras import optimizers\r\n",
        "from sklearn.model_selection import train_test_split\r\n",
        "from sklearn import preprocessing"
      ],
      "execution_count": 2,
      "outputs": []
    },
    {
      "cell_type": "code",
      "metadata": {
        "colab": {
          "base_uri": "https://localhost:8080/"
        },
        "id": "WAw4p9vAJ3Wa",
        "outputId": "619f3d73-e1bd-4a5d-cee8-c1af8705724f"
      },
      "source": [
        "from google.colab import drive\r\n",
        "drive.mount('/content/drive')"
      ],
      "execution_count": 3,
      "outputs": [
        {
          "output_type": "stream",
          "text": [
            "Mounted at /content/drive\n"
          ],
          "name": "stdout"
        }
      ]
    },
    {
      "cell_type": "markdown",
      "metadata": {
        "id": "s9zp0cubK-uP"
      },
      "source": [
        "## RED1 EXTREMOS"
      ]
    },
    {
      "cell_type": "markdown",
      "metadata": {
        "id": "RnWLPCh9Lbp8"
      },
      "source": [
        "### DATOS ENTRENAMIENTO\r\n"
      ]
    },
    {
      "cell_type": "code",
      "metadata": {
        "id": "rCJkXs-3PYM7",
        "colab": {
          "base_uri": "https://localhost:8080/"
        },
        "outputId": "ad94bff5-6732-4ce8-9044-284b1dafc963"
      },
      "source": [
        "# Obtención de los datasets de entrenamiento \r\n",
        "bubblesort_path = '/content/drive/Shareddrives/NN4FT_DB/Exp_Adrian/Data Frames/TAREA_2/bubblesort-score.csv'\r\n",
        "dijkstra_path = '/content/drive/Shareddrives/NN4FT_DB/Exp_Adrian/Data Frames/TAREA_2/dijstra-score.csv'\r\n",
        "ndes_path = '/content/drive/Shareddrives/NN4FT_DB/Exp_Adrian/Data Frames/TAREA_2/ndes-score.csv'\r\n",
        "\r\n",
        "\r\n",
        "bubblesort_df = pd.read_csv(bubblesort_path, sep=\";\")\r\n",
        "print(\"bubblesort_df: \", bubblesort_df.shape)\r\n",
        "\r\n",
        "dijkstra_df = pd.read_csv(dijkstra_path, sep=\";\")\r\n",
        "print(\"dijkstra_df: \", dijkstra_df.shape)\r\n",
        "\r\n",
        "ndes_df = pd.read_csv(ndes_path, sep=\";\")\r\n",
        "print(\"ndes_df: \", ndes_df.shape)\r\n",
        "\r\n",
        "# Obtención de los datos de entrenamiento\r\n",
        "\r\n",
        "bubblesort_Xdata = bubblesort_df[[\"time\", \"size\"]].values\r\n",
        "bubblesort_Ydata = bubblesort_df[[\"hang\", \"sdc\"]].values\r\n",
        "\r\n",
        "print(\"bubblesort_Xdata: \", bubblesort_Xdata.shape)\r\n",
        "\r\n",
        "dijkstra_Xdata = dijkstra_df[[\"time\", \"size\"]].values\r\n",
        "dijkstra_Ydata = dijkstra_df[[\"hang\", \"sdc\"]].values\r\n",
        "\r\n",
        "print(\"dijkstra_Xdata: \", dijkstra_Xdata.shape)\r\n",
        "\r\n",
        "ndes_Xdata = ndes_df[[\"time\", \"size\"]].values\r\n",
        "ndes_Ydata = ndes_df[[\"hang\", \"sdc\"]].values\r\n",
        "\r\n",
        "print(\"ndes_Xdata: \", ndes_Xdata.shape)\r\n",
        "\r\n",
        "x_data = np.concatenate((bubblesort_Xdata, dijkstra_Xdata, ndes_Xdata), axis=0)\r\n",
        "y_data = np.concatenate((bubblesort_Ydata, dijkstra_Ydata, ndes_Ydata), axis=0)\r\n",
        "\r\n",
        "# Escalado de los datos utilizados \r\n",
        "y_data = y_data/100 # Se deja en tanto por 1 [0,1)\r\n",
        "scaler = preprocessing.StandardScaler() #Values with mean=0 and standard deviation=1\r\n",
        "x_data = scaler.fit_transform(x_data) \r\n",
        "\r\n",
        "print(\"x_data: \", x_data.shape)\r\n",
        "print(\"y_data: \", y_data.shape)"
      ],
      "execution_count": 4,
      "outputs": [
        {
          "output_type": "stream",
          "text": [
            "bubblesort_df:  (686, 6)\n",
            "dijkstra_df:  (92, 6)\n",
            "ndes_df:  (592, 6)\n",
            "bubblesort_Xdata:  (686, 2)\n",
            "dijkstra_Xdata:  (92, 2)\n",
            "ndes_Xdata:  (592, 2)\n",
            "x_data:  (1370, 2)\n",
            "y_data:  (1370, 2)\n"
          ],
          "name": "stdout"
        }
      ]
    },
    {
      "cell_type": "markdown",
      "metadata": {
        "id": "yf9V0h3KLes2"
      },
      "source": [
        "### DATOS DE TEST"
      ]
    },
    {
      "cell_type": "code",
      "metadata": {
        "id": "QNmqR8GVNBVa",
        "colab": {
          "base_uri": "https://localhost:8080/"
        },
        "outputId": "a90d34b5-2283-44d9-a18f-e3e057962488"
      },
      "source": [
        "# Obtención de los datasets de test\r\n",
        "bubblesort_test_path = '/content/drive/Shareddrives/NN4FT_DB/Exp_Adrian/Data Frames/TAREA_2/bubblesort-test.csv'\r\n",
        "dijkstra_test_path = '/content/drive/Shareddrives/NN4FT_DB/Exp_Adrian/Data Frames/TAREA_2/dijstra-test.csv'\r\n",
        "ndes_test_path = '/content/drive/Shareddrives/NN4FT_DB/Exp_Adrian/Data Frames/TAREA_2/ndes-test.csv'\r\n",
        "\r\n",
        "bubblesort_test_df = pd.read_csv(bubblesort_test_path, sep=\";\")\r\n",
        "print(\"bubblesort_test_df: \", bubblesort_test_df.shape)\r\n",
        "\r\n",
        "dijkstra_test_df = pd.read_csv(dijkstra_test_path, sep=\";\")\r\n",
        "print(\"dijkstra_test_df: \", dijkstra_test_df.shape)\r\n",
        "\r\n",
        "ndes_test_df = pd.read_csv(ndes_test_path, sep=\";\")\r\n",
        "print(\"ndes_test_df: \", ndes_test_df.shape)\r\n",
        "\r\n",
        "# Obtención de los datos de test\r\n",
        "\r\n",
        "bubblesort_test_Xdata = bubblesort_test_df[[\"time\", \"size\"]].values\r\n",
        "bubblesort_test_Ydata = bubblesort_test_df[[\"hang\", \"sdc\"]].values\r\n",
        "\r\n",
        "print(\"bubblesort_test_Xdata: \", bubblesort_test_Xdata.shape)\r\n",
        "\r\n",
        "dijkstra_test_Xdata = dijkstra_test_df[[\"time\", \"size\"]].values\r\n",
        "dijkstra_test_Ydata = dijkstra_test_df[[\"hang\", \"sdc\"]].values\r\n",
        "\r\n",
        "print(\"dijkstra_test_Xdata: \", dijkstra_test_Xdata.shape)\r\n",
        "\r\n",
        "ndes_test_Xdata = ndes_test_df[[\"time\", \"size\"]].values\r\n",
        "ndes_test_Ydata = ndes_test_df[[\"hang\", \"sdc\"]].values\r\n",
        "\r\n",
        "print(\"ndes_test_Xdata: \", ndes_test_Xdata.shape)\r\n",
        "\r\n",
        "x_test = np.concatenate((bubblesort_test_Xdata, dijkstra_test_Xdata, ndes_test_Xdata), axis=0)\r\n",
        "y_test = np.concatenate((bubblesort_test_Ydata, dijkstra_test_Ydata, ndes_test_Ydata), axis=0)\r\n",
        "\r\n",
        "# Se realiza un escalado de los datos\r\n",
        "y_test = y_test/100 # datos en tanto por 1 [0,1)\r\n",
        "scaler = preprocessing.StandardScaler() #Values with mean=0 and standard deviation=1\r\n",
        "x_test = scaler.fit_transform(x_test)\r\n",
        "\r\n",
        "print(\"x_test: \", x_test.shape)\r\n",
        "print(\"y_test: \", y_test.shape)"
      ],
      "execution_count": 5,
      "outputs": [
        {
          "output_type": "stream",
          "text": [
            "bubblesort_test_df:  (123, 6)\n",
            "dijkstra_test_df:  (16, 6)\n",
            "ndes_test_df:  (107, 6)\n",
            "bubblesort_test_Xdata:  (123, 2)\n",
            "dijkstra_test_Xdata:  (16, 2)\n",
            "ndes_test_Xdata:  (107, 2)\n",
            "x_test:  (246, 2)\n",
            "y_test:  (246, 2)\n"
          ],
          "name": "stdout"
        }
      ]
    },
    {
      "cell_type": "markdown",
      "metadata": {
        "id": "4P30jWagLuI5"
      },
      "source": [
        "### ENTRENAMIENTO NORMAL"
      ]
    },
    {
      "cell_type": "code",
      "metadata": {
        "id": "MrHhm3DzOmkw"
      },
      "source": [
        "# Declarar el modelo a utilizar antes de correr esta celda\n",
        "model = nn_model2()\n",
        "model.fit(x=x_data, y=y_data, validation_data=(x_test, y_test), batch_size=16, epochs=400, verbose=2)\n",
        "pesos = 'red1_extremos.hdf5'\n",
        "model.save_weights(pesos)\n",
        " \n",
        "# Resultado de la red para ver que tal ha funcionado el entrenamiento\n",
        "scores = model.evaluate(x_test, y_test, verbose=0)\n",
        "print(\"Precision: \", scores[1]*100, \"%\")\n",
        "print(\"Error medio absoluto: \", scores[0])"
      ],
      "execution_count": null,
      "outputs": []
    },
    {
      "cell_type": "code",
      "metadata": {
        "id": "XzIo570HPK6B"
      },
      "source": [
        "# Correr esta celda para guardar los pesos en la carpeta del Drive\n",
        "import shutil\n",
        "save_path = '/content/drive/Shareddrives/NN4FT_DB/Exp_Adrian/Redes Entrenadas'\n",
        " \n",
        "ruta = shutil.move(pesos, save_path)"
      ],
      "execution_count": 10,
      "outputs": []
    },
    {
      "cell_type": "markdown",
      "metadata": {
        "id": "1pMuvOxoNCQ0"
      },
      "source": [
        "### ENTRENAMIENTO CUSTOM"
      ]
    },
    {
      "cell_type": "code",
      "metadata": {
        "id": "rRQXDohLNGJY"
      },
      "source": [
        "# Declarar el modelo a utilizar antes de correr esta celda\n",
        "# Con los parametros optimizados\n",
        "\n",
        "model = # MODELO NUEVO AQUÍ                                           \n",
        "model.fit(x=x_data, y=y_data, validation_data=(x_test, y_test), batch_size=16, epochs= \"\"\" EPOCAS NUEVAS AQUÍ \"\"\" , verbose=2)\n",
        "pesos = 'red1_extremos_custom.hdf5'\n",
        "model.save_weights(pesos)\n",
        " \n",
        "# Resultado de la red para ver que tal ha funcionado el entrenamiento\n",
        "scores = model.evaluate(x_test, y_test, verbose=0)\n",
        "print(\"Precision: \", scores[1]*100, \"%\")\n",
        "print(\"Error medio absoluto: \", scores[0])"
      ],
      "execution_count": null,
      "outputs": []
    },
    {
      "cell_type": "code",
      "metadata": {
        "id": "O1AI77mbNGJZ"
      },
      "source": [
        "# Correr esta celda para guardar los pesos en la carpeta del Drive\n",
        "import shutil\n",
        "save_path = '/content/drive/Shareddrives/NN4FT_DB/Exp_Adrian/Redes Entrenadas'\n",
        " \n",
        "ruta = shutil.move(pesos, save_path)"
      ],
      "execution_count": null,
      "outputs": []
    },
    {
      "cell_type": "markdown",
      "metadata": {
        "id": "3m5AP1GcLpVX"
      },
      "source": [
        "### EVALUACIÓN"
      ]
    },
    {
      "cell_type": "code",
      "metadata": {
        "id": "56SuZUF7PhGp",
        "colab": {
          "base_uri": "https://localhost:8080/"
        },
        "outputId": "d122c4e7-8c0c-4415-fa5e-47f58bd6839f"
      },
      "source": [
        "nn_path = '/content/drive/Shareddrives/NN4FT_DB/Exp_Adrian/Redes Entrenadas/red1_extremos.hdf5'\r\n",
        "\r\n",
        "# Declarar el modelo a utilizar antes de correr esta celda\r\n",
        "model = nn_model()\r\n",
        "model.load_weights(nn_path)\r\n",
        "\r\n",
        "# Correr la red nueronal\r\n",
        "print('Corriendo la red ... ')\r\n",
        "scores = model.evaluate(x_test, y_test, verbose=0)\r\n",
        "print(\"Precision: \", scores[1]*100, \"%\")\r\n",
        "print(\"Error medio absoluto: \", scores[0])"
      ],
      "execution_count": 11,
      "outputs": [
        {
          "output_type": "stream",
          "text": [
            "Corriendo la red ... \n",
            "Precision:  90.65040946006775 %\n",
            "Error medio absoluto:  0.014894504100084305\n"
          ],
          "name": "stdout"
        }
      ]
    },
    {
      "cell_type": "code",
      "metadata": {
        "id": "LlrHtBowup13",
        "colab": {
          "base_uri": "https://localhost:8080/"
        },
        "outputId": "adb4b84f-5548-4001-8f74-d7534ce8e492"
      },
      "source": [
        "# Resultados [SDC, HANG] que obtiene la red para las entradas dadas\r\n",
        "y_predict = model.predict(x_test)\r\n",
        "\r\n",
        "# Error absoluto de las predicciones \r\n",
        "errores = np.abs(y_test-model.predict(x_test))\r\n",
        "\r\n",
        "# Error medio absoluto obtenido en las predicciones \r\n",
        "mean_error = np.abs(y_test-model.predict(x_test)).mean(axis=0)\r\n",
        "\r\n",
        "# Caulcular los resultados para UnAce\r\n",
        "unAce_predict = 1 - (y_predict[:,0] + y_predict[:,1])\r\n",
        "unAce_real = 1 - (y_test[:,0] + y_test[:,1])\r\n",
        "\r\n",
        "unAce_error = np.abs(unAce_real - unAce_predict)\r\n",
        "unAce_MAE = np.abs(unAce_real - unAce_predict).mean(axis=0)\r\n",
        "\r\n",
        "print('Error medio absoluto (FT) :')\r\n",
        "print('SDC -->', mean_error[0])\r\n",
        "print('HANG -->', mean_error[1])\r\n",
        "print('UnAce -->', unAce_MAE)"
      ],
      "execution_count": 12,
      "outputs": [
        {
          "output_type": "stream",
          "text": [
            "Error medio absoluto (FT) :\n",
            "SDC --> 0.014262375741822401\n",
            "HANG --> 0.01552663199698697\n",
            "UnAce --> 0.005688799046781036\n"
          ],
          "name": "stdout"
        }
      ]
    },
    {
      "cell_type": "code",
      "metadata": {
        "id": "h_tn1f6m16X9",
        "colab": {
          "base_uri": "https://localhost:8080/",
          "height": 1000
        },
        "outputId": "97bdb22b-eb3d-46ec-a56e-2201f7ba74ce"
      },
      "source": [
        "# Dibuja todas las graficas de los datos de HANG y SDC\r\n",
        "dibujar_Graficas(y_predict, y_test, errores)\r\n",
        "# Dibuja todas las graficas de los datos de unAce\r\n",
        "graficas_UnAce(y_predict, y_test, errores, unAce_real, unAce_predict, unAce_error)"
      ],
      "execution_count": 19,
      "outputs": [
        {
          "output_type": "display_data",
          "data": {
            "image/png": "[encoded data removed]",
            "text/plain": [
              "<Figure size 432x288 with 1 Axes>"
            ]
          },
          "metadata": {
            "tags": [],
            "needs_background": "light"
          }
        },
        {
          "output_type": "stream",
          "text": [
            "\n",
            "\n"
          ],
          "name": "stdout"
        },
        {
          "output_type": "display_data",
          "data": {
            "image/png": "[encoded data removed]",
            "text/plain": [
              "<Figure size 432x288 with 1 Axes>"
            ]
          },
          "metadata": {
            "tags": [],
            "needs_background": "light"
          }
        },
        {
          "output_type": "stream",
          "text": [
            "\n",
            "\n"
          ],
          "name": "stdout"
        },
        {
          "output_type": "display_data",
          "data": {
            "image/png": "[encoded data removed]",
            "text/plain": [
              "<Figure size 432x288 with 1 Axes>"
            ]
          },
          "metadata": {
            "tags": [],
            "needs_background": "light"
          }
        },
        {
          "output_type": "stream",
          "text": [
            "\n",
            "\n"
          ],
          "name": "stdout"
        },
        {
          "output_type": "display_data",
          "data": {
            "image/png": "[encoded data removed]",
            "text/plain": [
              "<Figure size 432x288 with 1 Axes>"
            ]
          },
          "metadata": {
            "tags": [],
            "needs_background": "light"
          }
        },
        {
          "output_type": "stream",
          "text": [
            "\n",
            "\n"
          ],
          "name": "stdout"
        },
        {
          "output_type": "display_data",
          "data": {
            "image/png": "[encoded data removed]",
            "text/plain": [
              "<Figure size 432x288 with 1 Axes>"
            ]
          },
          "metadata": {
            "tags": [],
            "needs_background": "light"
          }
        },
        {
          "output_type": "stream",
          "text": [
            "\n",
            "\n"
          ],
          "name": "stdout"
        },
        {
          "output_type": "display_data",
          "data": {
            "image/png": "[encoded data removed]",
            "text/plain": [
              "<Figure size 432x288 with 1 Axes>"
            ]
          },
          "metadata": {
            "tags": [],
            "needs_background": "light"
          }
        },
        {
          "output_type": "stream",
          "text": [
            "\n",
            "\n"
          ],
          "name": "stdout"
        },
        {
          "output_type": "display_data",
          "data": {
            "image/png": "[encoded data removed]",
            "text/plain": [
              "<Figure size 432x288 with 1 Axes>"
            ]
          },
          "metadata": {
            "tags": [],
            "needs_background": "light"
          }
        },
        {
          "output_type": "stream",
          "text": [
            "\n",
            "\n"
          ],
          "name": "stdout"
        },
        {
          "output_type": "display_data",
          "data": {
            "image/png": "[encoded data removed]",
            "text/plain": [
              "<Figure size 432x288 with 1 Axes>"
            ]
          },
          "metadata": {
            "tags": [],
            "needs_background": "light"
          }
        },
        {
          "output_type": "stream",
          "text": [
            "\n",
            "\n"
          ],
          "name": "stdout"
        },
        {
          "output_type": "display_data",
          "data": {
            "image/png": "[encoded data removed]",
            "text/plain": [
              "<Figure size 432x288 with 1 Axes>"
            ]
          },
          "metadata": {
            "tags": [],
            "needs_background": "light"
          }
        },
        {
          "output_type": "stream",
          "text": [
            "\n",
            "\n"
          ],
          "name": "stdout"
        }
      ]
    },
    {
      "cell_type": "markdown",
      "metadata": {
        "id": "YYF6cBvzQLoY"
      },
      "source": [
        "### GUARDADO DE LOS RESULTADOS"
      ]
    },
    {
      "cell_type": "code",
      "metadata": {
        "id": "V4TvLlFcvLql"
      },
      "source": [
        "results_path = '/content/drive/Shareddrives/NN4FT_DB/Exp_Adrian/Resultados/'\r\n",
        "\r\n",
        "csv = 'red1_extremos.csv' # ENTRADA DEL USUARIO\r\n",
        "with open(results_path + csv, \"w\") as f:\r\n",
        "  f.write('SDC_Real;HANG_Real;UnAce_Real;SDC_Predicho;HANG_Predicho;UnAce_Predicho;error_SDC;error_HANG;error_UnAce\\n')\r\n",
        "  f.close()\r\n",
        "\r\n",
        "string = \"\"\r\n",
        "\r\n",
        "for i in range(y_test.shape[0]):\r\n",
        "  string += (str(y_test[i,0]) + \";\" + str(y_test[i,1]) + \";\" + str(unAce_real[i]) + \";\"\r\n",
        "            + str(y_predict[i,0]) + \";\" + str(y_predict[i,1]) + \";\" + str(unAce_predict[i]) + \";\"\r\n",
        "            + str(errores[i,0]) + \";\" + str(errores[i,1]) + \";\" + str(unAce_error[i]) + \"\\n\")\r\n",
        "  \r\n",
        "  \r\n",
        "with open(results_path + csv, \"a\") as f:\r\n",
        "  f.write(string)\r\n",
        "  f.close()\r\n",
        "  "
      ],
      "execution_count": 23,
      "outputs": []
    },
    {
      "cell_type": "markdown",
      "metadata": {
        "id": "_YZQm5llK_ML"
      },
      "source": [
        "## RED2 EXTREMOS"
      ]
    },
    {
      "cell_type": "markdown",
      "metadata": {
        "id": "-WcnrAdvLjuR"
      },
      "source": [
        "### DATOS ENTRENAMIENTO\r\n"
      ]
    },
    {
      "cell_type": "code",
      "metadata": {
        "id": "eoipYT7zRQeS",
        "colab": {
          "base_uri": "https://localhost:8080/"
        },
        "outputId": "7c8f0c7c-c5f3-488b-cd46-5a5fc1e41521"
      },
      "source": [
        "# Obtención de los datasets de entrenamiento \r\n",
        "bubblesort_path = '/content/drive/Shareddrives/NN4FT_DB/Exp_Adrian/Data Frames/TAREA_2/bubblesort-score.csv'\r\n",
        "ndes_path = '/content/drive/Shareddrives/NN4FT_DB/Exp_Adrian/Data Frames/TAREA_2/ndes-score.csv'\r\n",
        "\r\n",
        "bubblesort_df = pd.read_csv(bubblesort_path, sep=\";\")\r\n",
        "print(\"bubblesort_df: \", bubblesort_df.shape)\r\n",
        "\r\n",
        "ndes_df = pd.read_csv(ndes_path, sep=\";\")\r\n",
        "print(\"ndes_df: \", ndes_df.shape)\r\n",
        "\r\n",
        "# Obtención de los datos de entrenamiento\r\n",
        "\r\n",
        "bubblesort_Xdata = bubblesort_df[[\"time\", \"size\"]].values\r\n",
        "bubblesort_Ydata = bubblesort_df[[\"hang\", \"sdc\"]].values\r\n",
        "\r\n",
        "print(\"bubblesort_Xdata: \", bubblesort_Xdata.shape)\r\n",
        "\r\n",
        "ndes_Xdata = ndes_df[[\"time\", \"size\"]].values\r\n",
        "ndes_Ydata = ndes_df[[\"hang\", \"sdc\"]].values\r\n",
        "\r\n",
        "print(\"ndes_Xdata: \", ndes_Xdata.shape)\r\n",
        "\r\n",
        "x_data = np.concatenate((bubblesort_Xdata, ndes_Xdata), axis=0)\r\n",
        "y_data = np.concatenate((bubblesort_Ydata, ndes_Ydata), axis=0)\r\n",
        "\r\n",
        "# Escalado de los datos utilizados \r\n",
        "y_data = y_data/100 # Se deja en tanto por 1 [0,1)\r\n",
        "scaler = preprocessing.StandardScaler() #Values with mean=0 and standard deviation=1\r\n",
        "x_data = scaler.fit_transform(x_data) \r\n",
        "\r\n",
        "print(\"x_data: \", x_data.shape)\r\n",
        "print(\"y_data: \", y_data.shape)"
      ],
      "execution_count": 24,
      "outputs": [
        {
          "output_type": "stream",
          "text": [
            "bubblesort_df:  (686, 6)\n",
            "ndes_df:  (592, 6)\n",
            "bubblesort_Xdata:  (686, 2)\n",
            "ndes_Xdata:  (592, 2)\n",
            "x_data:  (1278, 2)\n",
            "y_data:  (1278, 2)\n"
          ],
          "name": "stdout"
        }
      ]
    },
    {
      "cell_type": "markdown",
      "metadata": {
        "id": "mkF8Df6bLjub"
      },
      "source": [
        "### DATOS DE TEST"
      ]
    },
    {
      "cell_type": "code",
      "metadata": {
        "id": "it0ZLrq0RpWA",
        "colab": {
          "base_uri": "https://localhost:8080/"
        },
        "outputId": "ae8dbe8d-f2aa-42bb-813d-b7665a11e634"
      },
      "source": [
        "# Obtención de los datasets de test\r\n",
        "dijkstra_path = '/content/drive/Shareddrives/NN4FT_DB/Exp_Adrian/Data Frames/TAREA_2/dijkstra_full.csv'\r\n",
        "\r\n",
        "dijkstra_df = pd.read_csv(dijkstra_path, sep=\";\")\r\n",
        "print(\"dijkstra_df: \", dijkstra_df.shape)\r\n",
        "\r\n",
        "# Para obtener el dataset de test se debe indicar un porcentaje del tamaño total (112)\r\n",
        "porcentaje_ind = 75 # Entrada del usuario (Porcentaje)\r\n",
        "num_ind = (len(dijkstra_df)*porcentaje_ind)//100\r\n",
        "print(\"El numero de individuos para la realización de test son: \", num_ind)\r\n",
        "\r\n",
        "dijkstra_test_df = dijkstra_df.sample(num_ind).reset_index(drop=True)\r\n",
        "\r\n",
        "print(\"Tamaño del dataset de Test: \", dijkstra_test_df.shape)\r\n",
        "\r\n",
        "# Obtención de los datos de test\r\n",
        "dijkstra_test_Xdata = dijkstra_test_df[[\"time\", \"size\"]].values\r\n",
        "dijkstra_test_Ydata = dijkstra_test_df[[\"hang\", \"sdc\"]].values\r\n",
        "\r\n",
        "print(\"dijkstra_test_Xdata: \", dijkstra_test_Xdata.shape)\r\n",
        "\r\n",
        "x_test = dijkstra_test_Xdata;\r\n",
        "y_test = dijkstra_test_Ydata;\r\n",
        "\r\n",
        "# Se realiza un escalado de los datos\r\n",
        "y_test = y_test/100 # datos en tanto por 1 [0,1)\r\n",
        "scaler = preprocessing.StandardScaler() #Values with mean=0 and standard deviation=1\r\n",
        "x_test = scaler.fit_transform(x_test)\r\n",
        "\r\n",
        "print(\"x_test: \", x_test.shape)\r\n",
        "print(\"y_test: \", y_test.shape)"
      ],
      "execution_count": 31,
      "outputs": [
        {
          "output_type": "stream",
          "text": [
            "dijkstra_df:  (112, 6)\n",
            "El numero de individuos para la realización de test son:  84\n",
            "Tamaño del dataset de Test:  (84, 6)\n",
            "dijkstra_test_Xdata:  (84, 2)\n",
            "x_test:  (84, 2)\n",
            "y_test:  (84, 2)\n"
          ],
          "name": "stdout"
        }
      ]
    },
    {
      "cell_type": "markdown",
      "metadata": {
        "id": "YnnDcASALx2S"
      },
      "source": [
        "### ENTRENAMIENTO NORMAL"
      ]
    },
    {
      "cell_type": "code",
      "metadata": {
        "id": "_IjdcIBiTH3I"
      },
      "source": [
        "# Declarar el modelo a utilizar antes de correr esta celda\r\n",
        "model = nn_model2()\r\n",
        "model.fit(x=x_data, y=y_data, validation_data=(x_test, y_test), batch_size=16, epochs=400, verbose=2)\r\n",
        "pesos = 'red2_extremos.hdf5'\r\n",
        "model.save_weights(pesos)\r\n",
        "\r\n",
        "# Resultado de la red para ver que tal ha funcionado el entrenamiento\r\n",
        "scores = model.evaluate(x_test, y_test, verbose=0)\r\n",
        "print(\"Precision: \", scores[1]*100, \"%\")\r\n",
        "print(\"Error medio absoluto: \", scores[0])"
      ],
      "execution_count": null,
      "outputs": []
    },
    {
      "cell_type": "code",
      "metadata": {
        "id": "Ku5xoOyxTH3M"
      },
      "source": [
        "# Correr esta celda para guardar los pesos en la carpeta del Drive\n",
        "import shutil\n",
        "save_path = '/content/drive/Shareddrives/NN4FT_DB/Exp_Adrian/Redes Entrenadas'\n",
        " \n",
        "ruta = shutil.move(pesos, save_path)"
      ],
      "execution_count": 33,
      "outputs": []
    },
    {
      "cell_type": "markdown",
      "metadata": {
        "id": "wk13wlIrNjIQ"
      },
      "source": [
        "### ENTRENAMIENTO CUSTOM"
      ]
    },
    {
      "cell_type": "code",
      "metadata": {
        "id": "bteSu3XwNwHS"
      },
      "source": [
        "# Declarar el modelo a utilizar antes de correr esta celda\n",
        "# Con los parametros optimizados\n",
        "\n",
        "model = # MODELO NUEVO AQUÍ                                           \n",
        "model.fit(x=x_data, y=y_data, validation_data=(x_test, y_test), batch_size=16, epochs= \"\"\" EPOCAS NUEVAS AQUÍ \"\"\" , verbose=2)\n",
        "pesos = 'red1_extremos_custom.hdf5'\n",
        "model.save_weights(pesos)\n",
        " \n",
        "# Resultado de la red para ver que tal ha funcionado el entrenamiento\n",
        "scores = model.evaluate(x_test, y_test, verbose=0)\n",
        "print(\"Precision: \", scores[1]*100, \"%\")\n",
        "print(\"Error medio absoluto: \", scores[0])"
      ],
      "execution_count": null,
      "outputs": []
    },
    {
      "cell_type": "code",
      "metadata": {
        "id": "jyDMBYQpNwHT"
      },
      "source": [
        "# Correr esta celda para guardar los pesos en la carpeta del Drive\n",
        "import shutil\n",
        "save_path = '/content/drive/Shareddrives/NN4FT_DB/Exp_Adrian/Redes Entrenadas'\n",
        " \n",
        "ruta = shutil.move(pesos, save_path)"
      ],
      "execution_count": null,
      "outputs": []
    },
    {
      "cell_type": "markdown",
      "metadata": {
        "id": "LK_EPmEBLx2S"
      },
      "source": [
        "### EVALUACIÓN"
      ]
    },
    {
      "cell_type": "code",
      "metadata": {
        "id": "DEBhPCXtTc36",
        "colab": {
          "base_uri": "https://localhost:8080/"
        },
        "outputId": "024cf271-8be3-46ca-ddf0-6f836dfc210f"
      },
      "source": [
        "nn_path = '/content/drive/Shareddrives/NN4FT_DB/Exp_Adrian/Redes Entrenadas/red2_extremos.hdf5'\r\n",
        "\r\n",
        "# Declarar el modelo a utilizar antes de correr esta celda\r\n",
        "model = nn_model()\r\n",
        "model.load_weights(nn_path)\r\n",
        "\r\n",
        "# Correr la red nueronal\r\n",
        "print('Corriendo la red ... ')\r\n",
        "scores = model.evaluate(x_test, y_test, verbose=0)\r\n",
        "print(\"Precision: \", scores[1]*100, \"%\")\r\n",
        "print(\"Error medio absoluto: \", scores[0])"
      ],
      "execution_count": 34,
      "outputs": [
        {
          "output_type": "stream",
          "text": [
            "Corriendo la red ... \n",
            "Precision:  34.52380895614624 %\n",
            "Error medio absoluto:  0.06598719954490662\n"
          ],
          "name": "stdout"
        }
      ]
    },
    {
      "cell_type": "code",
      "metadata": {
        "id": "dFWAm49CTc4K",
        "colab": {
          "base_uri": "https://localhost:8080/"
        },
        "outputId": "4536cf94-1ff1-47e4-96d5-36629ff8146b"
      },
      "source": [
        "# Resultados [SDC, HANG] que obtiene la red para las entradas dadas\r\n",
        "y_predict = model.predict(x_test)\r\n",
        "\r\n",
        "# Error absoluto de las predicciones \r\n",
        "errores = np.abs(y_test-model.predict(x_test))\r\n",
        "\r\n",
        "# Error medio absoluto obtenido en las predicciones \r\n",
        "mean_error = np.abs(y_test-model.predict(x_test)).mean(axis=0)\r\n",
        "\r\n",
        "# Caulcular los resultados para UnAce\r\n",
        "unAce_predict = 1 - (y_predict[:,0] + y_predict[:,1])\r\n",
        "unAce_real = 1 - (y_test[:,0] + y_test[:,1])\r\n",
        "\r\n",
        "unAce_error = np.abs(unAce_real - unAce_predict)\r\n",
        "unAce_MAE = np.abs(unAce_real - unAce_predict).mean(axis=0)\r\n",
        "\r\n",
        "print('Error medio absoluto (FT) :')\r\n",
        "print('SDC -->', mean_error[0])\r\n",
        "print('HANG -->', mean_error[1])\r\n",
        "print('UnAce -->', unAce_MAE)"
      ],
      "execution_count": 35,
      "outputs": [
        {
          "output_type": "stream",
          "text": [
            "Error medio absoluto (FT) :\n",
            "SDC --> 0.06228382667595327\n",
            "HANG --> 0.06969058755038031\n",
            "UnAce --> 0.0108575885762135\n"
          ],
          "name": "stdout"
        }
      ]
    },
    {
      "cell_type": "code",
      "metadata": {
        "id": "LTcxhu_BTc4M",
        "colab": {
          "base_uri": "https://localhost:8080/",
          "height": 1000
        },
        "outputId": "880692c0-edf3-4994-c6d5-e9bb171781c3"
      },
      "source": [
        "# Dibuja todas las graficas de los datos de HANG y SDC\r\n",
        "dibujar_Graficas(y_predict, y_test, errores)\r\n",
        "# Dibuja todas las graficas de los datos de unAce\r\n",
        "graficas_UnAce(y_predict, y_test, errores, unAce_real, unAce_predict, unAce_error)"
      ],
      "execution_count": 36,
      "outputs": [
        {
          "output_type": "display_data",
          "data": {
            "image/png": "[encoded data removed]",
            "text/plain": [
              "<Figure size 432x288 with 1 Axes>"
            ]
          },
          "metadata": {
            "tags": [],
            "needs_background": "light"
          }
        },
        {
          "output_type": "stream",
          "text": [
            "\n",
            "\n"
          ],
          "name": "stdout"
        },
        {
          "output_type": "display_data",
          "data": {
            "image/png": "[encoded data removed]",
            "text/plain": [
              "<Figure size 432x288 with 1 Axes>"
            ]
          },
          "metadata": {
            "tags": [],
            "needs_background": "light"
          }
        },
        {
          "output_type": "stream",
          "text": [
            "\n",
            "\n"
          ],
          "name": "stdout"
        },
        {
          "output_type": "display_data",
          "data": {
            "image/png": "[encoded data removed]",
            "text/plain": [
              "<Figure size 432x288 with 1 Axes>"
            ]
          },
          "metadata": {
            "tags": [],
            "needs_background": "light"
          }
        },
        {
          "output_type": "stream",
          "text": [
            "\n",
            "\n"
          ],
          "name": "stdout"
        },
        {
          "output_type": "display_data",
          "data": {
            "image/png": "[encoded data removed]",
            "text/plain": [
              "<Figure size 432x288 with 1 Axes>"
            ]
          },
          "metadata": {
            "tags": [],
            "needs_background": "light"
          }
        },
        {
          "output_type": "stream",
          "text": [
            "\n",
            "\n"
          ],
          "name": "stdout"
        },
        {
          "output_type": "display_data",
          "data": {
            "image/png": "[encoded data removed]",
            "text/plain": [
              "<Figure size 432x288 with 1 Axes>"
            ]
          },
          "metadata": {
            "tags": [],
            "needs_background": "light"
          }
        },
        {
          "output_type": "stream",
          "text": [
            "\n",
            "\n"
          ],
          "name": "stdout"
        },
        {
          "output_type": "display_data",
          "data": {
            "image/png": "[encoded data removed]",
            "text/plain": [
              "<Figure size 432x288 with 1 Axes>"
            ]
          },
          "metadata": {
            "tags": [],
            "needs_background": "light"
          }
        },
        {
          "output_type": "stream",
          "text": [
            "\n",
            "\n"
          ],
          "name": "stdout"
        },
        {
          "output_type": "display_data",
          "data": {
            "image/png": "[encoded data removed]",
            "text/plain": [
              "<Figure size 432x288 with 1 Axes>"
            ]
          },
          "metadata": {
            "tags": [],
            "needs_background": "light"
          }
        },
        {
          "output_type": "stream",
          "text": [
            "\n",
            "\n"
          ],
          "name": "stdout"
        },
        {
          "output_type": "display_data",
          "data": {
            "image/png": "[encoded data removed]",
            "text/plain": [
              "<Figure size 432x288 with 1 Axes>"
            ]
          },
          "metadata": {
            "tags": [],
            "needs_background": "light"
          }
        },
        {
          "output_type": "stream",
          "text": [
            "\n",
            "\n"
          ],
          "name": "stdout"
        },
        {
          "output_type": "display_data",
          "data": {
            "image/png": "[encoded data removed]",
            "text/plain": [
              "<Figure size 432x288 with 1 Axes>"
            ]
          },
          "metadata": {
            "tags": [],
            "needs_background": "light"
          }
        },
        {
          "output_type": "stream",
          "text": [
            "\n",
            "\n"
          ],
          "name": "stdout"
        }
      ]
    },
    {
      "cell_type": "markdown",
      "metadata": {
        "id": "WfHvb7iJQ7_P"
      },
      "source": [
        "### GUARDADO DE LOS RESULTADOS"
      ]
    },
    {
      "cell_type": "code",
      "metadata": {
        "id": "PvfrSB9lTjH5"
      },
      "source": [
        "results_path = '/content/drive/Shareddrives/NN4FT_DB/Exp_Adrian/Resultados/'\r\n",
        "\r\n",
        "csv = 'red2_extremos.csv' # ENTRADA DEL USUARIO\r\n",
        "with open(results_path + csv, \"w\") as f:\r\n",
        "  f.write('SDC_Real;HANG_Real;UnAce_Real;SDC_Predicho;HANG_Predicho;UnAce_Predicho;error_SDC;error_HANG;error_UnAce\\n')\r\n",
        "  f.close()\r\n",
        "\r\n",
        "string = \"\"\r\n",
        "\r\n",
        "for i in range(y_test.shape[0]):\r\n",
        "  string += (str(y_test[i,0]) + \";\" + str(y_test[i,1]) + \";\" + str(unAce_real[i]) + \";\"\r\n",
        "            + str(y_predict[i,0]) + \";\" + str(y_predict[i,1]) + \";\" + str(unAce_predict[i]) + \";\"\r\n",
        "            + str(errores[i,0]) + \";\" + str(errores[i,1]) + \";\" + str(unAce_error[i]) + \"\\n\")\r\n",
        "  \r\n",
        "  \r\n",
        "with open(results_path + csv, \"a\") as f:\r\n",
        "  f.write(string)\r\n",
        "  f.close()\r\n",
        "  "
      ],
      "execution_count": 37,
      "outputs": []
    },
    {
      "cell_type": "markdown",
      "metadata": {
        "id": "D3PAfW_gK_gn"
      },
      "source": [
        "## RED1 ORIGINAL"
      ]
    },
    {
      "cell_type": "markdown",
      "metadata": {
        "id": "-QPE1oR4LkCW"
      },
      "source": [
        "### DATOS ENTRENAMIENTO\r\n"
      ]
    },
    {
      "cell_type": "code",
      "metadata": {
        "id": "7Bj-aQSST044",
        "colab": {
          "base_uri": "https://localhost:8080/"
        },
        "outputId": "45f9d8f4-eb25-4807-da01-a131b78d142d"
      },
      "source": [
        "# Obtención de los datasets de entrenamiento \r\n",
        "bubblesort_path = '/content/drive/Shareddrives/NN4FT_DB/Exp_Adrian/Data Frames/TAREA_2/bubblesort_full.csv'\r\n",
        "dijkstra_path = '/content/drive/Shareddrives/NN4FT_DB/Exp_Adrian/Data Frames/TAREA_2/dijkstra_full.csv'\r\n",
        "ndes_path = '/content/drive/Shareddrives/NN4FT_DB/Exp_Adrian/Data Frames/TAREA_2/ndes_full.csv'\r\n",
        "\r\n",
        "bubblesort_df = pd.read_csv(bubblesort_path, sep=\";\")\r\n",
        "print(\"bubblesort_df: \", bubblesort_df.shape)\r\n",
        "\r\n",
        "dijkstra_df = pd.read_csv(dijkstra_path, sep=\";\")\r\n",
        "print(\"dijkstra_df: \", dijkstra_df.shape)\r\n",
        "\r\n",
        "ndes_df = pd.read_csv(ndes_path, sep=\";\")\r\n",
        "print(\"ndes_df: \", ndes_df.shape)\r\n",
        "\r\n",
        "# Obtención de los datos de entrenamiento\r\n",
        "\r\n",
        "bubblesort_Xdata = bubblesort_df[[\"time\", \"size\"]].values\r\n",
        "bubblesort_Ydata = bubblesort_df[[\"hang\", \"sdc\"]].values\r\n",
        "\r\n",
        "print(\"bubblesort_Xdata: \", bubblesort_Xdata.shape)\r\n",
        "\r\n",
        "dijkstra_Xdata = dijkstra_df[[\"time\", \"size\"]].values\r\n",
        "dijkstra_Ydata = dijkstra_df[[\"hang\", \"sdc\"]].values\r\n",
        "\r\n",
        "print(\"dijkstra_Xdata: \", dijkstra_Xdata.shape)\r\n",
        "\r\n",
        "ndes_Xdata = ndes_df[[\"time\", \"size\"]].values\r\n",
        "ndes_Ydata = ndes_df[[\"hang\", \"sdc\"]].values\r\n",
        "\r\n",
        "print(\"ndes_Xdata: \", ndes_Xdata.shape)\r\n",
        "\r\n",
        "x_data = np.concatenate((bubblesort_Xdata, dijkstra_Xdata, ndes_Xdata), axis=0)\r\n",
        "y_data = np.concatenate((bubblesort_Ydata, dijkstra_Ydata, ndes_Ydata), axis=0)\r\n",
        "\r\n",
        "# Escalado de los datos utilizados \r\n",
        "y_data = y_data/100 # Se deja en tanto por 1 [0,1)\r\n",
        "scaler = preprocessing.StandardScaler() #Values with mean=0 and standard deviation=1\r\n",
        "x_data = scaler.fit_transform(x_data) \r\n",
        "\r\n",
        "print(\"x_data: \", x_data.shape)\r\n",
        "print(\"y_data: \", y_data.shape)"
      ],
      "execution_count": 39,
      "outputs": [
        {
          "output_type": "stream",
          "text": [
            "bubblesort_df:  (824, 6)\n",
            "dijkstra_df:  (112, 6)\n",
            "ndes_df:  (718, 6)\n",
            "bubblesort_Xdata:  (824, 2)\n",
            "dijkstra_Xdata:  (112, 2)\n",
            "ndes_Xdata:  (718, 2)\n",
            "x_data:  (1654, 2)\n",
            "y_data:  (1654, 2)\n"
          ],
          "name": "stdout"
        }
      ]
    },
    {
      "cell_type": "markdown",
      "metadata": {
        "id": "8P9sDW_fLkCW"
      },
      "source": [
        "### DATOS DE TEST"
      ]
    },
    {
      "cell_type": "code",
      "metadata": {
        "id": "Ck-qQ1OxUI84"
      },
      "source": [
        "# Se separan los datasets de entrenamiento completos en 90% training y 10% test\r\n",
        "x_train, x_test, y_train, y_test = train_test_split(x_data, y_data, test_size=0.1, random_state=0, shuffle=True)\r\n",
        "\r\n"
      ],
      "execution_count": 40,
      "outputs": []
    },
    {
      "cell_type": "markdown",
      "metadata": {
        "id": "fYQqmjrZLyQe"
      },
      "source": [
        "### ENTRENAMIENTO"
      ]
    },
    {
      "cell_type": "code",
      "metadata": {
        "id": "lVEc8v2dUn4M",
        "colab": {
          "base_uri": "https://localhost:8080/"
        },
        "outputId": "ce38bca2-4486-4d0c-a453-729a67affb8e"
      },
      "source": [
        "# Declarar el modelo a utilizar antes de correr esta celda\r\n",
        "model = nn_model2()\r\n",
        "model.fit(x=x_train, y=y_train, validation_data=(x_test, y_test), batch_size=16, epochs=400, verbose=2)\r\n",
        "pesos = 'red1_original.hdf5'\r\n",
        "model.save_weights(pesos)\r\n",
        "\r\n",
        "# Resultado de la red para ver que tal ha funcionado el entrenamiento\r\n",
        "scores = model.evaluate(x_test, y_test, verbose=0)\r\n",
        "print(\"Precision: \", scores[1]*100, \"%\")\r\n",
        "print(\"Error medio absoluto: \", scores[0])"
      ],
      "execution_count": 41,
      "outputs": [
        {
          "output_type": "stream",
          "text": [
            "Epoch 1/400\n",
            "93/93 - 2s - loss: 0.2824 - accuracy: 0.5612 - val_loss: 0.0647 - val_accuracy: 0.8434\n",
            "Epoch 2/400\n",
            "93/93 - 0s - loss: 0.0902 - accuracy: 0.6358 - val_loss: 0.0528 - val_accuracy: 0.6687\n",
            "Epoch 3/400\n",
            "93/93 - 0s - loss: 0.0592 - accuracy: 0.6855 - val_loss: 0.0520 - val_accuracy: 0.6687\n",
            "Epoch 4/400\n",
            "93/93 - 0s - loss: 0.0525 - accuracy: 0.6989 - val_loss: 0.0514 - val_accuracy: 0.6687\n",
            "Epoch 5/400\n",
            "93/93 - 0s - loss: 0.0515 - accuracy: 0.6875 - val_loss: 0.0514 - val_accuracy: 0.6687\n",
            "Epoch 6/400\n",
            "93/93 - 0s - loss: 0.0499 - accuracy: 0.6821 - val_loss: 0.0520 - val_accuracy: 0.6687\n",
            "Epoch 7/400\n",
            "93/93 - 0s - loss: 0.0480 - accuracy: 0.6983 - val_loss: 0.0514 - val_accuracy: 0.6687\n",
            "Epoch 8/400\n",
            "93/93 - 0s - loss: 0.0471 - accuracy: 0.6929 - val_loss: 0.0476 - val_accuracy: 0.6687\n",
            "Epoch 9/400\n",
            "93/93 - 0s - loss: 0.0458 - accuracy: 0.7050 - val_loss: 0.0454 - val_accuracy: 0.7410\n",
            "Epoch 10/400\n",
            "93/93 - 0s - loss: 0.0458 - accuracy: 0.7036 - val_loss: 0.0468 - val_accuracy: 0.6627\n",
            "Epoch 11/400\n",
            "93/93 - 0s - loss: 0.0439 - accuracy: 0.7272 - val_loss: 0.0437 - val_accuracy: 0.7711\n",
            "Epoch 12/400\n",
            "93/93 - 0s - loss: 0.0434 - accuracy: 0.7090 - val_loss: 0.0421 - val_accuracy: 0.7651\n",
            "Epoch 13/400\n",
            "93/93 - 0s - loss: 0.0438 - accuracy: 0.7130 - val_loss: 0.0432 - val_accuracy: 0.7590\n",
            "Epoch 14/400\n",
            "93/93 - 0s - loss: 0.0422 - accuracy: 0.7231 - val_loss: 0.0347 - val_accuracy: 0.7771\n",
            "Epoch 15/400\n",
            "93/93 - 0s - loss: 0.0426 - accuracy: 0.7251 - val_loss: 0.0340 - val_accuracy: 0.7831\n",
            "Epoch 16/400\n",
            "93/93 - 0s - loss: 0.0424 - accuracy: 0.7191 - val_loss: 0.0405 - val_accuracy: 0.8012\n",
            "Epoch 17/400\n",
            "93/93 - 0s - loss: 0.0415 - accuracy: 0.7272 - val_loss: 0.0416 - val_accuracy: 0.7892\n",
            "Epoch 18/400\n",
            "93/93 - 0s - loss: 0.0418 - accuracy: 0.7184 - val_loss: 0.0363 - val_accuracy: 0.7952\n",
            "Epoch 19/400\n",
            "93/93 - 0s - loss: 0.0403 - accuracy: 0.7339 - val_loss: 0.0367 - val_accuracy: 0.7952\n",
            "Epoch 20/400\n",
            "93/93 - 0s - loss: 0.0407 - accuracy: 0.7292 - val_loss: 0.0376 - val_accuracy: 0.8072\n",
            "Epoch 21/400\n",
            "93/93 - 0s - loss: 0.0391 - accuracy: 0.7507 - val_loss: 0.0347 - val_accuracy: 0.8072\n",
            "Epoch 22/400\n",
            "93/93 - 0s - loss: 0.0392 - accuracy: 0.7446 - val_loss: 0.0350 - val_accuracy: 0.8193\n",
            "Epoch 23/400\n",
            "93/93 - 0s - loss: 0.0383 - accuracy: 0.7560 - val_loss: 0.0312 - val_accuracy: 0.8012\n",
            "Epoch 24/400\n",
            "93/93 - 0s - loss: 0.0388 - accuracy: 0.7473 - val_loss: 0.0322 - val_accuracy: 0.8253\n",
            "Epoch 25/400\n",
            "93/93 - 0s - loss: 0.0386 - accuracy: 0.7527 - val_loss: 0.0317 - val_accuracy: 0.8072\n",
            "Epoch 26/400\n",
            "93/93 - 0s - loss: 0.0385 - accuracy: 0.7547 - val_loss: 0.0322 - val_accuracy: 0.8253\n",
            "Epoch 27/400\n",
            "93/93 - 0s - loss: 0.0371 - accuracy: 0.7655 - val_loss: 0.0310 - val_accuracy: 0.8133\n",
            "Epoch 28/400\n",
            "93/93 - 0s - loss: 0.0371 - accuracy: 0.7742 - val_loss: 0.0298 - val_accuracy: 0.8253\n",
            "Epoch 29/400\n",
            "93/93 - 0s - loss: 0.0359 - accuracy: 0.7796 - val_loss: 0.0319 - val_accuracy: 0.8313\n",
            "Epoch 30/400\n",
            "93/93 - 0s - loss: 0.0347 - accuracy: 0.7917 - val_loss: 0.0300 - val_accuracy: 0.8373\n",
            "Epoch 31/400\n",
            "93/93 - 0s - loss: 0.0364 - accuracy: 0.7843 - val_loss: 0.0300 - val_accuracy: 0.8373\n",
            "Epoch 32/400\n",
            "93/93 - 0s - loss: 0.0346 - accuracy: 0.7923 - val_loss: 0.0285 - val_accuracy: 0.8554\n",
            "Epoch 33/400\n",
            "93/93 - 0s - loss: 0.0356 - accuracy: 0.7836 - val_loss: 0.0302 - val_accuracy: 0.8313\n",
            "Epoch 34/400\n",
            "93/93 - 0s - loss: 0.0352 - accuracy: 0.7856 - val_loss: 0.0324 - val_accuracy: 0.8313\n",
            "Epoch 35/400\n",
            "93/93 - 0s - loss: 0.0347 - accuracy: 0.7856 - val_loss: 0.0312 - val_accuracy: 0.8313\n",
            "Epoch 36/400\n",
            "93/93 - 0s - loss: 0.0339 - accuracy: 0.7944 - val_loss: 0.0297 - val_accuracy: 0.8434\n",
            "Epoch 37/400\n",
            "93/93 - 0s - loss: 0.0347 - accuracy: 0.7863 - val_loss: 0.0291 - val_accuracy: 0.8313\n",
            "Epoch 38/400\n",
            "93/93 - 0s - loss: 0.0338 - accuracy: 0.7903 - val_loss: 0.0300 - val_accuracy: 0.8373\n",
            "Epoch 39/400\n",
            "93/93 - 0s - loss: 0.0337 - accuracy: 0.8105 - val_loss: 0.0302 - val_accuracy: 0.8494\n",
            "Epoch 40/400\n",
            "93/93 - 0s - loss: 0.0339 - accuracy: 0.7937 - val_loss: 0.0277 - val_accuracy: 0.8554\n",
            "Epoch 41/400\n",
            "93/93 - 0s - loss: 0.0334 - accuracy: 0.7984 - val_loss: 0.0282 - val_accuracy: 0.8434\n",
            "Epoch 42/400\n",
            "93/93 - 0s - loss: 0.0336 - accuracy: 0.7984 - val_loss: 0.0288 - val_accuracy: 0.8434\n",
            "Epoch 43/400\n",
            "93/93 - 0s - loss: 0.0333 - accuracy: 0.7863 - val_loss: 0.0289 - val_accuracy: 0.8434\n",
            "Epoch 44/400\n",
            "93/93 - 0s - loss: 0.0327 - accuracy: 0.7903 - val_loss: 0.0268 - val_accuracy: 0.8795\n",
            "Epoch 45/400\n",
            "93/93 - 0s - loss: 0.0323 - accuracy: 0.7997 - val_loss: 0.0244 - val_accuracy: 0.8795\n",
            "Epoch 46/400\n",
            "93/93 - 0s - loss: 0.0336 - accuracy: 0.8004 - val_loss: 0.0269 - val_accuracy: 0.8735\n",
            "Epoch 47/400\n",
            "93/93 - 0s - loss: 0.0324 - accuracy: 0.7977 - val_loss: 0.0274 - val_accuracy: 0.8614\n",
            "Epoch 48/400\n",
            "93/93 - 0s - loss: 0.0326 - accuracy: 0.7997 - val_loss: 0.0235 - val_accuracy: 0.8855\n",
            "Epoch 49/400\n",
            "93/93 - 0s - loss: 0.0317 - accuracy: 0.8185 - val_loss: 0.0282 - val_accuracy: 0.8434\n",
            "Epoch 50/400\n",
            "93/93 - 0s - loss: 0.0322 - accuracy: 0.8112 - val_loss: 0.0252 - val_accuracy: 0.8795\n",
            "Epoch 51/400\n",
            "93/93 - 0s - loss: 0.0310 - accuracy: 0.8125 - val_loss: 0.0224 - val_accuracy: 0.8855\n",
            "Epoch 52/400\n",
            "93/93 - 0s - loss: 0.0314 - accuracy: 0.8132 - val_loss: 0.0265 - val_accuracy: 0.8614\n",
            "Epoch 53/400\n",
            "93/93 - 0s - loss: 0.0307 - accuracy: 0.8145 - val_loss: 0.0225 - val_accuracy: 0.8976\n",
            "Epoch 54/400\n",
            "93/93 - 0s - loss: 0.0305 - accuracy: 0.8212 - val_loss: 0.0242 - val_accuracy: 0.8795\n",
            "Epoch 55/400\n",
            "93/93 - 0s - loss: 0.0316 - accuracy: 0.8078 - val_loss: 0.0239 - val_accuracy: 0.8795\n",
            "Epoch 56/400\n",
            "93/93 - 0s - loss: 0.0301 - accuracy: 0.8246 - val_loss: 0.0244 - val_accuracy: 0.8795\n",
            "Epoch 57/400\n",
            "93/93 - 0s - loss: 0.0300 - accuracy: 0.8300 - val_loss: 0.0224 - val_accuracy: 0.8916\n",
            "Epoch 58/400\n",
            "93/93 - 0s - loss: 0.0309 - accuracy: 0.8273 - val_loss: 0.0227 - val_accuracy: 0.8976\n",
            "Epoch 59/400\n",
            "93/93 - 0s - loss: 0.0288 - accuracy: 0.8501 - val_loss: 0.0225 - val_accuracy: 0.8976\n",
            "Epoch 60/400\n",
            "93/93 - 0s - loss: 0.0293 - accuracy: 0.8306 - val_loss: 0.0242 - val_accuracy: 0.8855\n",
            "Epoch 61/400\n",
            "93/93 - 0s - loss: 0.0290 - accuracy: 0.8313 - val_loss: 0.0230 - val_accuracy: 0.9036\n",
            "Epoch 62/400\n",
            "93/93 - 0s - loss: 0.0280 - accuracy: 0.8454 - val_loss: 0.0220 - val_accuracy: 0.8916\n",
            "Epoch 63/400\n",
            "93/93 - 0s - loss: 0.0280 - accuracy: 0.8481 - val_loss: 0.0226 - val_accuracy: 0.8976\n",
            "Epoch 64/400\n",
            "93/93 - 0s - loss: 0.0281 - accuracy: 0.8434 - val_loss: 0.0220 - val_accuracy: 0.8976\n",
            "Epoch 65/400\n",
            "93/93 - 0s - loss: 0.0288 - accuracy: 0.8380 - val_loss: 0.0214 - val_accuracy: 0.8976\n",
            "Epoch 66/400\n",
            "93/93 - 0s - loss: 0.0282 - accuracy: 0.8414 - val_loss: 0.0208 - val_accuracy: 0.9036\n",
            "Epoch 67/400\n",
            "93/93 - 0s - loss: 0.0275 - accuracy: 0.8555 - val_loss: 0.0218 - val_accuracy: 0.8735\n",
            "Epoch 68/400\n",
            "93/93 - 0s - loss: 0.0279 - accuracy: 0.8528 - val_loss: 0.0223 - val_accuracy: 0.8916\n",
            "Epoch 69/400\n",
            "93/93 - 0s - loss: 0.0272 - accuracy: 0.8636 - val_loss: 0.0224 - val_accuracy: 0.8855\n",
            "Epoch 70/400\n",
            "93/93 - 0s - loss: 0.0280 - accuracy: 0.8535 - val_loss: 0.0202 - val_accuracy: 0.9217\n",
            "Epoch 71/400\n",
            "93/93 - 0s - loss: 0.0256 - accuracy: 0.8548 - val_loss: 0.0217 - val_accuracy: 0.8976\n",
            "Epoch 72/400\n",
            "93/93 - 0s - loss: 0.0260 - accuracy: 0.8669 - val_loss: 0.0228 - val_accuracy: 0.9096\n",
            "Epoch 73/400\n",
            "93/93 - 0s - loss: 0.0271 - accuracy: 0.8488 - val_loss: 0.0209 - val_accuracy: 0.9217\n",
            "Epoch 74/400\n",
            "93/93 - 0s - loss: 0.0276 - accuracy: 0.8535 - val_loss: 0.0215 - val_accuracy: 0.9036\n",
            "Epoch 75/400\n",
            "93/93 - 0s - loss: 0.0268 - accuracy: 0.8488 - val_loss: 0.0211 - val_accuracy: 0.9096\n",
            "Epoch 76/400\n",
            "93/93 - 0s - loss: 0.0261 - accuracy: 0.8609 - val_loss: 0.0213 - val_accuracy: 0.9217\n",
            "Epoch 77/400\n",
            "93/93 - 0s - loss: 0.0260 - accuracy: 0.8609 - val_loss: 0.0220 - val_accuracy: 0.9036\n",
            "Epoch 78/400\n",
            "93/93 - 0s - loss: 0.0250 - accuracy: 0.8690 - val_loss: 0.0211 - val_accuracy: 0.9036\n",
            "Epoch 79/400\n",
            "93/93 - 0s - loss: 0.0253 - accuracy: 0.8703 - val_loss: 0.0217 - val_accuracy: 0.9036\n",
            "Epoch 80/400\n",
            "93/93 - 0s - loss: 0.0252 - accuracy: 0.8683 - val_loss: 0.0199 - val_accuracy: 0.9157\n",
            "Epoch 81/400\n",
            "93/93 - 0s - loss: 0.0250 - accuracy: 0.8703 - val_loss: 0.0209 - val_accuracy: 0.9096\n",
            "Epoch 82/400\n",
            "93/93 - 0s - loss: 0.0246 - accuracy: 0.8770 - val_loss: 0.0209 - val_accuracy: 0.9096\n",
            "Epoch 83/400\n",
            "93/93 - 0s - loss: 0.0247 - accuracy: 0.8730 - val_loss: 0.0209 - val_accuracy: 0.9157\n",
            "Epoch 84/400\n",
            "93/93 - 0s - loss: 0.0240 - accuracy: 0.8763 - val_loss: 0.0191 - val_accuracy: 0.9157\n",
            "Epoch 85/400\n",
            "93/93 - 0s - loss: 0.0235 - accuracy: 0.8804 - val_loss: 0.0200 - val_accuracy: 0.8976\n",
            "Epoch 86/400\n",
            "93/93 - 0s - loss: 0.0251 - accuracy: 0.8777 - val_loss: 0.0213 - val_accuracy: 0.8976\n",
            "Epoch 87/400\n",
            "93/93 - 0s - loss: 0.0231 - accuracy: 0.8858 - val_loss: 0.0214 - val_accuracy: 0.8976\n",
            "Epoch 88/400\n",
            "93/93 - 0s - loss: 0.0229 - accuracy: 0.8804 - val_loss: 0.0208 - val_accuracy: 0.8976\n",
            "Epoch 89/400\n",
            "93/93 - 0s - loss: 0.0237 - accuracy: 0.8804 - val_loss: 0.0201 - val_accuracy: 0.9096\n",
            "Epoch 90/400\n",
            "93/93 - 0s - loss: 0.0237 - accuracy: 0.8844 - val_loss: 0.0200 - val_accuracy: 0.8916\n",
            "Epoch 91/400\n",
            "93/93 - 0s - loss: 0.0233 - accuracy: 0.8743 - val_loss: 0.0195 - val_accuracy: 0.9096\n",
            "Epoch 92/400\n",
            "93/93 - 0s - loss: 0.0224 - accuracy: 0.8905 - val_loss: 0.0217 - val_accuracy: 0.9036\n",
            "Epoch 93/400\n",
            "93/93 - 0s - loss: 0.0232 - accuracy: 0.8837 - val_loss: 0.0186 - val_accuracy: 0.9217\n",
            "Epoch 94/400\n",
            "93/93 - 0s - loss: 0.0217 - accuracy: 0.8905 - val_loss: 0.0191 - val_accuracy: 0.9157\n",
            "Epoch 95/400\n",
            "93/93 - 0s - loss: 0.0226 - accuracy: 0.8844 - val_loss: 0.0203 - val_accuracy: 0.9157\n",
            "Epoch 96/400\n",
            "93/93 - 0s - loss: 0.0228 - accuracy: 0.8871 - val_loss: 0.0187 - val_accuracy: 0.9277\n",
            "Epoch 97/400\n",
            "93/93 - 0s - loss: 0.0228 - accuracy: 0.8837 - val_loss: 0.0200 - val_accuracy: 0.9277\n",
            "Epoch 98/400\n",
            "93/93 - 0s - loss: 0.0226 - accuracy: 0.8871 - val_loss: 0.0199 - val_accuracy: 0.9217\n",
            "Epoch 99/400\n",
            "93/93 - 0s - loss: 0.0221 - accuracy: 0.8911 - val_loss: 0.0187 - val_accuracy: 0.9277\n",
            "Epoch 100/400\n",
            "93/93 - 0s - loss: 0.0226 - accuracy: 0.8931 - val_loss: 0.0213 - val_accuracy: 0.9036\n",
            "Epoch 101/400\n",
            "93/93 - 0s - loss: 0.0222 - accuracy: 0.8905 - val_loss: 0.0192 - val_accuracy: 0.9217\n",
            "Epoch 102/400\n",
            "93/93 - 0s - loss: 0.0220 - accuracy: 0.8837 - val_loss: 0.0192 - val_accuracy: 0.9217\n",
            "Epoch 103/400\n",
            "93/93 - 0s - loss: 0.0221 - accuracy: 0.8911 - val_loss: 0.0206 - val_accuracy: 0.9217\n",
            "Epoch 104/400\n",
            "93/93 - 0s - loss: 0.0220 - accuracy: 0.8905 - val_loss: 0.0181 - val_accuracy: 0.9277\n",
            "Epoch 105/400\n",
            "93/93 - 0s - loss: 0.0219 - accuracy: 0.8999 - val_loss: 0.0190 - val_accuracy: 0.9157\n",
            "Epoch 106/400\n",
            "93/93 - 0s - loss: 0.0217 - accuracy: 0.8945 - val_loss: 0.0193 - val_accuracy: 0.9157\n",
            "Epoch 107/400\n",
            "93/93 - 0s - loss: 0.0221 - accuracy: 0.8844 - val_loss: 0.0196 - val_accuracy: 0.9157\n",
            "Epoch 108/400\n",
            "93/93 - 0s - loss: 0.0211 - accuracy: 0.8992 - val_loss: 0.0185 - val_accuracy: 0.9337\n",
            "Epoch 109/400\n",
            "93/93 - 0s - loss: 0.0213 - accuracy: 0.8978 - val_loss: 0.0205 - val_accuracy: 0.9157\n",
            "Epoch 110/400\n",
            "93/93 - 0s - loss: 0.0208 - accuracy: 0.9005 - val_loss: 0.0190 - val_accuracy: 0.9157\n",
            "Epoch 111/400\n",
            "93/93 - 0s - loss: 0.0203 - accuracy: 0.9093 - val_loss: 0.0201 - val_accuracy: 0.9157\n",
            "Epoch 112/400\n",
            "93/93 - 0s - loss: 0.0215 - accuracy: 0.8978 - val_loss: 0.0195 - val_accuracy: 0.9157\n",
            "Epoch 113/400\n",
            "93/93 - 0s - loss: 0.0211 - accuracy: 0.9032 - val_loss: 0.0185 - val_accuracy: 0.9157\n",
            "Epoch 114/400\n",
            "93/93 - 0s - loss: 0.0206 - accuracy: 0.9005 - val_loss: 0.0192 - val_accuracy: 0.9217\n",
            "Epoch 115/400\n",
            "93/93 - 0s - loss: 0.0208 - accuracy: 0.9026 - val_loss: 0.0192 - val_accuracy: 0.9157\n",
            "Epoch 116/400\n",
            "93/93 - 0s - loss: 0.0209 - accuracy: 0.8992 - val_loss: 0.0185 - val_accuracy: 0.9277\n",
            "Epoch 117/400\n",
            "93/93 - 0s - loss: 0.0210 - accuracy: 0.9039 - val_loss: 0.0185 - val_accuracy: 0.9217\n",
            "Epoch 118/400\n",
            "93/93 - 0s - loss: 0.0207 - accuracy: 0.8992 - val_loss: 0.0193 - val_accuracy: 0.9157\n",
            "Epoch 119/400\n",
            "93/93 - 0s - loss: 0.0202 - accuracy: 0.9073 - val_loss: 0.0181 - val_accuracy: 0.9277\n",
            "Epoch 120/400\n",
            "93/93 - 0s - loss: 0.0198 - accuracy: 0.9079 - val_loss: 0.0184 - val_accuracy: 0.9277\n",
            "Epoch 121/400\n",
            "93/93 - 0s - loss: 0.0207 - accuracy: 0.8992 - val_loss: 0.0188 - val_accuracy: 0.9277\n",
            "Epoch 122/400\n",
            "93/93 - 0s - loss: 0.0204 - accuracy: 0.9012 - val_loss: 0.0179 - val_accuracy: 0.9277\n",
            "Epoch 123/400\n",
            "93/93 - 0s - loss: 0.0195 - accuracy: 0.9113 - val_loss: 0.0192 - val_accuracy: 0.9277\n",
            "Epoch 124/400\n",
            "93/93 - 0s - loss: 0.0204 - accuracy: 0.9059 - val_loss: 0.0194 - val_accuracy: 0.9217\n",
            "Epoch 125/400\n",
            "93/93 - 0s - loss: 0.0195 - accuracy: 0.9073 - val_loss: 0.0183 - val_accuracy: 0.9277\n",
            "Epoch 126/400\n",
            "93/93 - 0s - loss: 0.0196 - accuracy: 0.9073 - val_loss: 0.0191 - val_accuracy: 0.9217\n",
            "Epoch 127/400\n",
            "93/93 - 0s - loss: 0.0202 - accuracy: 0.9046 - val_loss: 0.0191 - val_accuracy: 0.9217\n",
            "Epoch 128/400\n",
            "93/93 - 0s - loss: 0.0193 - accuracy: 0.9120 - val_loss: 0.0192 - val_accuracy: 0.9217\n",
            "Epoch 129/400\n",
            "93/93 - 0s - loss: 0.0204 - accuracy: 0.8972 - val_loss: 0.0194 - val_accuracy: 0.9217\n",
            "Epoch 130/400\n",
            "93/93 - 0s - loss: 0.0193 - accuracy: 0.9073 - val_loss: 0.0180 - val_accuracy: 0.9277\n",
            "Epoch 131/400\n",
            "93/93 - 0s - loss: 0.0201 - accuracy: 0.9026 - val_loss: 0.0179 - val_accuracy: 0.9277\n",
            "Epoch 132/400\n",
            "93/93 - 0s - loss: 0.0196 - accuracy: 0.9073 - val_loss: 0.0198 - val_accuracy: 0.9217\n",
            "Epoch 133/400\n",
            "93/93 - 0s - loss: 0.0197 - accuracy: 0.8992 - val_loss: 0.0191 - val_accuracy: 0.9217\n",
            "Epoch 134/400\n",
            "93/93 - 0s - loss: 0.0200 - accuracy: 0.9106 - val_loss: 0.0192 - val_accuracy: 0.9157\n",
            "Epoch 135/400\n",
            "93/93 - 0s - loss: 0.0188 - accuracy: 0.9086 - val_loss: 0.0189 - val_accuracy: 0.9277\n",
            "Epoch 136/400\n",
            "93/93 - 0s - loss: 0.0191 - accuracy: 0.9106 - val_loss: 0.0174 - val_accuracy: 0.9277\n",
            "Epoch 137/400\n",
            "93/93 - 0s - loss: 0.0189 - accuracy: 0.9079 - val_loss: 0.0189 - val_accuracy: 0.9277\n",
            "Epoch 138/400\n",
            "93/93 - 0s - loss: 0.0194 - accuracy: 0.9113 - val_loss: 0.0197 - val_accuracy: 0.9036\n",
            "Epoch 139/400\n",
            "93/93 - 0s - loss: 0.0191 - accuracy: 0.9113 - val_loss: 0.0187 - val_accuracy: 0.9157\n",
            "Epoch 140/400\n",
            "93/93 - 0s - loss: 0.0187 - accuracy: 0.9153 - val_loss: 0.0195 - val_accuracy: 0.9157\n",
            "Epoch 141/400\n",
            "93/93 - 0s - loss: 0.0193 - accuracy: 0.9099 - val_loss: 0.0184 - val_accuracy: 0.9277\n",
            "Epoch 142/400\n",
            "93/93 - 0s - loss: 0.0188 - accuracy: 0.9133 - val_loss: 0.0178 - val_accuracy: 0.9277\n",
            "Epoch 143/400\n",
            "93/93 - 0s - loss: 0.0185 - accuracy: 0.9126 - val_loss: 0.0182 - val_accuracy: 0.9277\n",
            "Epoch 144/400\n",
            "93/93 - 0s - loss: 0.0186 - accuracy: 0.9113 - val_loss: 0.0188 - val_accuracy: 0.9277\n",
            "Epoch 145/400\n",
            "93/93 - 0s - loss: 0.0193 - accuracy: 0.9113 - val_loss: 0.0188 - val_accuracy: 0.9277\n",
            "Epoch 146/400\n",
            "93/93 - 0s - loss: 0.0189 - accuracy: 0.9140 - val_loss: 0.0194 - val_accuracy: 0.9157\n",
            "Epoch 147/400\n",
            "93/93 - 0s - loss: 0.0184 - accuracy: 0.9153 - val_loss: 0.0181 - val_accuracy: 0.9277\n",
            "Epoch 148/400\n",
            "93/93 - 0s - loss: 0.0181 - accuracy: 0.9173 - val_loss: 0.0187 - val_accuracy: 0.9157\n",
            "Epoch 149/400\n",
            "93/93 - 0s - loss: 0.0185 - accuracy: 0.9160 - val_loss: 0.0185 - val_accuracy: 0.9277\n",
            "Epoch 150/400\n",
            "93/93 - 0s - loss: 0.0183 - accuracy: 0.9133 - val_loss: 0.0208 - val_accuracy: 0.9157\n",
            "Epoch 151/400\n",
            "93/93 - 0s - loss: 0.0192 - accuracy: 0.9019 - val_loss: 0.0177 - val_accuracy: 0.9277\n",
            "Epoch 152/400\n",
            "93/93 - 0s - loss: 0.0184 - accuracy: 0.9126 - val_loss: 0.0188 - val_accuracy: 0.9157\n",
            "Epoch 153/400\n",
            "93/93 - 0s - loss: 0.0183 - accuracy: 0.9099 - val_loss: 0.0198 - val_accuracy: 0.9157\n",
            "Epoch 154/400\n",
            "93/93 - 0s - loss: 0.0187 - accuracy: 0.9099 - val_loss: 0.0177 - val_accuracy: 0.9277\n",
            "Epoch 155/400\n",
            "93/93 - 0s - loss: 0.0180 - accuracy: 0.9153 - val_loss: 0.0180 - val_accuracy: 0.9277\n",
            "Epoch 156/400\n",
            "93/93 - 0s - loss: 0.0190 - accuracy: 0.9140 - val_loss: 0.0190 - val_accuracy: 0.9277\n",
            "Epoch 157/400\n",
            "93/93 - 0s - loss: 0.0183 - accuracy: 0.9133 - val_loss: 0.0183 - val_accuracy: 0.9217\n",
            "Epoch 158/400\n",
            "93/93 - 0s - loss: 0.0188 - accuracy: 0.9113 - val_loss: 0.0187 - val_accuracy: 0.9157\n",
            "Epoch 159/400\n",
            "93/93 - 0s - loss: 0.0179 - accuracy: 0.9173 - val_loss: 0.0181 - val_accuracy: 0.9277\n",
            "Epoch 160/400\n",
            "93/93 - 0s - loss: 0.0189 - accuracy: 0.9059 - val_loss: 0.0207 - val_accuracy: 0.9157\n",
            "Epoch 161/400\n",
            "93/93 - 0s - loss: 0.0186 - accuracy: 0.9120 - val_loss: 0.0184 - val_accuracy: 0.9277\n",
            "Epoch 162/400\n",
            "93/93 - 0s - loss: 0.0181 - accuracy: 0.9147 - val_loss: 0.0175 - val_accuracy: 0.9277\n",
            "Epoch 163/400\n",
            "93/93 - 0s - loss: 0.0187 - accuracy: 0.9099 - val_loss: 0.0184 - val_accuracy: 0.9157\n",
            "Epoch 164/400\n",
            "93/93 - 0s - loss: 0.0172 - accuracy: 0.9214 - val_loss: 0.0191 - val_accuracy: 0.9157\n",
            "Epoch 165/400\n",
            "93/93 - 0s - loss: 0.0185 - accuracy: 0.9113 - val_loss: 0.0176 - val_accuracy: 0.9277\n",
            "Epoch 166/400\n",
            "93/93 - 0s - loss: 0.0183 - accuracy: 0.9147 - val_loss: 0.0181 - val_accuracy: 0.9277\n",
            "Epoch 167/400\n",
            "93/93 - 0s - loss: 0.0182 - accuracy: 0.9126 - val_loss: 0.0188 - val_accuracy: 0.9157\n",
            "Epoch 168/400\n",
            "93/93 - 0s - loss: 0.0183 - accuracy: 0.9153 - val_loss: 0.0182 - val_accuracy: 0.9277\n",
            "Epoch 169/400\n",
            "93/93 - 0s - loss: 0.0193 - accuracy: 0.9052 - val_loss: 0.0181 - val_accuracy: 0.9157\n",
            "Epoch 170/400\n",
            "93/93 - 0s - loss: 0.0183 - accuracy: 0.9153 - val_loss: 0.0180 - val_accuracy: 0.9277\n",
            "Epoch 171/400\n",
            "93/93 - 0s - loss: 0.0174 - accuracy: 0.9147 - val_loss: 0.0194 - val_accuracy: 0.9157\n",
            "Epoch 172/400\n",
            "93/93 - 0s - loss: 0.0182 - accuracy: 0.9126 - val_loss: 0.0183 - val_accuracy: 0.9157\n",
            "Epoch 173/400\n",
            "93/93 - 0s - loss: 0.0179 - accuracy: 0.9113 - val_loss: 0.0192 - val_accuracy: 0.9157\n",
            "Epoch 174/400\n",
            "93/93 - 0s - loss: 0.0182 - accuracy: 0.9147 - val_loss: 0.0185 - val_accuracy: 0.9157\n",
            "Epoch 175/400\n",
            "93/93 - 0s - loss: 0.0181 - accuracy: 0.9120 - val_loss: 0.0183 - val_accuracy: 0.9157\n",
            "Epoch 176/400\n",
            "93/93 - 0s - loss: 0.0178 - accuracy: 0.9194 - val_loss: 0.0176 - val_accuracy: 0.9277\n",
            "Epoch 177/400\n",
            "93/93 - 0s - loss: 0.0180 - accuracy: 0.9133 - val_loss: 0.0182 - val_accuracy: 0.9157\n",
            "Epoch 178/400\n",
            "93/93 - 0s - loss: 0.0190 - accuracy: 0.9026 - val_loss: 0.0190 - val_accuracy: 0.9157\n",
            "Epoch 179/400\n",
            "93/93 - 0s - loss: 0.0184 - accuracy: 0.9167 - val_loss: 0.0182 - val_accuracy: 0.9157\n",
            "Epoch 180/400\n",
            "93/93 - 0s - loss: 0.0179 - accuracy: 0.9140 - val_loss: 0.0203 - val_accuracy: 0.9217\n",
            "Epoch 181/400\n",
            "93/93 - 0s - loss: 0.0176 - accuracy: 0.9133 - val_loss: 0.0174 - val_accuracy: 0.9277\n",
            "Epoch 182/400\n",
            "93/93 - 0s - loss: 0.0181 - accuracy: 0.9167 - val_loss: 0.0186 - val_accuracy: 0.9157\n",
            "Epoch 183/400\n",
            "93/93 - 0s - loss: 0.0191 - accuracy: 0.9026 - val_loss: 0.0189 - val_accuracy: 0.9277\n",
            "Epoch 184/400\n",
            "93/93 - 0s - loss: 0.0182 - accuracy: 0.9147 - val_loss: 0.0175 - val_accuracy: 0.9277\n",
            "Epoch 185/400\n",
            "93/93 - 0s - loss: 0.0178 - accuracy: 0.9147 - val_loss: 0.0189 - val_accuracy: 0.9157\n",
            "Epoch 186/400\n",
            "93/93 - 0s - loss: 0.0186 - accuracy: 0.9099 - val_loss: 0.0191 - val_accuracy: 0.9157\n",
            "Epoch 187/400\n",
            "93/93 - 0s - loss: 0.0180 - accuracy: 0.9099 - val_loss: 0.0174 - val_accuracy: 0.9337\n",
            "Epoch 188/400\n",
            "93/93 - 0s - loss: 0.0174 - accuracy: 0.9207 - val_loss: 0.0194 - val_accuracy: 0.9157\n",
            "Epoch 189/400\n",
            "93/93 - 0s - loss: 0.0182 - accuracy: 0.9173 - val_loss: 0.0167 - val_accuracy: 0.9337\n",
            "Epoch 190/400\n",
            "93/93 - 0s - loss: 0.0188 - accuracy: 0.9093 - val_loss: 0.0191 - val_accuracy: 0.9337\n",
            "Epoch 191/400\n",
            "93/93 - 0s - loss: 0.0180 - accuracy: 0.9113 - val_loss: 0.0178 - val_accuracy: 0.9277\n",
            "Epoch 192/400\n",
            "93/93 - 0s - loss: 0.0185 - accuracy: 0.9066 - val_loss: 0.0187 - val_accuracy: 0.9217\n",
            "Epoch 193/400\n",
            "93/93 - 0s - loss: 0.0175 - accuracy: 0.9160 - val_loss: 0.0190 - val_accuracy: 0.9217\n",
            "Epoch 194/400\n",
            "93/93 - 0s - loss: 0.0176 - accuracy: 0.9180 - val_loss: 0.0186 - val_accuracy: 0.9157\n",
            "Epoch 195/400\n",
            "93/93 - 0s - loss: 0.0181 - accuracy: 0.9079 - val_loss: 0.0193 - val_accuracy: 0.9157\n",
            "Epoch 196/400\n",
            "93/93 - 0s - loss: 0.0176 - accuracy: 0.9167 - val_loss: 0.0187 - val_accuracy: 0.9157\n",
            "Epoch 197/400\n",
            "93/93 - 0s - loss: 0.0172 - accuracy: 0.9160 - val_loss: 0.0202 - val_accuracy: 0.9036\n",
            "Epoch 198/400\n",
            "93/93 - 0s - loss: 0.0174 - accuracy: 0.9200 - val_loss: 0.0183 - val_accuracy: 0.9157\n",
            "Epoch 199/400\n",
            "93/93 - 0s - loss: 0.0174 - accuracy: 0.9214 - val_loss: 0.0184 - val_accuracy: 0.9157\n",
            "Epoch 200/400\n",
            "93/93 - 0s - loss: 0.0181 - accuracy: 0.9113 - val_loss: 0.0190 - val_accuracy: 0.9217\n",
            "Epoch 201/400\n",
            "93/93 - 0s - loss: 0.0173 - accuracy: 0.9187 - val_loss: 0.0190 - val_accuracy: 0.9217\n",
            "Epoch 202/400\n",
            "93/93 - 0s - loss: 0.0173 - accuracy: 0.9207 - val_loss: 0.0194 - val_accuracy: 0.9217\n",
            "Epoch 203/400\n",
            "93/93 - 0s - loss: 0.0179 - accuracy: 0.9133 - val_loss: 0.0170 - val_accuracy: 0.9337\n",
            "Epoch 204/400\n",
            "93/93 - 0s - loss: 0.0177 - accuracy: 0.9173 - val_loss: 0.0180 - val_accuracy: 0.9217\n",
            "Epoch 205/400\n",
            "93/93 - 0s - loss: 0.0184 - accuracy: 0.9113 - val_loss: 0.0191 - val_accuracy: 0.9157\n",
            "Epoch 206/400\n",
            "93/93 - 0s - loss: 0.0174 - accuracy: 0.9173 - val_loss: 0.0175 - val_accuracy: 0.9337\n",
            "Epoch 207/400\n",
            "93/93 - 0s - loss: 0.0174 - accuracy: 0.9180 - val_loss: 0.0181 - val_accuracy: 0.9217\n",
            "Epoch 208/400\n",
            "93/93 - 0s - loss: 0.0178 - accuracy: 0.9120 - val_loss: 0.0182 - val_accuracy: 0.9337\n",
            "Epoch 209/400\n",
            "93/93 - 0s - loss: 0.0175 - accuracy: 0.9113 - val_loss: 0.0175 - val_accuracy: 0.9277\n",
            "Epoch 210/400\n",
            "93/93 - 0s - loss: 0.0176 - accuracy: 0.9194 - val_loss: 0.0185 - val_accuracy: 0.9217\n",
            "Epoch 211/400\n",
            "93/93 - 0s - loss: 0.0178 - accuracy: 0.9086 - val_loss: 0.0178 - val_accuracy: 0.9217\n",
            "Epoch 212/400\n",
            "93/93 - 0s - loss: 0.0173 - accuracy: 0.9160 - val_loss: 0.0179 - val_accuracy: 0.9217\n",
            "Epoch 213/400\n",
            "93/93 - 0s - loss: 0.0178 - accuracy: 0.9140 - val_loss: 0.0193 - val_accuracy: 0.9217\n",
            "Epoch 214/400\n",
            "93/93 - 0s - loss: 0.0173 - accuracy: 0.9173 - val_loss: 0.0175 - val_accuracy: 0.9337\n",
            "Epoch 215/400\n",
            "93/93 - 0s - loss: 0.0175 - accuracy: 0.9113 - val_loss: 0.0183 - val_accuracy: 0.9217\n",
            "Epoch 216/400\n",
            "93/93 - 0s - loss: 0.0174 - accuracy: 0.9214 - val_loss: 0.0187 - val_accuracy: 0.9217\n",
            "Epoch 217/400\n",
            "93/93 - 0s - loss: 0.0172 - accuracy: 0.9153 - val_loss: 0.0175 - val_accuracy: 0.9337\n",
            "Epoch 218/400\n",
            "93/93 - 0s - loss: 0.0171 - accuracy: 0.9173 - val_loss: 0.0186 - val_accuracy: 0.9217\n",
            "Epoch 219/400\n",
            "93/93 - 0s - loss: 0.0172 - accuracy: 0.9187 - val_loss: 0.0183 - val_accuracy: 0.9217\n",
            "Epoch 220/400\n",
            "93/93 - 0s - loss: 0.0173 - accuracy: 0.9167 - val_loss: 0.0181 - val_accuracy: 0.9217\n",
            "Epoch 221/400\n",
            "93/93 - 0s - loss: 0.0173 - accuracy: 0.9187 - val_loss: 0.0190 - val_accuracy: 0.9217\n",
            "Epoch 222/400\n",
            "93/93 - 0s - loss: 0.0174 - accuracy: 0.9167 - val_loss: 0.0184 - val_accuracy: 0.9217\n",
            "Epoch 223/400\n",
            "93/93 - 0s - loss: 0.0176 - accuracy: 0.9133 - val_loss: 0.0190 - val_accuracy: 0.9217\n",
            "Epoch 224/400\n",
            "93/93 - 0s - loss: 0.0161 - accuracy: 0.9187 - val_loss: 0.0178 - val_accuracy: 0.9217\n",
            "Epoch 225/400\n",
            "93/93 - 0s - loss: 0.0172 - accuracy: 0.9133 - val_loss: 0.0190 - val_accuracy: 0.9157\n",
            "Epoch 226/400\n",
            "93/93 - 0s - loss: 0.0177 - accuracy: 0.9133 - val_loss: 0.0175 - val_accuracy: 0.9277\n",
            "Epoch 227/400\n",
            "93/93 - 0s - loss: 0.0175 - accuracy: 0.9099 - val_loss: 0.0173 - val_accuracy: 0.9277\n",
            "Epoch 228/400\n",
            "93/93 - 0s - loss: 0.0172 - accuracy: 0.9194 - val_loss: 0.0188 - val_accuracy: 0.9217\n",
            "Epoch 229/400\n",
            "93/93 - 0s - loss: 0.0176 - accuracy: 0.9113 - val_loss: 0.0181 - val_accuracy: 0.9217\n",
            "Epoch 230/400\n",
            "93/93 - 0s - loss: 0.0171 - accuracy: 0.9133 - val_loss: 0.0179 - val_accuracy: 0.9277\n",
            "Epoch 231/400\n",
            "93/93 - 0s - loss: 0.0173 - accuracy: 0.9153 - val_loss: 0.0180 - val_accuracy: 0.9217\n",
            "Epoch 232/400\n",
            "93/93 - 0s - loss: 0.0175 - accuracy: 0.9120 - val_loss: 0.0175 - val_accuracy: 0.9277\n",
            "Epoch 233/400\n",
            "93/93 - 0s - loss: 0.0180 - accuracy: 0.9099 - val_loss: 0.0180 - val_accuracy: 0.9277\n",
            "Epoch 234/400\n",
            "93/93 - 0s - loss: 0.0175 - accuracy: 0.9126 - val_loss: 0.0182 - val_accuracy: 0.9157\n",
            "Epoch 235/400\n",
            "93/93 - 0s - loss: 0.0170 - accuracy: 0.9173 - val_loss: 0.0172 - val_accuracy: 0.9277\n",
            "Epoch 236/400\n",
            "93/93 - 0s - loss: 0.0171 - accuracy: 0.9214 - val_loss: 0.0169 - val_accuracy: 0.9337\n",
            "Epoch 237/400\n",
            "93/93 - 0s - loss: 0.0171 - accuracy: 0.9147 - val_loss: 0.0181 - val_accuracy: 0.9217\n",
            "Epoch 238/400\n",
            "93/93 - 0s - loss: 0.0178 - accuracy: 0.9052 - val_loss: 0.0178 - val_accuracy: 0.9277\n",
            "Epoch 239/400\n",
            "93/93 - 0s - loss: 0.0170 - accuracy: 0.9147 - val_loss: 0.0169 - val_accuracy: 0.9337\n",
            "Epoch 240/400\n",
            "93/93 - 0s - loss: 0.0170 - accuracy: 0.9187 - val_loss: 0.0187 - val_accuracy: 0.9217\n",
            "Epoch 241/400\n",
            "93/93 - 0s - loss: 0.0169 - accuracy: 0.9153 - val_loss: 0.0185 - val_accuracy: 0.9217\n",
            "Epoch 242/400\n",
            "93/93 - 0s - loss: 0.0173 - accuracy: 0.9126 - val_loss: 0.0183 - val_accuracy: 0.9217\n",
            "Epoch 243/400\n",
            "93/93 - 0s - loss: 0.0171 - accuracy: 0.9120 - val_loss: 0.0181 - val_accuracy: 0.9217\n",
            "Epoch 244/400\n",
            "93/93 - 0s - loss: 0.0174 - accuracy: 0.9167 - val_loss: 0.0188 - val_accuracy: 0.9217\n",
            "Epoch 245/400\n",
            "93/93 - 0s - loss: 0.0171 - accuracy: 0.9133 - val_loss: 0.0184 - val_accuracy: 0.9217\n",
            "Epoch 246/400\n",
            "93/93 - 0s - loss: 0.0179 - accuracy: 0.9099 - val_loss: 0.0194 - val_accuracy: 0.9217\n",
            "Epoch 247/400\n",
            "93/93 - 0s - loss: 0.0168 - accuracy: 0.9167 - val_loss: 0.0186 - val_accuracy: 0.9217\n",
            "Epoch 248/400\n",
            "93/93 - 0s - loss: 0.0175 - accuracy: 0.9113 - val_loss: 0.0179 - val_accuracy: 0.9277\n",
            "Epoch 249/400\n",
            "93/93 - 0s - loss: 0.0170 - accuracy: 0.9147 - val_loss: 0.0189 - val_accuracy: 0.9217\n",
            "Epoch 250/400\n",
            "93/93 - 0s - loss: 0.0181 - accuracy: 0.9052 - val_loss: 0.0187 - val_accuracy: 0.9217\n",
            "Epoch 251/400\n",
            "93/93 - 0s - loss: 0.0169 - accuracy: 0.9153 - val_loss: 0.0179 - val_accuracy: 0.9217\n",
            "Epoch 252/400\n",
            "93/93 - 0s - loss: 0.0171 - accuracy: 0.9106 - val_loss: 0.0172 - val_accuracy: 0.9337\n",
            "Epoch 253/400\n",
            "93/93 - 0s - loss: 0.0173 - accuracy: 0.9187 - val_loss: 0.0184 - val_accuracy: 0.9217\n",
            "Epoch 254/400\n",
            "93/93 - 0s - loss: 0.0182 - accuracy: 0.9073 - val_loss: 0.0177 - val_accuracy: 0.9217\n",
            "Epoch 255/400\n",
            "93/93 - 0s - loss: 0.0171 - accuracy: 0.9086 - val_loss: 0.0182 - val_accuracy: 0.9157\n",
            "Epoch 256/400\n",
            "93/93 - 0s - loss: 0.0171 - accuracy: 0.9180 - val_loss: 0.0181 - val_accuracy: 0.9217\n",
            "Epoch 257/400\n",
            "93/93 - 0s - loss: 0.0163 - accuracy: 0.9214 - val_loss: 0.0184 - val_accuracy: 0.9157\n",
            "Epoch 258/400\n",
            "93/93 - 0s - loss: 0.0164 - accuracy: 0.9200 - val_loss: 0.0178 - val_accuracy: 0.9217\n",
            "Epoch 259/400\n",
            "93/93 - 0s - loss: 0.0168 - accuracy: 0.9153 - val_loss: 0.0176 - val_accuracy: 0.9337\n",
            "Epoch 260/400\n",
            "93/93 - 0s - loss: 0.0173 - accuracy: 0.9099 - val_loss: 0.0178 - val_accuracy: 0.9217\n",
            "Epoch 261/400\n",
            "93/93 - 0s - loss: 0.0168 - accuracy: 0.9187 - val_loss: 0.0186 - val_accuracy: 0.9157\n",
            "Epoch 262/400\n",
            "93/93 - 0s - loss: 0.0173 - accuracy: 0.9133 - val_loss: 0.0178 - val_accuracy: 0.9217\n",
            "Epoch 263/400\n",
            "93/93 - 0s - loss: 0.0172 - accuracy: 0.9153 - val_loss: 0.0195 - val_accuracy: 0.9217\n",
            "Epoch 264/400\n",
            "93/93 - 0s - loss: 0.0174 - accuracy: 0.9066 - val_loss: 0.0182 - val_accuracy: 0.9217\n",
            "Epoch 265/400\n",
            "93/93 - 0s - loss: 0.0164 - accuracy: 0.9220 - val_loss: 0.0187 - val_accuracy: 0.9217\n",
            "Epoch 266/400\n",
            "93/93 - 0s - loss: 0.0174 - accuracy: 0.9194 - val_loss: 0.0185 - val_accuracy: 0.9217\n",
            "Epoch 267/400\n",
            "93/93 - 0s - loss: 0.0169 - accuracy: 0.9187 - val_loss: 0.0192 - val_accuracy: 0.9217\n",
            "Epoch 268/400\n",
            "93/93 - 0s - loss: 0.0170 - accuracy: 0.9133 - val_loss: 0.0187 - val_accuracy: 0.9217\n",
            "Epoch 269/400\n",
            "93/93 - 0s - loss: 0.0178 - accuracy: 0.9126 - val_loss: 0.0192 - val_accuracy: 0.9217\n",
            "Epoch 270/400\n",
            "93/93 - 0s - loss: 0.0168 - accuracy: 0.9180 - val_loss: 0.0186 - val_accuracy: 0.9217\n",
            "Epoch 271/400\n",
            "93/93 - 0s - loss: 0.0171 - accuracy: 0.9140 - val_loss: 0.0181 - val_accuracy: 0.9217\n",
            "Epoch 272/400\n",
            "93/93 - 0s - loss: 0.0172 - accuracy: 0.9147 - val_loss: 0.0191 - val_accuracy: 0.9217\n",
            "Epoch 273/400\n",
            "93/93 - 0s - loss: 0.0172 - accuracy: 0.9133 - val_loss: 0.0190 - val_accuracy: 0.9217\n",
            "Epoch 274/400\n",
            "93/93 - 0s - loss: 0.0168 - accuracy: 0.9153 - val_loss: 0.0189 - val_accuracy: 0.9157\n",
            "Epoch 275/400\n",
            "93/93 - 0s - loss: 0.0173 - accuracy: 0.9147 - val_loss: 0.0186 - val_accuracy: 0.9157\n",
            "Epoch 276/400\n",
            "93/93 - 0s - loss: 0.0172 - accuracy: 0.9167 - val_loss: 0.0186 - val_accuracy: 0.9217\n",
            "Epoch 277/400\n",
            "93/93 - 0s - loss: 0.0164 - accuracy: 0.9153 - val_loss: 0.0180 - val_accuracy: 0.9277\n",
            "Epoch 278/400\n",
            "93/93 - 0s - loss: 0.0166 - accuracy: 0.9214 - val_loss: 0.0175 - val_accuracy: 0.9217\n",
            "Epoch 279/400\n",
            "93/93 - 0s - loss: 0.0168 - accuracy: 0.9173 - val_loss: 0.0182 - val_accuracy: 0.9157\n",
            "Epoch 280/400\n",
            "93/93 - 0s - loss: 0.0173 - accuracy: 0.9187 - val_loss: 0.0183 - val_accuracy: 0.9217\n",
            "Epoch 281/400\n",
            "93/93 - 0s - loss: 0.0168 - accuracy: 0.9126 - val_loss: 0.0173 - val_accuracy: 0.9277\n",
            "Epoch 282/400\n",
            "93/93 - 0s - loss: 0.0169 - accuracy: 0.9133 - val_loss: 0.0182 - val_accuracy: 0.9217\n",
            "Epoch 283/400\n",
            "93/93 - 0s - loss: 0.0175 - accuracy: 0.9140 - val_loss: 0.0176 - val_accuracy: 0.9277\n",
            "Epoch 284/400\n",
            "93/93 - 0s - loss: 0.0163 - accuracy: 0.9180 - val_loss: 0.0188 - val_accuracy: 0.9217\n",
            "Epoch 285/400\n",
            "93/93 - 0s - loss: 0.0170 - accuracy: 0.9187 - val_loss: 0.0186 - val_accuracy: 0.9157\n",
            "Epoch 286/400\n",
            "93/93 - 0s - loss: 0.0168 - accuracy: 0.9120 - val_loss: 0.0189 - val_accuracy: 0.9157\n",
            "Epoch 287/400\n",
            "93/93 - 0s - loss: 0.0169 - accuracy: 0.9187 - val_loss: 0.0176 - val_accuracy: 0.9277\n",
            "Epoch 288/400\n",
            "93/93 - 0s - loss: 0.0169 - accuracy: 0.9187 - val_loss: 0.0176 - val_accuracy: 0.9217\n",
            "Epoch 289/400\n",
            "93/93 - 0s - loss: 0.0171 - accuracy: 0.9153 - val_loss: 0.0181 - val_accuracy: 0.9217\n",
            "Epoch 290/400\n",
            "93/93 - 0s - loss: 0.0159 - accuracy: 0.9200 - val_loss: 0.0189 - val_accuracy: 0.9157\n",
            "Epoch 291/400\n",
            "93/93 - 0s - loss: 0.0175 - accuracy: 0.9133 - val_loss: 0.0177 - val_accuracy: 0.9277\n",
            "Epoch 292/400\n",
            "93/93 - 0s - loss: 0.0170 - accuracy: 0.9160 - val_loss: 0.0181 - val_accuracy: 0.9157\n",
            "Epoch 293/400\n",
            "93/93 - 0s - loss: 0.0166 - accuracy: 0.9200 - val_loss: 0.0179 - val_accuracy: 0.9157\n",
            "Epoch 294/400\n",
            "93/93 - 0s - loss: 0.0166 - accuracy: 0.9214 - val_loss: 0.0177 - val_accuracy: 0.9157\n",
            "Epoch 295/400\n",
            "93/93 - 0s - loss: 0.0169 - accuracy: 0.9200 - val_loss: 0.0184 - val_accuracy: 0.9157\n",
            "Epoch 296/400\n",
            "93/93 - 0s - loss: 0.0168 - accuracy: 0.9187 - val_loss: 0.0178 - val_accuracy: 0.9217\n",
            "Epoch 297/400\n",
            "93/93 - 0s - loss: 0.0166 - accuracy: 0.9207 - val_loss: 0.0181 - val_accuracy: 0.9157\n",
            "Epoch 298/400\n",
            "93/93 - 0s - loss: 0.0162 - accuracy: 0.9194 - val_loss: 0.0179 - val_accuracy: 0.9157\n",
            "Epoch 299/400\n",
            "93/93 - 0s - loss: 0.0164 - accuracy: 0.9200 - val_loss: 0.0178 - val_accuracy: 0.9157\n",
            "Epoch 300/400\n",
            "93/93 - 0s - loss: 0.0166 - accuracy: 0.9214 - val_loss: 0.0179 - val_accuracy: 0.9217\n",
            "Epoch 301/400\n",
            "93/93 - 0s - loss: 0.0166 - accuracy: 0.9153 - val_loss: 0.0186 - val_accuracy: 0.9157\n",
            "Epoch 302/400\n",
            "93/93 - 0s - loss: 0.0162 - accuracy: 0.9173 - val_loss: 0.0180 - val_accuracy: 0.9217\n",
            "Epoch 303/400\n",
            "93/93 - 0s - loss: 0.0161 - accuracy: 0.9160 - val_loss: 0.0189 - val_accuracy: 0.9157\n",
            "Epoch 304/400\n",
            "93/93 - 0s - loss: 0.0165 - accuracy: 0.9220 - val_loss: 0.0179 - val_accuracy: 0.9157\n",
            "Epoch 305/400\n",
            "93/93 - 0s - loss: 0.0170 - accuracy: 0.9214 - val_loss: 0.0176 - val_accuracy: 0.9157\n",
            "Epoch 306/400\n",
            "93/93 - 0s - loss: 0.0164 - accuracy: 0.9180 - val_loss: 0.0181 - val_accuracy: 0.9157\n",
            "Epoch 307/400\n",
            "93/93 - 0s - loss: 0.0160 - accuracy: 0.9241 - val_loss: 0.0184 - val_accuracy: 0.9157\n",
            "Epoch 308/400\n",
            "93/93 - 0s - loss: 0.0168 - accuracy: 0.9140 - val_loss: 0.0176 - val_accuracy: 0.9157\n",
            "Epoch 309/400\n",
            "93/93 - 0s - loss: 0.0165 - accuracy: 0.9167 - val_loss: 0.0175 - val_accuracy: 0.9157\n",
            "Epoch 310/400\n",
            "93/93 - 0s - loss: 0.0166 - accuracy: 0.9187 - val_loss: 0.0184 - val_accuracy: 0.9157\n",
            "Epoch 311/400\n",
            "93/93 - 0s - loss: 0.0162 - accuracy: 0.9200 - val_loss: 0.0177 - val_accuracy: 0.9157\n",
            "Epoch 312/400\n",
            "93/93 - 0s - loss: 0.0174 - accuracy: 0.9120 - val_loss: 0.0174 - val_accuracy: 0.9277\n",
            "Epoch 313/400\n",
            "93/93 - 0s - loss: 0.0166 - accuracy: 0.9207 - val_loss: 0.0186 - val_accuracy: 0.9157\n",
            "Epoch 314/400\n",
            "93/93 - 0s - loss: 0.0163 - accuracy: 0.9160 - val_loss: 0.0183 - val_accuracy: 0.9157\n",
            "Epoch 315/400\n",
            "93/93 - 0s - loss: 0.0161 - accuracy: 0.9220 - val_loss: 0.0181 - val_accuracy: 0.9157\n",
            "Epoch 316/400\n",
            "93/93 - 0s - loss: 0.0166 - accuracy: 0.9133 - val_loss: 0.0177 - val_accuracy: 0.9157\n",
            "Epoch 317/400\n",
            "93/93 - 0s - loss: 0.0164 - accuracy: 0.9214 - val_loss: 0.0183 - val_accuracy: 0.9157\n",
            "Epoch 318/400\n",
            "93/93 - 0s - loss: 0.0166 - accuracy: 0.9173 - val_loss: 0.0178 - val_accuracy: 0.9157\n",
            "Epoch 319/400\n",
            "93/93 - 0s - loss: 0.0166 - accuracy: 0.9227 - val_loss: 0.0189 - val_accuracy: 0.9157\n",
            "Epoch 320/400\n",
            "93/93 - 0s - loss: 0.0164 - accuracy: 0.9220 - val_loss: 0.0179 - val_accuracy: 0.9217\n",
            "Epoch 321/400\n",
            "93/93 - 0s - loss: 0.0158 - accuracy: 0.9200 - val_loss: 0.0187 - val_accuracy: 0.9157\n",
            "Epoch 322/400\n",
            "93/93 - 0s - loss: 0.0168 - accuracy: 0.9167 - val_loss: 0.0184 - val_accuracy: 0.9157\n",
            "Epoch 323/400\n",
            "93/93 - 0s - loss: 0.0164 - accuracy: 0.9227 - val_loss: 0.0169 - val_accuracy: 0.9277\n",
            "Epoch 324/400\n",
            "93/93 - 0s - loss: 0.0168 - accuracy: 0.9099 - val_loss: 0.0180 - val_accuracy: 0.9157\n",
            "Epoch 325/400\n",
            "93/93 - 0s - loss: 0.0165 - accuracy: 0.9254 - val_loss: 0.0186 - val_accuracy: 0.9157\n",
            "Epoch 326/400\n",
            "93/93 - 0s - loss: 0.0161 - accuracy: 0.9187 - val_loss: 0.0179 - val_accuracy: 0.9157\n",
            "Epoch 327/400\n",
            "93/93 - 0s - loss: 0.0160 - accuracy: 0.9194 - val_loss: 0.0174 - val_accuracy: 0.9217\n",
            "Epoch 328/400\n",
            "93/93 - 0s - loss: 0.0162 - accuracy: 0.9261 - val_loss: 0.0178 - val_accuracy: 0.9157\n",
            "Epoch 329/400\n",
            "93/93 - 0s - loss: 0.0166 - accuracy: 0.9153 - val_loss: 0.0180 - val_accuracy: 0.9157\n",
            "Epoch 330/400\n",
            "93/93 - 0s - loss: 0.0164 - accuracy: 0.9187 - val_loss: 0.0182 - val_accuracy: 0.9157\n",
            "Epoch 331/400\n",
            "93/93 - 0s - loss: 0.0164 - accuracy: 0.9207 - val_loss: 0.0192 - val_accuracy: 0.9157\n",
            "Epoch 332/400\n",
            "93/93 - 0s - loss: 0.0168 - accuracy: 0.9167 - val_loss: 0.0176 - val_accuracy: 0.9217\n",
            "Epoch 333/400\n",
            "93/93 - 0s - loss: 0.0164 - accuracy: 0.9180 - val_loss: 0.0171 - val_accuracy: 0.9277\n",
            "Epoch 334/400\n",
            "93/93 - 0s - loss: 0.0160 - accuracy: 0.9220 - val_loss: 0.0184 - val_accuracy: 0.9157\n",
            "Epoch 335/400\n",
            "93/93 - 0s - loss: 0.0167 - accuracy: 0.9200 - val_loss: 0.0180 - val_accuracy: 0.9217\n",
            "Epoch 336/400\n",
            "93/93 - 0s - loss: 0.0159 - accuracy: 0.9187 - val_loss: 0.0171 - val_accuracy: 0.9277\n",
            "Epoch 337/400\n",
            "93/93 - 0s - loss: 0.0170 - accuracy: 0.9180 - val_loss: 0.0171 - val_accuracy: 0.9277\n",
            "Epoch 338/400\n",
            "93/93 - 0s - loss: 0.0162 - accuracy: 0.9200 - val_loss: 0.0171 - val_accuracy: 0.9277\n",
            "Epoch 339/400\n",
            "93/93 - 0s - loss: 0.0166 - accuracy: 0.9194 - val_loss: 0.0168 - val_accuracy: 0.9277\n",
            "Epoch 340/400\n",
            "93/93 - 0s - loss: 0.0166 - accuracy: 0.9254 - val_loss: 0.0177 - val_accuracy: 0.9277\n",
            "Epoch 341/400\n",
            "93/93 - 0s - loss: 0.0164 - accuracy: 0.9200 - val_loss: 0.0173 - val_accuracy: 0.9277\n",
            "Epoch 342/400\n",
            "93/93 - 0s - loss: 0.0164 - accuracy: 0.9180 - val_loss: 0.0183 - val_accuracy: 0.9157\n",
            "Epoch 343/400\n",
            "93/93 - 0s - loss: 0.0158 - accuracy: 0.9254 - val_loss: 0.0180 - val_accuracy: 0.9157\n",
            "Epoch 344/400\n",
            "93/93 - 0s - loss: 0.0165 - accuracy: 0.9140 - val_loss: 0.0182 - val_accuracy: 0.9157\n",
            "Epoch 345/400\n",
            "93/93 - 0s - loss: 0.0172 - accuracy: 0.9160 - val_loss: 0.0183 - val_accuracy: 0.9157\n",
            "Epoch 346/400\n",
            "93/93 - 0s - loss: 0.0165 - accuracy: 0.9173 - val_loss: 0.0187 - val_accuracy: 0.9157\n",
            "Epoch 347/400\n",
            "93/93 - 0s - loss: 0.0166 - accuracy: 0.9153 - val_loss: 0.0176 - val_accuracy: 0.9217\n",
            "Epoch 348/400\n",
            "93/93 - 0s - loss: 0.0163 - accuracy: 0.9247 - val_loss: 0.0179 - val_accuracy: 0.9277\n",
            "Epoch 349/400\n",
            "93/93 - 0s - loss: 0.0160 - accuracy: 0.9247 - val_loss: 0.0176 - val_accuracy: 0.9277\n",
            "Epoch 350/400\n",
            "93/93 - 0s - loss: 0.0164 - accuracy: 0.9180 - val_loss: 0.0163 - val_accuracy: 0.9277\n",
            "Epoch 351/400\n",
            "93/93 - 0s - loss: 0.0162 - accuracy: 0.9294 - val_loss: 0.0177 - val_accuracy: 0.9157\n",
            "Epoch 352/400\n",
            "93/93 - 0s - loss: 0.0161 - accuracy: 0.9220 - val_loss: 0.0166 - val_accuracy: 0.9277\n",
            "Epoch 353/400\n",
            "93/93 - 0s - loss: 0.0164 - accuracy: 0.9220 - val_loss: 0.0180 - val_accuracy: 0.9157\n",
            "Epoch 354/400\n",
            "93/93 - 0s - loss: 0.0163 - accuracy: 0.9227 - val_loss: 0.0179 - val_accuracy: 0.9157\n",
            "Epoch 355/400\n",
            "93/93 - 0s - loss: 0.0157 - accuracy: 0.9220 - val_loss: 0.0177 - val_accuracy: 0.9277\n",
            "Epoch 356/400\n",
            "93/93 - 0s - loss: 0.0165 - accuracy: 0.9214 - val_loss: 0.0173 - val_accuracy: 0.9277\n",
            "Epoch 357/400\n",
            "93/93 - 0s - loss: 0.0168 - accuracy: 0.9180 - val_loss: 0.0187 - val_accuracy: 0.9157\n",
            "Epoch 358/400\n",
            "93/93 - 0s - loss: 0.0164 - accuracy: 0.9153 - val_loss: 0.0167 - val_accuracy: 0.9277\n",
            "Epoch 359/400\n",
            "93/93 - 0s - loss: 0.0169 - accuracy: 0.9160 - val_loss: 0.0182 - val_accuracy: 0.9157\n",
            "Epoch 360/400\n",
            "93/93 - 0s - loss: 0.0160 - accuracy: 0.9214 - val_loss: 0.0183 - val_accuracy: 0.9157\n",
            "Epoch 361/400\n",
            "93/93 - 0s - loss: 0.0153 - accuracy: 0.9274 - val_loss: 0.0182 - val_accuracy: 0.9157\n",
            "Epoch 362/400\n",
            "93/93 - 0s - loss: 0.0162 - accuracy: 0.9214 - val_loss: 0.0178 - val_accuracy: 0.9157\n",
            "Epoch 363/400\n",
            "93/93 - 0s - loss: 0.0163 - accuracy: 0.9194 - val_loss: 0.0165 - val_accuracy: 0.9277\n",
            "Epoch 364/400\n",
            "93/93 - 0s - loss: 0.0158 - accuracy: 0.9214 - val_loss: 0.0170 - val_accuracy: 0.9277\n",
            "Epoch 365/400\n",
            "93/93 - 0s - loss: 0.0166 - accuracy: 0.9180 - val_loss: 0.0169 - val_accuracy: 0.9277\n",
            "Epoch 366/400\n",
            "93/93 - 0s - loss: 0.0165 - accuracy: 0.9187 - val_loss: 0.0167 - val_accuracy: 0.9217\n",
            "Epoch 367/400\n",
            "93/93 - 0s - loss: 0.0162 - accuracy: 0.9126 - val_loss: 0.0168 - val_accuracy: 0.9277\n",
            "Epoch 368/400\n",
            "93/93 - 0s - loss: 0.0157 - accuracy: 0.9261 - val_loss: 0.0162 - val_accuracy: 0.9277\n",
            "Epoch 369/400\n",
            "93/93 - 0s - loss: 0.0165 - accuracy: 0.9173 - val_loss: 0.0168 - val_accuracy: 0.9337\n",
            "Epoch 370/400\n",
            "93/93 - 0s - loss: 0.0158 - accuracy: 0.9214 - val_loss: 0.0168 - val_accuracy: 0.9337\n",
            "Epoch 371/400\n",
            "93/93 - 0s - loss: 0.0160 - accuracy: 0.9241 - val_loss: 0.0184 - val_accuracy: 0.9217\n",
            "Epoch 372/400\n",
            "93/93 - 0s - loss: 0.0157 - accuracy: 0.9254 - val_loss: 0.0170 - val_accuracy: 0.9277\n",
            "Epoch 373/400\n",
            "93/93 - 0s - loss: 0.0159 - accuracy: 0.9207 - val_loss: 0.0173 - val_accuracy: 0.9277\n",
            "Epoch 374/400\n",
            "93/93 - 0s - loss: 0.0161 - accuracy: 0.9200 - val_loss: 0.0181 - val_accuracy: 0.9157\n",
            "Epoch 375/400\n",
            "93/93 - 0s - loss: 0.0153 - accuracy: 0.9281 - val_loss: 0.0169 - val_accuracy: 0.9277\n",
            "Epoch 376/400\n",
            "93/93 - 0s - loss: 0.0155 - accuracy: 0.9234 - val_loss: 0.0179 - val_accuracy: 0.9217\n",
            "Epoch 377/400\n",
            "93/93 - 0s - loss: 0.0163 - accuracy: 0.9214 - val_loss: 0.0178 - val_accuracy: 0.9217\n",
            "Epoch 378/400\n",
            "93/93 - 0s - loss: 0.0162 - accuracy: 0.9247 - val_loss: 0.0180 - val_accuracy: 0.9277\n",
            "Epoch 379/400\n",
            "93/93 - 0s - loss: 0.0167 - accuracy: 0.9147 - val_loss: 0.0186 - val_accuracy: 0.9157\n",
            "Epoch 380/400\n",
            "93/93 - 0s - loss: 0.0161 - accuracy: 0.9207 - val_loss: 0.0168 - val_accuracy: 0.9277\n",
            "Epoch 381/400\n",
            "93/93 - 0s - loss: 0.0165 - accuracy: 0.9214 - val_loss: 0.0183 - val_accuracy: 0.9157\n",
            "Epoch 382/400\n",
            "93/93 - 0s - loss: 0.0164 - accuracy: 0.9214 - val_loss: 0.0178 - val_accuracy: 0.9157\n",
            "Epoch 383/400\n",
            "93/93 - 0s - loss: 0.0164 - accuracy: 0.9167 - val_loss: 0.0162 - val_accuracy: 0.9277\n",
            "Epoch 384/400\n",
            "93/93 - 0s - loss: 0.0167 - accuracy: 0.9207 - val_loss: 0.0182 - val_accuracy: 0.9157\n",
            "Epoch 385/400\n",
            "93/93 - 0s - loss: 0.0160 - accuracy: 0.9267 - val_loss: 0.0187 - val_accuracy: 0.9157\n",
            "Epoch 386/400\n",
            "93/93 - 0s - loss: 0.0163 - accuracy: 0.9227 - val_loss: 0.0175 - val_accuracy: 0.9217\n",
            "Epoch 387/400\n",
            "93/93 - 0s - loss: 0.0153 - accuracy: 0.9247 - val_loss: 0.0178 - val_accuracy: 0.9277\n",
            "Epoch 388/400\n",
            "93/93 - 0s - loss: 0.0161 - accuracy: 0.9214 - val_loss: 0.0164 - val_accuracy: 0.9337\n",
            "Epoch 389/400\n",
            "93/93 - 0s - loss: 0.0165 - accuracy: 0.9147 - val_loss: 0.0181 - val_accuracy: 0.9157\n",
            "Epoch 390/400\n",
            "93/93 - 0s - loss: 0.0159 - accuracy: 0.9207 - val_loss: 0.0176 - val_accuracy: 0.9217\n",
            "Epoch 391/400\n",
            "93/93 - 0s - loss: 0.0162 - accuracy: 0.9187 - val_loss: 0.0181 - val_accuracy: 0.9217\n",
            "Epoch 392/400\n",
            "93/93 - 0s - loss: 0.0159 - accuracy: 0.9227 - val_loss: 0.0177 - val_accuracy: 0.9217\n",
            "Epoch 393/400\n",
            "93/93 - 0s - loss: 0.0159 - accuracy: 0.9214 - val_loss: 0.0180 - val_accuracy: 0.9157\n",
            "Epoch 394/400\n",
            "93/93 - 0s - loss: 0.0157 - accuracy: 0.9227 - val_loss: 0.0177 - val_accuracy: 0.9217\n",
            "Epoch 395/400\n",
            "93/93 - 0s - loss: 0.0158 - accuracy: 0.9234 - val_loss: 0.0170 - val_accuracy: 0.9277\n",
            "Epoch 396/400\n",
            "93/93 - 0s - loss: 0.0162 - accuracy: 0.9247 - val_loss: 0.0176 - val_accuracy: 0.9157\n",
            "Epoch 397/400\n",
            "93/93 - 0s - loss: 0.0160 - accuracy: 0.9281 - val_loss: 0.0178 - val_accuracy: 0.9157\n",
            "Epoch 398/400\n",
            "93/93 - 0s - loss: 0.0164 - accuracy: 0.9194 - val_loss: 0.0185 - val_accuracy: 0.9157\n",
            "Epoch 399/400\n",
            "93/93 - 0s - loss: 0.0162 - accuracy: 0.9200 - val_loss: 0.0171 - val_accuracy: 0.9277\n",
            "Epoch 400/400\n",
            "93/93 - 0s - loss: 0.0156 - accuracy: 0.9207 - val_loss: 0.0184 - val_accuracy: 0.9157\n",
            "Precision:  91.56626462936401 %\n",
            "Error medio absoluto:  0.01842350699007511\n"
          ],
          "name": "stdout"
        }
      ]
    },
    {
      "cell_type": "code",
      "metadata": {
        "id": "EEGjPU-DUn4Q"
      },
      "source": [
        "# Correr esta celda para guardar los pesos en la carpeta del Drive\r\n",
        "import shutil\r\n",
        "save_path = '/content/drive/Shareddrives/NN4FT_DB/Exp_Adrian/Redes Entrenadas'\r\n",
        "\r\n",
        "ruta = shutil.move(pesos, save_path)"
      ],
      "execution_count": 42,
      "outputs": []
    },
    {
      "cell_type": "markdown",
      "metadata": {
        "id": "OsGVDEkwLyQf"
      },
      "source": [
        "### EVALUACIÓN"
      ]
    },
    {
      "cell_type": "code",
      "metadata": {
        "id": "j82o-sZaUxst",
        "colab": {
          "base_uri": "https://localhost:8080/"
        },
        "outputId": "c4cc945e-5f30-472a-85d3-eae801b5d547"
      },
      "source": [
        "nn_path = '/content/drive/Shareddrives/NN4FT_DB/Exp_Adrian/Redes Entrenadas/red1_original.hdf5'\r\n",
        "\r\n",
        "# Declarar el modelo a utilizar antes de correr esta celda\r\n",
        "model = nn_model()\r\n",
        "model.load_weights(nn_path)\r\n",
        "\r\n",
        "# Correr la red nueronal\r\n",
        "print('Corriendo la red ... ')\r\n",
        "scores = model.evaluate(x_test, y_test, verbose=0)\r\n",
        "print(\"Precision: \", scores[1]*100, \"%\")\r\n",
        "print(\"Error medio absoluto: \", scores[0])"
      ],
      "execution_count": 43,
      "outputs": [
        {
          "output_type": "stream",
          "text": [
            "Corriendo la red ... \n",
            "Precision:  91.56626462936401 %\n",
            "Error medio absoluto:  0.01842350699007511\n"
          ],
          "name": "stdout"
        }
      ]
    },
    {
      "cell_type": "code",
      "metadata": {
        "id": "deZDkq_xUxsy",
        "colab": {
          "base_uri": "https://localhost:8080/"
        },
        "outputId": "b996414f-ca3e-48e9-9596-1edb7748023f"
      },
      "source": [
        "# Resultados [SDC, HANG] que obtiene la red para las entradas dadas\r\n",
        "y_predict = model.predict(x_test)\r\n",
        "\r\n",
        "# Error absoluto de las predicciones \r\n",
        "errores = np.abs(y_test-model.predict(x_test))\r\n",
        "\r\n",
        "# Error medio absoluto obtenido en las predicciones \r\n",
        "mean_error = np.abs(y_test-model.predict(x_test)).mean(axis=0)\r\n",
        "\r\n",
        "# Caulcular los resultados para UnAce\r\n",
        "unAce_predict = 1 - (y_predict[:,0] + y_predict[:,1])\r\n",
        "unAce_real = 1 - (y_test[:,0] + y_test[:,1])\r\n",
        "\r\n",
        "unAce_error = np.abs(unAce_real - unAce_predict)\r\n",
        "unAce_MAE = np.abs(unAce_real - unAce_predict).mean(axis=0)\r\n",
        "\r\n",
        "print('Error medio absoluto (FT) :')\r\n",
        "print('SDC -->', mean_error[0])\r\n",
        "print('HANG -->', mean_error[1])\r\n",
        "print('UnAce -->', unAce_MAE)"
      ],
      "execution_count": 44,
      "outputs": [
        {
          "output_type": "stream",
          "text": [
            "Error medio absoluto (FT) :\n",
            "SDC --> 0.01735376199086488\n",
            "HANG --> 0.019493254698320656\n",
            "UnAce --> 0.009935918757561007\n"
          ],
          "name": "stdout"
        }
      ]
    },
    {
      "cell_type": "code",
      "metadata": {
        "id": "QJL9gR-1Uxsy"
      },
      "source": [
        "# Dibuja todas las graficas de los datos de HANG y SDC\r\n",
        "dibujar_Graficas(y_predict, y_test, errores)\r\n",
        "# Dibuja todas las graficas de los datos de unAce\r\n",
        "graficas_UnAce(y_predict, y_test, errores, unAce_real, unAce_predict, unAce_error)"
      ],
      "execution_count": null,
      "outputs": []
    },
    {
      "cell_type": "markdown",
      "metadata": {
        "id": "lZv_NiHsQ-TX"
      },
      "source": [
        "### GUARDADO DE LOS RESULTADOS"
      ]
    },
    {
      "cell_type": "code",
      "metadata": {
        "id": "mPNwmlbYVEV8"
      },
      "source": [
        "results_path = '/content/drive/Shareddrives/NN4FT_DB/Exp_Adrian/Resultados/'\r\n",
        "\r\n",
        "csv = 'red1_original.csv' # ENTRADA DEL USUARIO\r\n",
        "\r\n",
        "with open(results_path + csv, \"w\") as f:\r\n",
        "  f.write('SDC_Real;HANG_Real;UnAce_Real;SDC_Predicho;HANG_Predicho;UnAce_Predicho;error_SDC;error_HANG;error_UnAce\\n')\r\n",
        "  f.close()\r\n",
        "\r\n",
        "string = \"\"\r\n",
        "\r\n",
        "for i in range(y_test.shape[0]):\r\n",
        "  string += (str(y_test[i,0]) + \";\" + str(y_test[i,1]) + \";\" + str(unAce_real[i]) + \";\"\r\n",
        "            + str(y_predict[i,0]) + \";\" + str(y_predict[i,1]) + \";\" + str(unAce_predict[i]) + \";\"\r\n",
        "            + str(errores[i,0]) + \";\" + str(errores[i,1]) + \";\" + str(unAce_error[i]) + \"\\n\")\r\n",
        "  \r\n",
        "  \r\n",
        "with open(results_path + csv, \"a\") as f:\r\n",
        "  f.write(string)\r\n",
        "  f.close()\r\n",
        "  "
      ],
      "execution_count": 45,
      "outputs": []
    },
    {
      "cell_type": "markdown",
      "metadata": {
        "id": "pfVcMtpILJ6I"
      },
      "source": [
        "## RED2 ORIGINAL"
      ]
    },
    {
      "cell_type": "markdown",
      "metadata": {
        "id": "txwc1EDbLkTt"
      },
      "source": [
        "### DATOS ENTRENAMIENTO\r\n"
      ]
    },
    {
      "cell_type": "code",
      "metadata": {
        "id": "UMTD20PLVVGn",
        "colab": {
          "base_uri": "https://localhost:8080/"
        },
        "outputId": "d0dc3d40-5f47-412e-818a-eaa047f33791"
      },
      "source": [
        "# Obtención de los datasets de entrenamiento \r\n",
        "bubblesort_path = '/content/drive/Shareddrives/NN4FT_DB/Exp_Adrian/Data Frames/TAREA_2/bubblesort_full.csv'\r\n",
        "ndes_path = '/content/drive/Shareddrives/NN4FT_DB/Exp_Adrian/Data Frames/TAREA_2/ndes_full.csv'\r\n",
        "\r\n",
        "bubblesort_df = pd.read_csv(bubblesort_path, sep=\";\")\r\n",
        "print(\"bubblesort_df: \", bubblesort_df.shape)\r\n",
        "\r\n",
        "ndes_df = pd.read_csv(ndes_path, sep=\";\")\r\n",
        "print(\"ndes_df: \", ndes_df.shape)\r\n",
        "\r\n",
        "full_df = pd.concat([bubblesort_df, ndes_df])\r\n",
        "print(\"full_df: \", full_df.shape)\r\n",
        "\r\n",
        "# Para obtener el dataset de test se debe indicar un porcentaje del tamaño total (~ 1542)\r\n",
        "porcentaje_ind = 75 # Entrada del usuario (Porcentaje)\r\n",
        "num_ind = (len(full_df)*porcentaje_ind)//100\r\n",
        "print(\"El numero de individuos para la realización de test son: \", num_ind)\r\n",
        "\r\n",
        "final_df = full_df.sample(num_ind).reset_index(drop=True)\r\n",
        "\r\n",
        "\r\n",
        "# Obtención de los datos de entrenamiento\r\n",
        "\r\n",
        "final_Xdata = final_df[[\"time\", \"size\"]].values\r\n",
        "final_Ydata = final_df[[\"hang\", \"sdc\"]].values\r\n",
        "\r\n",
        "print(\"final_Xdata: \", bubblesort_Xdata.shape)\r\n",
        "\r\n",
        "x_data = final_Xdata\r\n",
        "y_data = final_Ydata\r\n",
        "\r\n",
        "# Escalado de los datos utilizados \r\n",
        "y_data = y_data/100 # Se deja en tanto por 1 [0,1)\r\n",
        "scaler = preprocessing.StandardScaler() #Values with mean=0 and standard deviation=1\r\n",
        "x_data = scaler.fit_transform(x_data) \r\n",
        "\r\n",
        "print(\"x_data: \", x_data.shape)\r\n",
        "print(\"y_data: \", y_data.shape)"
      ],
      "execution_count": 47,
      "outputs": [
        {
          "output_type": "stream",
          "text": [
            "bubblesort_df:  (824, 6)\n",
            "ndes_df:  (718, 6)\n",
            "full_df:  (1542, 6)\n",
            "El numero de individuos para la realización de test son:  1156\n",
            "final_Xdata:  (824, 2)\n",
            "x_data:  (1156, 2)\n",
            "y_data:  (1156, 2)\n"
          ],
          "name": "stdout"
        }
      ]
    },
    {
      "cell_type": "markdown",
      "metadata": {
        "id": "cnoKe2jrLkTt"
      },
      "source": [
        "### DATOS DE TEST"
      ]
    },
    {
      "cell_type": "code",
      "metadata": {
        "id": "M1RE7iAmW4_L",
        "colab": {
          "base_uri": "https://localhost:8080/"
        },
        "outputId": "6f7ae304-e026-4154-da6e-be1cf0500528"
      },
      "source": [
        "# Obtención de los datasets de test\r\n",
        "dijkstra_path = '/content/drive/Shareddrives/NN4FT_DB/Exp_Adrian/Data Frames/TAREA_2/dijkstra_full.csv'\r\n",
        "\r\n",
        "dijkstra_df = pd.read_csv(dijkstra_path, sep=\";\")\r\n",
        "print(\"dijkstra_df: \", dijkstra_df.shape)\r\n",
        "\r\n",
        "# Para obtener el dataset de test se debe indicar un porcentaje del tamaño total (112)\r\n",
        "porcentaje_ind = 75 # Entrada del usuario (Porcentaje)\r\n",
        "num_ind = (len(dijkstra_df)*porcentaje_ind)//100\r\n",
        "print(\"El numero de individuos para la realización de test son: \", num_ind)\r\n",
        "\r\n",
        "dijkstra_test_df = dijkstra_df.sample(num_ind).reset_index(drop=True)\r\n",
        "\r\n",
        "print(\"Tamaño del dataset de Test: \", dijkstra_test_df.shape)\r\n",
        "\r\n",
        "# Obtención de los datos de test\r\n",
        "dijkstra_test_Xdata = dijkstra_test_df[[\"time\", \"size\"]].values\r\n",
        "dijkstra_test_Ydata = dijkstra_test_df[[\"hang\", \"sdc\"]].values\r\n",
        "\r\n",
        "print(\"dijkstra_test_Xdata: \", dijkstra_test_Xdata.shape)\r\n",
        "\r\n",
        "x_test = dijkstra_test_Xdata;\r\n",
        "y_test = dijkstra_test_Ydata;\r\n",
        "\r\n",
        "# Se realiza un escalado de los datos\r\n",
        "y_test = y_test/100 # datos en tanto por 1 [0,1)\r\n",
        "scaler = preprocessing.StandardScaler() #Values with mean=0 and standard deviation=1\r\n",
        "x_test = scaler.fit_transform(x_test)\r\n",
        "\r\n",
        "print(\"x_test: \", x_test.shape)\r\n",
        "print(\"y_test: \", y_test.shape)"
      ],
      "execution_count": 49,
      "outputs": [
        {
          "output_type": "stream",
          "text": [
            "dijkstra_df:  (112, 6)\n",
            "El numero de individuos para la realización de test son:  84\n",
            "Tamaño del dataset de Test:  (84, 6)\n",
            "dijkstra_test_Xdata:  (84, 2)\n",
            "x_test:  (84, 2)\n",
            "y_test:  (84, 2)\n"
          ],
          "name": "stdout"
        }
      ]
    },
    {
      "cell_type": "markdown",
      "metadata": {
        "id": "0H33hpPrLyqX"
      },
      "source": [
        "### ENTRENAMIENTO"
      ]
    },
    {
      "cell_type": "code",
      "metadata": {
        "id": "mKIbm9slXREH",
        "colab": {
          "base_uri": "https://localhost:8080/"
        },
        "outputId": "04eed085-d152-4907-da01-1920a9fa41a5"
      },
      "source": [
        "# Declarar el modelo a utilizar antes de correr esta celda\r\n",
        "model = nn_model2()\r\n",
        "model.fit(x=x_data, y=y_data, validation_data=(x_test, y_test), batch_size=16, epochs=400, verbose=2)\r\n",
        "pesos = 'red2_original.hdf5'\r\n",
        "model.save_weights(pesos)\r\n",
        "\r\n",
        "# Resultado de la red para ver que tal ha funcionado el entrenamiento\r\n",
        "scores = model.evaluate(x_test, y_test, verbose=0)\r\n",
        "print(\"Precision: \", scores[1]*100, \"%\")\r\n",
        "print(\"Error medio absoluto: \", scores[0])"
      ],
      "execution_count": 50,
      "outputs": [
        {
          "output_type": "stream",
          "text": [
            "Epoch 1/400\n",
            "73/73 - 1s - loss: 0.1994 - accuracy: 0.5675 - val_loss: 0.0695 - val_accuracy: 0.1071\n",
            "Epoch 2/400\n",
            "73/73 - 0s - loss: 0.0879 - accuracy: 0.6946 - val_loss: 0.0499 - val_accuracy: 0.1548\n",
            "Epoch 3/400\n",
            "73/73 - 0s - loss: 0.0606 - accuracy: 0.7465 - val_loss: 0.0568 - val_accuracy: 0.1190\n",
            "Epoch 4/400\n",
            "73/73 - 0s - loss: 0.0564 - accuracy: 0.7552 - val_loss: 0.0585 - val_accuracy: 0.1190\n",
            "Epoch 5/400\n",
            "73/73 - 0s - loss: 0.0496 - accuracy: 0.7820 - val_loss: 0.0573 - val_accuracy: 0.2143\n",
            "Epoch 6/400\n",
            "73/73 - 0s - loss: 0.0464 - accuracy: 0.7855 - val_loss: 0.0558 - val_accuracy: 0.1667\n",
            "Epoch 7/400\n",
            "73/73 - 0s - loss: 0.0467 - accuracy: 0.7716 - val_loss: 0.0555 - val_accuracy: 0.1667\n",
            "Epoch 8/400\n",
            "73/73 - 0s - loss: 0.0439 - accuracy: 0.7907 - val_loss: 0.0560 - val_accuracy: 0.1905\n",
            "Epoch 9/400\n",
            "73/73 - 0s - loss: 0.0437 - accuracy: 0.7889 - val_loss: 0.0532 - val_accuracy: 0.2143\n",
            "Epoch 10/400\n",
            "73/73 - 0s - loss: 0.0434 - accuracy: 0.7863 - val_loss: 0.0517 - val_accuracy: 0.2619\n",
            "Epoch 11/400\n",
            "73/73 - 0s - loss: 0.0419 - accuracy: 0.7907 - val_loss: 0.0529 - val_accuracy: 0.2262\n",
            "Epoch 12/400\n",
            "73/73 - 0s - loss: 0.0410 - accuracy: 0.8036 - val_loss: 0.0526 - val_accuracy: 0.2262\n",
            "Epoch 13/400\n",
            "73/73 - 0s - loss: 0.0407 - accuracy: 0.8010 - val_loss: 0.0511 - val_accuracy: 0.2857\n",
            "Epoch 14/400\n",
            "73/73 - 0s - loss: 0.0405 - accuracy: 0.8028 - val_loss: 0.0504 - val_accuracy: 0.2500\n",
            "Epoch 15/400\n",
            "73/73 - 0s - loss: 0.0404 - accuracy: 0.8097 - val_loss: 0.0504 - val_accuracy: 0.2619\n",
            "Epoch 16/400\n",
            "73/73 - 0s - loss: 0.0397 - accuracy: 0.8002 - val_loss: 0.0505 - val_accuracy: 0.3333\n",
            "Epoch 17/400\n",
            "73/73 - 0s - loss: 0.0384 - accuracy: 0.8045 - val_loss: 0.0491 - val_accuracy: 0.2619\n",
            "Epoch 18/400\n",
            "73/73 - 0s - loss: 0.0379 - accuracy: 0.8192 - val_loss: 0.0501 - val_accuracy: 0.3214\n",
            "Epoch 19/400\n",
            "73/73 - 0s - loss: 0.0381 - accuracy: 0.8218 - val_loss: 0.0493 - val_accuracy: 0.3571\n",
            "Epoch 20/400\n",
            "73/73 - 0s - loss: 0.0373 - accuracy: 0.8235 - val_loss: 0.0502 - val_accuracy: 0.3690\n",
            "Epoch 21/400\n",
            "73/73 - 0s - loss: 0.0348 - accuracy: 0.8382 - val_loss: 0.0497 - val_accuracy: 0.3690\n",
            "Epoch 22/400\n",
            "73/73 - 0s - loss: 0.0368 - accuracy: 0.8235 - val_loss: 0.0493 - val_accuracy: 0.3810\n",
            "Epoch 23/400\n",
            "73/73 - 0s - loss: 0.0362 - accuracy: 0.8287 - val_loss: 0.0495 - val_accuracy: 0.3690\n",
            "Epoch 24/400\n",
            "73/73 - 0s - loss: 0.0365 - accuracy: 0.8270 - val_loss: 0.0488 - val_accuracy: 0.3452\n",
            "Epoch 25/400\n",
            "73/73 - 0s - loss: 0.0364 - accuracy: 0.8296 - val_loss: 0.0498 - val_accuracy: 0.3810\n",
            "Epoch 26/400\n",
            "73/73 - 0s - loss: 0.0346 - accuracy: 0.8322 - val_loss: 0.0497 - val_accuracy: 0.3810\n",
            "Epoch 27/400\n",
            "73/73 - 0s - loss: 0.0353 - accuracy: 0.8322 - val_loss: 0.0527 - val_accuracy: 0.3571\n",
            "Epoch 28/400\n",
            "73/73 - 0s - loss: 0.0350 - accuracy: 0.8296 - val_loss: 0.0485 - val_accuracy: 0.3929\n",
            "Epoch 29/400\n",
            "73/73 - 0s - loss: 0.0342 - accuracy: 0.8521 - val_loss: 0.0487 - val_accuracy: 0.3810\n",
            "Epoch 30/400\n",
            "73/73 - 0s - loss: 0.0336 - accuracy: 0.8503 - val_loss: 0.0517 - val_accuracy: 0.3929\n",
            "Epoch 31/400\n",
            "73/73 - 0s - loss: 0.0332 - accuracy: 0.8486 - val_loss: 0.0500 - val_accuracy: 0.3929\n",
            "Epoch 32/400\n",
            "73/73 - 0s - loss: 0.0339 - accuracy: 0.8330 - val_loss: 0.0538 - val_accuracy: 0.3929\n",
            "Epoch 33/400\n",
            "73/73 - 0s - loss: 0.0330 - accuracy: 0.8417 - val_loss: 0.0493 - val_accuracy: 0.3929\n",
            "Epoch 34/400\n",
            "73/73 - 0s - loss: 0.0341 - accuracy: 0.8460 - val_loss: 0.0480 - val_accuracy: 0.3810\n",
            "Epoch 35/400\n",
            "73/73 - 0s - loss: 0.0339 - accuracy: 0.8521 - val_loss: 0.0537 - val_accuracy: 0.3929\n",
            "Epoch 36/400\n",
            "73/73 - 0s - loss: 0.0340 - accuracy: 0.8486 - val_loss: 0.0468 - val_accuracy: 0.3810\n",
            "Epoch 37/400\n",
            "73/73 - 0s - loss: 0.0325 - accuracy: 0.8469 - val_loss: 0.0506 - val_accuracy: 0.4048\n",
            "Epoch 38/400\n",
            "73/73 - 0s - loss: 0.0313 - accuracy: 0.8642 - val_loss: 0.0521 - val_accuracy: 0.4048\n",
            "Epoch 39/400\n",
            "73/73 - 0s - loss: 0.0320 - accuracy: 0.8443 - val_loss: 0.0530 - val_accuracy: 0.3810\n",
            "Epoch 40/400\n",
            "73/73 - 0s - loss: 0.0310 - accuracy: 0.8564 - val_loss: 0.0495 - val_accuracy: 0.3810\n",
            "Epoch 41/400\n",
            "73/73 - 0s - loss: 0.0316 - accuracy: 0.8590 - val_loss: 0.0507 - val_accuracy: 0.3690\n",
            "Epoch 42/400\n",
            "73/73 - 0s - loss: 0.0316 - accuracy: 0.8555 - val_loss: 0.0525 - val_accuracy: 0.3690\n",
            "Epoch 43/400\n",
            "73/73 - 0s - loss: 0.0316 - accuracy: 0.8538 - val_loss: 0.0510 - val_accuracy: 0.3690\n",
            "Epoch 44/400\n",
            "73/73 - 0s - loss: 0.0308 - accuracy: 0.8538 - val_loss: 0.0516 - val_accuracy: 0.3690\n",
            "Epoch 45/400\n",
            "73/73 - 0s - loss: 0.0315 - accuracy: 0.8452 - val_loss: 0.0507 - val_accuracy: 0.3810\n",
            "Epoch 46/400\n",
            "73/73 - 0s - loss: 0.0310 - accuracy: 0.8564 - val_loss: 0.0509 - val_accuracy: 0.3690\n",
            "Epoch 47/400\n",
            "73/73 - 0s - loss: 0.0313 - accuracy: 0.8599 - val_loss: 0.0534 - val_accuracy: 0.3690\n",
            "Epoch 48/400\n",
            "73/73 - 0s - loss: 0.0313 - accuracy: 0.8555 - val_loss: 0.0518 - val_accuracy: 0.3810\n",
            "Epoch 49/400\n",
            "73/73 - 0s - loss: 0.0298 - accuracy: 0.8625 - val_loss: 0.0525 - val_accuracy: 0.3810\n",
            "Epoch 50/400\n",
            "73/73 - 0s - loss: 0.0295 - accuracy: 0.8685 - val_loss: 0.0519 - val_accuracy: 0.3571\n",
            "Epoch 51/400\n",
            "73/73 - 0s - loss: 0.0309 - accuracy: 0.8555 - val_loss: 0.0559 - val_accuracy: 0.3571\n",
            "Epoch 52/400\n",
            "73/73 - 0s - loss: 0.0290 - accuracy: 0.8651 - val_loss: 0.0547 - val_accuracy: 0.3690\n",
            "Epoch 53/400\n",
            "73/73 - 0s - loss: 0.0297 - accuracy: 0.8651 - val_loss: 0.0542 - val_accuracy: 0.3929\n",
            "Epoch 54/400\n",
            "73/73 - 0s - loss: 0.0296 - accuracy: 0.8599 - val_loss: 0.0518 - val_accuracy: 0.3690\n",
            "Epoch 55/400\n",
            "73/73 - 0s - loss: 0.0297 - accuracy: 0.8607 - val_loss: 0.0548 - val_accuracy: 0.3571\n",
            "Epoch 56/400\n",
            "73/73 - 0s - loss: 0.0304 - accuracy: 0.8521 - val_loss: 0.0552 - val_accuracy: 0.4048\n",
            "Epoch 57/400\n",
            "73/73 - 0s - loss: 0.0296 - accuracy: 0.8659 - val_loss: 0.0532 - val_accuracy: 0.3810\n",
            "Epoch 58/400\n",
            "73/73 - 0s - loss: 0.0298 - accuracy: 0.8625 - val_loss: 0.0551 - val_accuracy: 0.3690\n",
            "Epoch 59/400\n",
            "73/73 - 0s - loss: 0.0289 - accuracy: 0.8711 - val_loss: 0.0532 - val_accuracy: 0.3690\n",
            "Epoch 60/400\n",
            "73/73 - 0s - loss: 0.0292 - accuracy: 0.8633 - val_loss: 0.0543 - val_accuracy: 0.3690\n",
            "Epoch 61/400\n",
            "73/73 - 0s - loss: 0.0288 - accuracy: 0.8651 - val_loss: 0.0535 - val_accuracy: 0.3810\n",
            "Epoch 62/400\n",
            "73/73 - 0s - loss: 0.0296 - accuracy: 0.8616 - val_loss: 0.0529 - val_accuracy: 0.3929\n",
            "Epoch 63/400\n",
            "73/73 - 0s - loss: 0.0286 - accuracy: 0.8659 - val_loss: 0.0518 - val_accuracy: 0.3929\n",
            "Epoch 64/400\n",
            "73/73 - 0s - loss: 0.0281 - accuracy: 0.8806 - val_loss: 0.0547 - val_accuracy: 0.3810\n",
            "Epoch 65/400\n",
            "73/73 - 0s - loss: 0.0282 - accuracy: 0.8668 - val_loss: 0.0517 - val_accuracy: 0.3810\n",
            "Epoch 66/400\n",
            "73/73 - 0s - loss: 0.0276 - accuracy: 0.8711 - val_loss: 0.0523 - val_accuracy: 0.4048\n",
            "Epoch 67/400\n",
            "73/73 - 0s - loss: 0.0286 - accuracy: 0.8659 - val_loss: 0.0529 - val_accuracy: 0.4048\n",
            "Epoch 68/400\n",
            "73/73 - 0s - loss: 0.0287 - accuracy: 0.8668 - val_loss: 0.0530 - val_accuracy: 0.3810\n",
            "Epoch 69/400\n",
            "73/73 - 0s - loss: 0.0274 - accuracy: 0.8702 - val_loss: 0.0539 - val_accuracy: 0.3810\n",
            "Epoch 70/400\n",
            "73/73 - 0s - loss: 0.0288 - accuracy: 0.8616 - val_loss: 0.0545 - val_accuracy: 0.3929\n",
            "Epoch 71/400\n",
            "73/73 - 0s - loss: 0.0280 - accuracy: 0.8728 - val_loss: 0.0540 - val_accuracy: 0.4048\n",
            "Epoch 72/400\n",
            "73/73 - 0s - loss: 0.0277 - accuracy: 0.8737 - val_loss: 0.0530 - val_accuracy: 0.4167\n",
            "Epoch 73/400\n",
            "73/73 - 0s - loss: 0.0267 - accuracy: 0.8858 - val_loss: 0.0544 - val_accuracy: 0.3690\n",
            "Epoch 74/400\n",
            "73/73 - 0s - loss: 0.0279 - accuracy: 0.8642 - val_loss: 0.0551 - val_accuracy: 0.4048\n",
            "Epoch 75/400\n",
            "73/73 - 0s - loss: 0.0278 - accuracy: 0.8676 - val_loss: 0.0583 - val_accuracy: 0.4048\n",
            "Epoch 76/400\n",
            "73/73 - 0s - loss: 0.0284 - accuracy: 0.8711 - val_loss: 0.0528 - val_accuracy: 0.3810\n",
            "Epoch 77/400\n",
            "73/73 - 0s - loss: 0.0285 - accuracy: 0.8685 - val_loss: 0.0561 - val_accuracy: 0.3810\n",
            "Epoch 78/400\n",
            "73/73 - 0s - loss: 0.0282 - accuracy: 0.8676 - val_loss: 0.0525 - val_accuracy: 0.3690\n",
            "Epoch 79/400\n",
            "73/73 - 0s - loss: 0.0258 - accuracy: 0.8858 - val_loss: 0.0552 - val_accuracy: 0.3810\n",
            "Epoch 80/400\n",
            "73/73 - 0s - loss: 0.0277 - accuracy: 0.8789 - val_loss: 0.0571 - val_accuracy: 0.3929\n",
            "Epoch 81/400\n",
            "73/73 - 0s - loss: 0.0278 - accuracy: 0.8746 - val_loss: 0.0565 - val_accuracy: 0.3810\n",
            "Epoch 82/400\n",
            "73/73 - 0s - loss: 0.0265 - accuracy: 0.8815 - val_loss: 0.0590 - val_accuracy: 0.3690\n",
            "Epoch 83/400\n",
            "73/73 - 0s - loss: 0.0280 - accuracy: 0.8590 - val_loss: 0.0584 - val_accuracy: 0.3690\n",
            "Epoch 84/400\n",
            "73/73 - 0s - loss: 0.0270 - accuracy: 0.8763 - val_loss: 0.0570 - val_accuracy: 0.3929\n",
            "Epoch 85/400\n",
            "73/73 - 0s - loss: 0.0259 - accuracy: 0.8849 - val_loss: 0.0552 - val_accuracy: 0.3810\n",
            "Epoch 86/400\n",
            "73/73 - 0s - loss: 0.0265 - accuracy: 0.8789 - val_loss: 0.0564 - val_accuracy: 0.3929\n",
            "Epoch 87/400\n",
            "73/73 - 0s - loss: 0.0265 - accuracy: 0.8815 - val_loss: 0.0549 - val_accuracy: 0.4048\n",
            "Epoch 88/400\n",
            "73/73 - 0s - loss: 0.0254 - accuracy: 0.8858 - val_loss: 0.0579 - val_accuracy: 0.3810\n",
            "Epoch 89/400\n",
            "73/73 - 0s - loss: 0.0266 - accuracy: 0.8806 - val_loss: 0.0560 - val_accuracy: 0.3810\n",
            "Epoch 90/400\n",
            "73/73 - 0s - loss: 0.0268 - accuracy: 0.8754 - val_loss: 0.0583 - val_accuracy: 0.3810\n",
            "Epoch 91/400\n",
            "73/73 - 0s - loss: 0.0264 - accuracy: 0.8789 - val_loss: 0.0561 - val_accuracy: 0.3810\n",
            "Epoch 92/400\n",
            "73/73 - 0s - loss: 0.0278 - accuracy: 0.8711 - val_loss: 0.0553 - val_accuracy: 0.3690\n",
            "Epoch 93/400\n",
            "73/73 - 0s - loss: 0.0264 - accuracy: 0.8867 - val_loss: 0.0567 - val_accuracy: 0.3690\n",
            "Epoch 94/400\n",
            "73/73 - 0s - loss: 0.0266 - accuracy: 0.8798 - val_loss: 0.0559 - val_accuracy: 0.3810\n",
            "Epoch 95/400\n",
            "73/73 - 0s - loss: 0.0267 - accuracy: 0.8711 - val_loss: 0.0577 - val_accuracy: 0.3810\n",
            "Epoch 96/400\n",
            "73/73 - 0s - loss: 0.0259 - accuracy: 0.8867 - val_loss: 0.0560 - val_accuracy: 0.3810\n",
            "Epoch 97/400\n",
            "73/73 - 0s - loss: 0.0271 - accuracy: 0.8737 - val_loss: 0.0565 - val_accuracy: 0.3690\n",
            "Epoch 98/400\n",
            "73/73 - 0s - loss: 0.0265 - accuracy: 0.8754 - val_loss: 0.0567 - val_accuracy: 0.3690\n",
            "Epoch 99/400\n",
            "73/73 - 0s - loss: 0.0263 - accuracy: 0.8720 - val_loss: 0.0542 - val_accuracy: 0.3690\n",
            "Epoch 100/400\n",
            "73/73 - 0s - loss: 0.0273 - accuracy: 0.8746 - val_loss: 0.0560 - val_accuracy: 0.3690\n",
            "Epoch 101/400\n",
            "73/73 - 0s - loss: 0.0269 - accuracy: 0.8763 - val_loss: 0.0553 - val_accuracy: 0.3690\n",
            "Epoch 102/400\n",
            "73/73 - 0s - loss: 0.0262 - accuracy: 0.8763 - val_loss: 0.0556 - val_accuracy: 0.3929\n",
            "Epoch 103/400\n",
            "73/73 - 0s - loss: 0.0262 - accuracy: 0.8720 - val_loss: 0.0533 - val_accuracy: 0.4048\n",
            "Epoch 104/400\n",
            "73/73 - 0s - loss: 0.0262 - accuracy: 0.8737 - val_loss: 0.0552 - val_accuracy: 0.3810\n",
            "Epoch 105/400\n",
            "73/73 - 0s - loss: 0.0259 - accuracy: 0.8754 - val_loss: 0.0555 - val_accuracy: 0.3810\n",
            "Epoch 106/400\n",
            "73/73 - 0s - loss: 0.0265 - accuracy: 0.8720 - val_loss: 0.0580 - val_accuracy: 0.4048\n",
            "Epoch 107/400\n",
            "73/73 - 0s - loss: 0.0253 - accuracy: 0.8875 - val_loss: 0.0566 - val_accuracy: 0.4048\n",
            "Epoch 108/400\n",
            "73/73 - 0s - loss: 0.0261 - accuracy: 0.8702 - val_loss: 0.0565 - val_accuracy: 0.3929\n",
            "Epoch 109/400\n",
            "73/73 - 0s - loss: 0.0248 - accuracy: 0.8849 - val_loss: 0.0571 - val_accuracy: 0.3690\n",
            "Epoch 110/400\n",
            "73/73 - 0s - loss: 0.0263 - accuracy: 0.8780 - val_loss: 0.0560 - val_accuracy: 0.3810\n",
            "Epoch 111/400\n",
            "73/73 - 0s - loss: 0.0261 - accuracy: 0.8728 - val_loss: 0.0549 - val_accuracy: 0.3810\n",
            "Epoch 112/400\n",
            "73/73 - 0s - loss: 0.0255 - accuracy: 0.8815 - val_loss: 0.0534 - val_accuracy: 0.3810\n",
            "Epoch 113/400\n",
            "73/73 - 0s - loss: 0.0244 - accuracy: 0.8945 - val_loss: 0.0561 - val_accuracy: 0.3810\n",
            "Epoch 114/400\n",
            "73/73 - 0s - loss: 0.0243 - accuracy: 0.8875 - val_loss: 0.0552 - val_accuracy: 0.3810\n",
            "Epoch 115/400\n",
            "73/73 - 0s - loss: 0.0256 - accuracy: 0.8780 - val_loss: 0.0546 - val_accuracy: 0.3810\n",
            "Epoch 116/400\n",
            "73/73 - 0s - loss: 0.0260 - accuracy: 0.8806 - val_loss: 0.0566 - val_accuracy: 0.3810\n",
            "Epoch 117/400\n",
            "73/73 - 0s - loss: 0.0244 - accuracy: 0.8849 - val_loss: 0.0544 - val_accuracy: 0.4048\n",
            "Epoch 118/400\n",
            "73/73 - 0s - loss: 0.0253 - accuracy: 0.8780 - val_loss: 0.0574 - val_accuracy: 0.3810\n",
            "Epoch 119/400\n",
            "73/73 - 0s - loss: 0.0248 - accuracy: 0.8832 - val_loss: 0.0566 - val_accuracy: 0.3810\n",
            "Epoch 120/400\n",
            "73/73 - 0s - loss: 0.0248 - accuracy: 0.8841 - val_loss: 0.0532 - val_accuracy: 0.4167\n",
            "Epoch 121/400\n",
            "73/73 - 0s - loss: 0.0256 - accuracy: 0.8798 - val_loss: 0.0557 - val_accuracy: 0.4167\n",
            "Epoch 122/400\n",
            "73/73 - 0s - loss: 0.0243 - accuracy: 0.8867 - val_loss: 0.0574 - val_accuracy: 0.3929\n",
            "Epoch 123/400\n",
            "73/73 - 0s - loss: 0.0254 - accuracy: 0.8849 - val_loss: 0.0582 - val_accuracy: 0.3810\n",
            "Epoch 124/400\n",
            "73/73 - 0s - loss: 0.0255 - accuracy: 0.8849 - val_loss: 0.0579 - val_accuracy: 0.3690\n",
            "Epoch 125/400\n",
            "73/73 - 0s - loss: 0.0248 - accuracy: 0.8789 - val_loss: 0.0570 - val_accuracy: 0.3690\n",
            "Epoch 126/400\n",
            "73/73 - 0s - loss: 0.0251 - accuracy: 0.8867 - val_loss: 0.0580 - val_accuracy: 0.3690\n",
            "Epoch 127/400\n",
            "73/73 - 0s - loss: 0.0254 - accuracy: 0.8815 - val_loss: 0.0558 - val_accuracy: 0.3810\n",
            "Epoch 128/400\n",
            "73/73 - 0s - loss: 0.0247 - accuracy: 0.8841 - val_loss: 0.0577 - val_accuracy: 0.3810\n",
            "Epoch 129/400\n",
            "73/73 - 0s - loss: 0.0259 - accuracy: 0.8789 - val_loss: 0.0585 - val_accuracy: 0.3690\n",
            "Epoch 130/400\n",
            "73/73 - 0s - loss: 0.0260 - accuracy: 0.8754 - val_loss: 0.0579 - val_accuracy: 0.3690\n",
            "Epoch 131/400\n",
            "73/73 - 0s - loss: 0.0253 - accuracy: 0.8772 - val_loss: 0.0567 - val_accuracy: 0.3810\n",
            "Epoch 132/400\n",
            "73/73 - 0s - loss: 0.0240 - accuracy: 0.8910 - val_loss: 0.0569 - val_accuracy: 0.3810\n",
            "Epoch 133/400\n",
            "73/73 - 0s - loss: 0.0252 - accuracy: 0.8815 - val_loss: 0.0578 - val_accuracy: 0.3929\n",
            "Epoch 134/400\n",
            "73/73 - 0s - loss: 0.0243 - accuracy: 0.8841 - val_loss: 0.0557 - val_accuracy: 0.3929\n",
            "Epoch 135/400\n",
            "73/73 - 0s - loss: 0.0242 - accuracy: 0.8875 - val_loss: 0.0600 - val_accuracy: 0.3929\n",
            "Epoch 136/400\n",
            "73/73 - 0s - loss: 0.0254 - accuracy: 0.8875 - val_loss: 0.0548 - val_accuracy: 0.3929\n",
            "Epoch 137/400\n",
            "73/73 - 0s - loss: 0.0248 - accuracy: 0.8910 - val_loss: 0.0549 - val_accuracy: 0.3810\n",
            "Epoch 138/400\n",
            "73/73 - 0s - loss: 0.0249 - accuracy: 0.8858 - val_loss: 0.0591 - val_accuracy: 0.3810\n",
            "Epoch 139/400\n",
            "73/73 - 0s - loss: 0.0246 - accuracy: 0.8875 - val_loss: 0.0585 - val_accuracy: 0.3929\n",
            "Epoch 140/400\n",
            "73/73 - 0s - loss: 0.0247 - accuracy: 0.8806 - val_loss: 0.0582 - val_accuracy: 0.3810\n",
            "Epoch 141/400\n",
            "73/73 - 0s - loss: 0.0235 - accuracy: 0.8901 - val_loss: 0.0571 - val_accuracy: 0.3929\n",
            "Epoch 142/400\n",
            "73/73 - 0s - loss: 0.0244 - accuracy: 0.8832 - val_loss: 0.0576 - val_accuracy: 0.4048\n",
            "Epoch 143/400\n",
            "73/73 - 0s - loss: 0.0242 - accuracy: 0.8832 - val_loss: 0.0569 - val_accuracy: 0.3810\n",
            "Epoch 144/400\n",
            "73/73 - 0s - loss: 0.0252 - accuracy: 0.8841 - val_loss: 0.0561 - val_accuracy: 0.4048\n",
            "Epoch 145/400\n",
            "73/73 - 0s - loss: 0.0250 - accuracy: 0.8746 - val_loss: 0.0582 - val_accuracy: 0.3810\n",
            "Epoch 146/400\n",
            "73/73 - 0s - loss: 0.0242 - accuracy: 0.8884 - val_loss: 0.0571 - val_accuracy: 0.3810\n",
            "Epoch 147/400\n",
            "73/73 - 0s - loss: 0.0236 - accuracy: 0.8875 - val_loss: 0.0572 - val_accuracy: 0.3929\n",
            "Epoch 148/400\n",
            "73/73 - 0s - loss: 0.0246 - accuracy: 0.8858 - val_loss: 0.0574 - val_accuracy: 0.3810\n",
            "Epoch 149/400\n",
            "73/73 - 0s - loss: 0.0239 - accuracy: 0.8927 - val_loss: 0.0568 - val_accuracy: 0.3929\n",
            "Epoch 150/400\n",
            "73/73 - 0s - loss: 0.0245 - accuracy: 0.8849 - val_loss: 0.0558 - val_accuracy: 0.3929\n",
            "Epoch 151/400\n",
            "73/73 - 0s - loss: 0.0244 - accuracy: 0.8858 - val_loss: 0.0571 - val_accuracy: 0.3810\n",
            "Epoch 152/400\n",
            "73/73 - 0s - loss: 0.0233 - accuracy: 0.8884 - val_loss: 0.0571 - val_accuracy: 0.3810\n",
            "Epoch 153/400\n",
            "73/73 - 0s - loss: 0.0243 - accuracy: 0.8841 - val_loss: 0.0558 - val_accuracy: 0.3810\n",
            "Epoch 154/400\n",
            "73/73 - 0s - loss: 0.0236 - accuracy: 0.8936 - val_loss: 0.0574 - val_accuracy: 0.3929\n",
            "Epoch 155/400\n",
            "73/73 - 0s - loss: 0.0237 - accuracy: 0.8979 - val_loss: 0.0558 - val_accuracy: 0.4167\n",
            "Epoch 156/400\n",
            "73/73 - 0s - loss: 0.0245 - accuracy: 0.8832 - val_loss: 0.0576 - val_accuracy: 0.3929\n",
            "Epoch 157/400\n",
            "73/73 - 0s - loss: 0.0246 - accuracy: 0.8806 - val_loss: 0.0574 - val_accuracy: 0.4167\n",
            "Epoch 158/400\n",
            "73/73 - 0s - loss: 0.0240 - accuracy: 0.8824 - val_loss: 0.0571 - val_accuracy: 0.3929\n",
            "Epoch 159/400\n",
            "73/73 - 0s - loss: 0.0234 - accuracy: 0.8936 - val_loss: 0.0596 - val_accuracy: 0.3929\n",
            "Epoch 160/400\n",
            "73/73 - 0s - loss: 0.0238 - accuracy: 0.8875 - val_loss: 0.0593 - val_accuracy: 0.3929\n",
            "Epoch 161/400\n",
            "73/73 - 0s - loss: 0.0238 - accuracy: 0.8841 - val_loss: 0.0586 - val_accuracy: 0.3929\n",
            "Epoch 162/400\n",
            "73/73 - 0s - loss: 0.0238 - accuracy: 0.8936 - val_loss: 0.0571 - val_accuracy: 0.3929\n",
            "Epoch 163/400\n",
            "73/73 - 0s - loss: 0.0234 - accuracy: 0.8875 - val_loss: 0.0599 - val_accuracy: 0.3929\n",
            "Epoch 164/400\n",
            "73/73 - 0s - loss: 0.0237 - accuracy: 0.8832 - val_loss: 0.0580 - val_accuracy: 0.3810\n",
            "Epoch 165/400\n",
            "73/73 - 0s - loss: 0.0225 - accuracy: 0.8945 - val_loss: 0.0566 - val_accuracy: 0.3929\n",
            "Epoch 166/400\n",
            "73/73 - 0s - loss: 0.0243 - accuracy: 0.8927 - val_loss: 0.0562 - val_accuracy: 0.4048\n",
            "Epoch 167/400\n",
            "73/73 - 0s - loss: 0.0241 - accuracy: 0.8867 - val_loss: 0.0572 - val_accuracy: 0.3810\n",
            "Epoch 168/400\n",
            "73/73 - 0s - loss: 0.0235 - accuracy: 0.8919 - val_loss: 0.0565 - val_accuracy: 0.3810\n",
            "Epoch 169/400\n",
            "73/73 - 0s - loss: 0.0234 - accuracy: 0.8884 - val_loss: 0.0574 - val_accuracy: 0.3810\n",
            "Epoch 170/400\n",
            "73/73 - 0s - loss: 0.0233 - accuracy: 0.8875 - val_loss: 0.0567 - val_accuracy: 0.3810\n",
            "Epoch 171/400\n",
            "73/73 - 0s - loss: 0.0230 - accuracy: 0.8962 - val_loss: 0.0562 - val_accuracy: 0.3929\n",
            "Epoch 172/400\n",
            "73/73 - 0s - loss: 0.0235 - accuracy: 0.8936 - val_loss: 0.0575 - val_accuracy: 0.3929\n",
            "Epoch 173/400\n",
            "73/73 - 0s - loss: 0.0227 - accuracy: 0.8927 - val_loss: 0.0572 - val_accuracy: 0.3810\n",
            "Epoch 174/400\n",
            "73/73 - 0s - loss: 0.0232 - accuracy: 0.8867 - val_loss: 0.0566 - val_accuracy: 0.3929\n",
            "Epoch 175/400\n",
            "73/73 - 0s - loss: 0.0226 - accuracy: 0.8936 - val_loss: 0.0580 - val_accuracy: 0.3810\n",
            "Epoch 176/400\n",
            "73/73 - 0s - loss: 0.0219 - accuracy: 0.8997 - val_loss: 0.0560 - val_accuracy: 0.3929\n",
            "Epoch 177/400\n",
            "73/73 - 0s - loss: 0.0230 - accuracy: 0.8919 - val_loss: 0.0573 - val_accuracy: 0.3929\n",
            "Epoch 178/400\n",
            "73/73 - 0s - loss: 0.0238 - accuracy: 0.8901 - val_loss: 0.0567 - val_accuracy: 0.4048\n",
            "Epoch 179/400\n",
            "73/73 - 0s - loss: 0.0228 - accuracy: 0.8945 - val_loss: 0.0572 - val_accuracy: 0.3810\n",
            "Epoch 180/400\n",
            "73/73 - 0s - loss: 0.0228 - accuracy: 0.8910 - val_loss: 0.0559 - val_accuracy: 0.3929\n",
            "Epoch 181/400\n",
            "73/73 - 0s - loss: 0.0232 - accuracy: 0.8849 - val_loss: 0.0575 - val_accuracy: 0.3929\n",
            "Epoch 182/400\n",
            "73/73 - 0s - loss: 0.0230 - accuracy: 0.8936 - val_loss: 0.0581 - val_accuracy: 0.3929\n",
            "Epoch 183/400\n",
            "73/73 - 0s - loss: 0.0237 - accuracy: 0.8875 - val_loss: 0.0585 - val_accuracy: 0.3810\n",
            "Epoch 184/400\n",
            "73/73 - 0s - loss: 0.0224 - accuracy: 0.8988 - val_loss: 0.0574 - val_accuracy: 0.3929\n",
            "Epoch 185/400\n",
            "73/73 - 0s - loss: 0.0230 - accuracy: 0.8997 - val_loss: 0.0556 - val_accuracy: 0.3929\n",
            "Epoch 186/400\n",
            "73/73 - 0s - loss: 0.0235 - accuracy: 0.8919 - val_loss: 0.0570 - val_accuracy: 0.4167\n",
            "Epoch 187/400\n",
            "73/73 - 0s - loss: 0.0230 - accuracy: 0.8927 - val_loss: 0.0577 - val_accuracy: 0.3929\n",
            "Epoch 188/400\n",
            "73/73 - 0s - loss: 0.0228 - accuracy: 0.8919 - val_loss: 0.0558 - val_accuracy: 0.3929\n",
            "Epoch 189/400\n",
            "73/73 - 0s - loss: 0.0219 - accuracy: 0.8945 - val_loss: 0.0577 - val_accuracy: 0.3929\n",
            "Epoch 190/400\n",
            "73/73 - 0s - loss: 0.0222 - accuracy: 0.8919 - val_loss: 0.0563 - val_accuracy: 0.3929\n",
            "Epoch 191/400\n",
            "73/73 - 0s - loss: 0.0225 - accuracy: 0.8997 - val_loss: 0.0540 - val_accuracy: 0.4167\n",
            "Epoch 192/400\n",
            "73/73 - 0s - loss: 0.0233 - accuracy: 0.8919 - val_loss: 0.0549 - val_accuracy: 0.4286\n",
            "Epoch 193/400\n",
            "73/73 - 0s - loss: 0.0236 - accuracy: 0.8893 - val_loss: 0.0537 - val_accuracy: 0.3929\n",
            "Epoch 194/400\n",
            "73/73 - 0s - loss: 0.0218 - accuracy: 0.9014 - val_loss: 0.0538 - val_accuracy: 0.3929\n",
            "Epoch 195/400\n",
            "73/73 - 0s - loss: 0.0233 - accuracy: 0.8927 - val_loss: 0.0538 - val_accuracy: 0.4048\n",
            "Epoch 196/400\n",
            "73/73 - 0s - loss: 0.0234 - accuracy: 0.8919 - val_loss: 0.0555 - val_accuracy: 0.3810\n",
            "Epoch 197/400\n",
            "73/73 - 0s - loss: 0.0222 - accuracy: 0.8936 - val_loss: 0.0551 - val_accuracy: 0.3929\n",
            "Epoch 198/400\n",
            "73/73 - 0s - loss: 0.0232 - accuracy: 0.8910 - val_loss: 0.0579 - val_accuracy: 0.3810\n",
            "Epoch 199/400\n",
            "73/73 - 0s - loss: 0.0231 - accuracy: 0.8953 - val_loss: 0.0557 - val_accuracy: 0.3929\n",
            "Epoch 200/400\n",
            "73/73 - 0s - loss: 0.0222 - accuracy: 0.9005 - val_loss: 0.0574 - val_accuracy: 0.3929\n",
            "Epoch 201/400\n",
            "73/73 - 0s - loss: 0.0223 - accuracy: 0.8919 - val_loss: 0.0557 - val_accuracy: 0.3810\n",
            "Epoch 202/400\n",
            "73/73 - 0s - loss: 0.0233 - accuracy: 0.8841 - val_loss: 0.0584 - val_accuracy: 0.3929\n",
            "Epoch 203/400\n",
            "73/73 - 0s - loss: 0.0215 - accuracy: 0.9040 - val_loss: 0.0529 - val_accuracy: 0.3929\n",
            "Epoch 204/400\n",
            "73/73 - 0s - loss: 0.0229 - accuracy: 0.8979 - val_loss: 0.0564 - val_accuracy: 0.3929\n",
            "Epoch 205/400\n",
            "73/73 - 0s - loss: 0.0223 - accuracy: 0.8988 - val_loss: 0.0562 - val_accuracy: 0.3929\n",
            "Epoch 206/400\n",
            "73/73 - 0s - loss: 0.0223 - accuracy: 0.8910 - val_loss: 0.0547 - val_accuracy: 0.4405\n",
            "Epoch 207/400\n",
            "73/73 - 0s - loss: 0.0226 - accuracy: 0.8979 - val_loss: 0.0552 - val_accuracy: 0.3929\n",
            "Epoch 208/400\n",
            "73/73 - 0s - loss: 0.0218 - accuracy: 0.8901 - val_loss: 0.0558 - val_accuracy: 0.3929\n",
            "Epoch 209/400\n",
            "73/73 - 0s - loss: 0.0226 - accuracy: 0.9014 - val_loss: 0.0562 - val_accuracy: 0.3929\n",
            "Epoch 210/400\n",
            "73/73 - 0s - loss: 0.0228 - accuracy: 0.8901 - val_loss: 0.0559 - val_accuracy: 0.3810\n",
            "Epoch 211/400\n",
            "73/73 - 0s - loss: 0.0214 - accuracy: 0.9057 - val_loss: 0.0572 - val_accuracy: 0.3929\n",
            "Epoch 212/400\n",
            "73/73 - 0s - loss: 0.0216 - accuracy: 0.9048 - val_loss: 0.0580 - val_accuracy: 0.3929\n",
            "Epoch 213/400\n",
            "73/73 - 0s - loss: 0.0221 - accuracy: 0.9040 - val_loss: 0.0550 - val_accuracy: 0.4048\n",
            "Epoch 214/400\n",
            "73/73 - 0s - loss: 0.0220 - accuracy: 0.8962 - val_loss: 0.0577 - val_accuracy: 0.3929\n",
            "Epoch 215/400\n",
            "73/73 - 0s - loss: 0.0222 - accuracy: 0.8945 - val_loss: 0.0549 - val_accuracy: 0.4048\n",
            "Epoch 216/400\n",
            "73/73 - 0s - loss: 0.0218 - accuracy: 0.9014 - val_loss: 0.0556 - val_accuracy: 0.3929\n",
            "Epoch 217/400\n",
            "73/73 - 0s - loss: 0.0231 - accuracy: 0.8953 - val_loss: 0.0564 - val_accuracy: 0.3929\n",
            "Epoch 218/400\n",
            "73/73 - 0s - loss: 0.0230 - accuracy: 0.8945 - val_loss: 0.0570 - val_accuracy: 0.3810\n",
            "Epoch 219/400\n",
            "73/73 - 0s - loss: 0.0214 - accuracy: 0.8988 - val_loss: 0.0589 - val_accuracy: 0.3929\n",
            "Epoch 220/400\n",
            "73/73 - 0s - loss: 0.0223 - accuracy: 0.8971 - val_loss: 0.0568 - val_accuracy: 0.3929\n",
            "Epoch 221/400\n",
            "73/73 - 0s - loss: 0.0228 - accuracy: 0.8901 - val_loss: 0.0578 - val_accuracy: 0.4048\n",
            "Epoch 222/400\n",
            "73/73 - 0s - loss: 0.0227 - accuracy: 0.8910 - val_loss: 0.0563 - val_accuracy: 0.3929\n",
            "Epoch 223/400\n",
            "73/73 - 0s - loss: 0.0223 - accuracy: 0.8953 - val_loss: 0.0544 - val_accuracy: 0.4286\n",
            "Epoch 224/400\n",
            "73/73 - 0s - loss: 0.0223 - accuracy: 0.8971 - val_loss: 0.0542 - val_accuracy: 0.3929\n",
            "Epoch 225/400\n",
            "73/73 - 0s - loss: 0.0223 - accuracy: 0.8988 - val_loss: 0.0570 - val_accuracy: 0.3929\n",
            "Epoch 226/400\n",
            "73/73 - 0s - loss: 0.0224 - accuracy: 0.8945 - val_loss: 0.0564 - val_accuracy: 0.3810\n",
            "Epoch 227/400\n",
            "73/73 - 0s - loss: 0.0215 - accuracy: 0.8997 - val_loss: 0.0541 - val_accuracy: 0.3929\n",
            "Epoch 228/400\n",
            "73/73 - 0s - loss: 0.0212 - accuracy: 0.8997 - val_loss: 0.0556 - val_accuracy: 0.3810\n",
            "Epoch 229/400\n",
            "73/73 - 0s - loss: 0.0209 - accuracy: 0.9014 - val_loss: 0.0565 - val_accuracy: 0.3929\n",
            "Epoch 230/400\n",
            "73/73 - 0s - loss: 0.0219 - accuracy: 0.9048 - val_loss: 0.0561 - val_accuracy: 0.4048\n",
            "Epoch 231/400\n",
            "73/73 - 0s - loss: 0.0220 - accuracy: 0.8988 - val_loss: 0.0550 - val_accuracy: 0.3929\n",
            "Epoch 232/400\n",
            "73/73 - 0s - loss: 0.0228 - accuracy: 0.8875 - val_loss: 0.0563 - val_accuracy: 0.3929\n",
            "Epoch 233/400\n",
            "73/73 - 0s - loss: 0.0225 - accuracy: 0.8953 - val_loss: 0.0562 - val_accuracy: 0.3929\n",
            "Epoch 234/400\n",
            "73/73 - 0s - loss: 0.0212 - accuracy: 0.9118 - val_loss: 0.0614 - val_accuracy: 0.3929\n",
            "Epoch 235/400\n",
            "73/73 - 0s - loss: 0.0213 - accuracy: 0.9057 - val_loss: 0.0576 - val_accuracy: 0.3929\n",
            "Epoch 236/400\n",
            "73/73 - 0s - loss: 0.0213 - accuracy: 0.9074 - val_loss: 0.0584 - val_accuracy: 0.3929\n",
            "Epoch 237/400\n",
            "73/73 - 0s - loss: 0.0208 - accuracy: 0.9066 - val_loss: 0.0597 - val_accuracy: 0.3929\n",
            "Epoch 238/400\n",
            "73/73 - 0s - loss: 0.0218 - accuracy: 0.8979 - val_loss: 0.0575 - val_accuracy: 0.4048\n",
            "Epoch 239/400\n",
            "73/73 - 0s - loss: 0.0213 - accuracy: 0.9031 - val_loss: 0.0564 - val_accuracy: 0.3810\n",
            "Epoch 240/400\n",
            "73/73 - 0s - loss: 0.0211 - accuracy: 0.9048 - val_loss: 0.0572 - val_accuracy: 0.3810\n",
            "Epoch 241/400\n",
            "73/73 - 0s - loss: 0.0210 - accuracy: 0.9066 - val_loss: 0.0573 - val_accuracy: 0.4048\n",
            "Epoch 242/400\n",
            "73/73 - 0s - loss: 0.0217 - accuracy: 0.9040 - val_loss: 0.0560 - val_accuracy: 0.3810\n",
            "Epoch 243/400\n",
            "73/73 - 0s - loss: 0.0217 - accuracy: 0.9031 - val_loss: 0.0602 - val_accuracy: 0.3929\n",
            "Epoch 244/400\n",
            "73/73 - 0s - loss: 0.0216 - accuracy: 0.9066 - val_loss: 0.0567 - val_accuracy: 0.3929\n",
            "Epoch 245/400\n",
            "73/73 - 0s - loss: 0.0219 - accuracy: 0.8962 - val_loss: 0.0572 - val_accuracy: 0.4048\n",
            "Epoch 246/400\n",
            "73/73 - 0s - loss: 0.0214 - accuracy: 0.9040 - val_loss: 0.0573 - val_accuracy: 0.4048\n",
            "Epoch 247/400\n",
            "73/73 - 0s - loss: 0.0215 - accuracy: 0.8979 - val_loss: 0.0566 - val_accuracy: 0.3810\n",
            "Epoch 248/400\n",
            "73/73 - 0s - loss: 0.0215 - accuracy: 0.9092 - val_loss: 0.0600 - val_accuracy: 0.3810\n",
            "Epoch 249/400\n",
            "73/73 - 0s - loss: 0.0213 - accuracy: 0.9031 - val_loss: 0.0541 - val_accuracy: 0.3810\n",
            "Epoch 250/400\n",
            "73/73 - 0s - loss: 0.0213 - accuracy: 0.9005 - val_loss: 0.0546 - val_accuracy: 0.3690\n",
            "Epoch 251/400\n",
            "73/73 - 0s - loss: 0.0210 - accuracy: 0.9014 - val_loss: 0.0594 - val_accuracy: 0.3810\n",
            "Epoch 252/400\n",
            "73/73 - 0s - loss: 0.0218 - accuracy: 0.9022 - val_loss: 0.0531 - val_accuracy: 0.4048\n",
            "Epoch 253/400\n",
            "73/73 - 0s - loss: 0.0211 - accuracy: 0.9031 - val_loss: 0.0568 - val_accuracy: 0.3929\n",
            "Epoch 254/400\n",
            "73/73 - 0s - loss: 0.0219 - accuracy: 0.9040 - val_loss: 0.0539 - val_accuracy: 0.3929\n",
            "Epoch 255/400\n",
            "73/73 - 0s - loss: 0.0213 - accuracy: 0.9057 - val_loss: 0.0573 - val_accuracy: 0.3690\n",
            "Epoch 256/400\n",
            "73/73 - 0s - loss: 0.0216 - accuracy: 0.9031 - val_loss: 0.0576 - val_accuracy: 0.3690\n",
            "Epoch 257/400\n",
            "73/73 - 0s - loss: 0.0211 - accuracy: 0.9100 - val_loss: 0.0532 - val_accuracy: 0.3810\n",
            "Epoch 258/400\n",
            "73/73 - 0s - loss: 0.0212 - accuracy: 0.9031 - val_loss: 0.0537 - val_accuracy: 0.4048\n",
            "Epoch 259/400\n",
            "73/73 - 0s - loss: 0.0212 - accuracy: 0.9014 - val_loss: 0.0540 - val_accuracy: 0.4048\n",
            "Epoch 260/400\n",
            "73/73 - 0s - loss: 0.0225 - accuracy: 0.8971 - val_loss: 0.0541 - val_accuracy: 0.3810\n",
            "Epoch 261/400\n",
            "73/73 - 0s - loss: 0.0215 - accuracy: 0.9083 - val_loss: 0.0540 - val_accuracy: 0.4048\n",
            "Epoch 262/400\n",
            "73/73 - 0s - loss: 0.0207 - accuracy: 0.9074 - val_loss: 0.0525 - val_accuracy: 0.3810\n",
            "Epoch 263/400\n",
            "73/73 - 0s - loss: 0.0216 - accuracy: 0.8988 - val_loss: 0.0537 - val_accuracy: 0.3929\n",
            "Epoch 264/400\n",
            "73/73 - 0s - loss: 0.0210 - accuracy: 0.9066 - val_loss: 0.0529 - val_accuracy: 0.3929\n",
            "Epoch 265/400\n",
            "73/73 - 0s - loss: 0.0210 - accuracy: 0.9109 - val_loss: 0.0552 - val_accuracy: 0.3929\n",
            "Epoch 266/400\n",
            "73/73 - 0s - loss: 0.0209 - accuracy: 0.9092 - val_loss: 0.0571 - val_accuracy: 0.3810\n",
            "Epoch 267/400\n",
            "73/73 - 0s - loss: 0.0219 - accuracy: 0.8979 - val_loss: 0.0560 - val_accuracy: 0.3810\n",
            "Epoch 268/400\n",
            "73/73 - 0s - loss: 0.0209 - accuracy: 0.9005 - val_loss: 0.0518 - val_accuracy: 0.3929\n",
            "Epoch 269/400\n",
            "73/73 - 0s - loss: 0.0210 - accuracy: 0.9074 - val_loss: 0.0552 - val_accuracy: 0.3810\n",
            "Epoch 270/400\n",
            "73/73 - 0s - loss: 0.0208 - accuracy: 0.9083 - val_loss: 0.0575 - val_accuracy: 0.3810\n",
            "Epoch 271/400\n",
            "73/73 - 0s - loss: 0.0213 - accuracy: 0.9066 - val_loss: 0.0571 - val_accuracy: 0.3810\n",
            "Epoch 272/400\n",
            "73/73 - 0s - loss: 0.0209 - accuracy: 0.9066 - val_loss: 0.0550 - val_accuracy: 0.3929\n",
            "Epoch 273/400\n",
            "73/73 - 0s - loss: 0.0214 - accuracy: 0.9074 - val_loss: 0.0568 - val_accuracy: 0.3810\n",
            "Epoch 274/400\n",
            "73/73 - 0s - loss: 0.0214 - accuracy: 0.9005 - val_loss: 0.0570 - val_accuracy: 0.3690\n",
            "Epoch 275/400\n",
            "73/73 - 0s - loss: 0.0202 - accuracy: 0.9161 - val_loss: 0.0543 - val_accuracy: 0.3929\n",
            "Epoch 276/400\n",
            "73/73 - 0s - loss: 0.0199 - accuracy: 0.9161 - val_loss: 0.0563 - val_accuracy: 0.4048\n",
            "Epoch 277/400\n",
            "73/73 - 0s - loss: 0.0215 - accuracy: 0.9040 - val_loss: 0.0563 - val_accuracy: 0.3929\n",
            "Epoch 278/400\n",
            "73/73 - 0s - loss: 0.0205 - accuracy: 0.9109 - val_loss: 0.0552 - val_accuracy: 0.3810\n",
            "Epoch 279/400\n",
            "73/73 - 0s - loss: 0.0208 - accuracy: 0.9100 - val_loss: 0.0547 - val_accuracy: 0.3929\n",
            "Epoch 280/400\n",
            "73/73 - 0s - loss: 0.0206 - accuracy: 0.9074 - val_loss: 0.0557 - val_accuracy: 0.3810\n",
            "Epoch 281/400\n",
            "73/73 - 0s - loss: 0.0209 - accuracy: 0.9066 - val_loss: 0.0550 - val_accuracy: 0.3810\n",
            "Epoch 282/400\n",
            "73/73 - 0s - loss: 0.0211 - accuracy: 0.9066 - val_loss: 0.0560 - val_accuracy: 0.3929\n",
            "Epoch 283/400\n",
            "73/73 - 0s - loss: 0.0206 - accuracy: 0.9083 - val_loss: 0.0533 - val_accuracy: 0.3810\n",
            "Epoch 284/400\n",
            "73/73 - 0s - loss: 0.0204 - accuracy: 0.9109 - val_loss: 0.0555 - val_accuracy: 0.3810\n",
            "Epoch 285/400\n",
            "73/73 - 0s - loss: 0.0205 - accuracy: 0.9135 - val_loss: 0.0559 - val_accuracy: 0.4286\n",
            "Epoch 286/400\n",
            "73/73 - 0s - loss: 0.0215 - accuracy: 0.9014 - val_loss: 0.0583 - val_accuracy: 0.3929\n",
            "Epoch 287/400\n",
            "73/73 - 0s - loss: 0.0215 - accuracy: 0.8988 - val_loss: 0.0534 - val_accuracy: 0.3929\n",
            "Epoch 288/400\n",
            "73/73 - 0s - loss: 0.0207 - accuracy: 0.9057 - val_loss: 0.0573 - val_accuracy: 0.3929\n",
            "Epoch 289/400\n",
            "73/73 - 0s - loss: 0.0205 - accuracy: 0.9118 - val_loss: 0.0573 - val_accuracy: 0.3929\n",
            "Epoch 290/400\n",
            "73/73 - 0s - loss: 0.0203 - accuracy: 0.9144 - val_loss: 0.0553 - val_accuracy: 0.4048\n",
            "Epoch 291/400\n",
            "73/73 - 0s - loss: 0.0198 - accuracy: 0.9135 - val_loss: 0.0535 - val_accuracy: 0.4048\n",
            "Epoch 292/400\n",
            "73/73 - 0s - loss: 0.0214 - accuracy: 0.9092 - val_loss: 0.0542 - val_accuracy: 0.4405\n",
            "Epoch 293/400\n",
            "73/73 - 0s - loss: 0.0201 - accuracy: 0.9152 - val_loss: 0.0554 - val_accuracy: 0.4405\n",
            "Epoch 294/400\n",
            "73/73 - 0s - loss: 0.0208 - accuracy: 0.9092 - val_loss: 0.0526 - val_accuracy: 0.3929\n",
            "Epoch 295/400\n",
            "73/73 - 0s - loss: 0.0200 - accuracy: 0.9126 - val_loss: 0.0529 - val_accuracy: 0.4167\n",
            "Epoch 296/400\n",
            "73/73 - 0s - loss: 0.0202 - accuracy: 0.9109 - val_loss: 0.0533 - val_accuracy: 0.4048\n",
            "Epoch 297/400\n",
            "73/73 - 0s - loss: 0.0193 - accuracy: 0.9161 - val_loss: 0.0544 - val_accuracy: 0.4167\n",
            "Epoch 298/400\n",
            "73/73 - 0s - loss: 0.0217 - accuracy: 0.9057 - val_loss: 0.0571 - val_accuracy: 0.4524\n",
            "Epoch 299/400\n",
            "73/73 - 0s - loss: 0.0194 - accuracy: 0.9196 - val_loss: 0.0540 - val_accuracy: 0.4167\n",
            "Epoch 300/400\n",
            "73/73 - 0s - loss: 0.0192 - accuracy: 0.9256 - val_loss: 0.0527 - val_accuracy: 0.4405\n",
            "Epoch 301/400\n",
            "73/73 - 0s - loss: 0.0191 - accuracy: 0.9204 - val_loss: 0.0539 - val_accuracy: 0.4405\n",
            "Epoch 302/400\n",
            "73/73 - 0s - loss: 0.0193 - accuracy: 0.9213 - val_loss: 0.0547 - val_accuracy: 0.4405\n",
            "Epoch 303/400\n",
            "73/73 - 0s - loss: 0.0202 - accuracy: 0.9144 - val_loss: 0.0547 - val_accuracy: 0.4286\n",
            "Epoch 304/400\n",
            "73/73 - 0s - loss: 0.0196 - accuracy: 0.9100 - val_loss: 0.0544 - val_accuracy: 0.4286\n",
            "Epoch 305/400\n",
            "73/73 - 0s - loss: 0.0201 - accuracy: 0.9135 - val_loss: 0.0563 - val_accuracy: 0.4405\n",
            "Epoch 306/400\n",
            "73/73 - 0s - loss: 0.0193 - accuracy: 0.9221 - val_loss: 0.0541 - val_accuracy: 0.4524\n",
            "Epoch 307/400\n",
            "73/73 - 0s - loss: 0.0189 - accuracy: 0.9213 - val_loss: 0.0563 - val_accuracy: 0.4405\n",
            "Epoch 308/400\n",
            "73/73 - 0s - loss: 0.0200 - accuracy: 0.9152 - val_loss: 0.0573 - val_accuracy: 0.4524\n",
            "Epoch 309/400\n",
            "73/73 - 0s - loss: 0.0185 - accuracy: 0.9247 - val_loss: 0.0567 - val_accuracy: 0.4286\n",
            "Epoch 310/400\n",
            "73/73 - 0s - loss: 0.0188 - accuracy: 0.9213 - val_loss: 0.0557 - val_accuracy: 0.4405\n",
            "Epoch 311/400\n",
            "73/73 - 0s - loss: 0.0193 - accuracy: 0.9135 - val_loss: 0.0604 - val_accuracy: 0.4524\n",
            "Epoch 312/400\n",
            "73/73 - 0s - loss: 0.0192 - accuracy: 0.9196 - val_loss: 0.0556 - val_accuracy: 0.4286\n",
            "Epoch 313/400\n",
            "73/73 - 0s - loss: 0.0200 - accuracy: 0.9161 - val_loss: 0.0562 - val_accuracy: 0.4524\n",
            "Epoch 314/400\n",
            "73/73 - 0s - loss: 0.0190 - accuracy: 0.9152 - val_loss: 0.0574 - val_accuracy: 0.4286\n",
            "Epoch 315/400\n",
            "73/73 - 0s - loss: 0.0188 - accuracy: 0.9213 - val_loss: 0.0557 - val_accuracy: 0.4405\n",
            "Epoch 316/400\n",
            "73/73 - 0s - loss: 0.0186 - accuracy: 0.9213 - val_loss: 0.0571 - val_accuracy: 0.4286\n",
            "Epoch 317/400\n",
            "73/73 - 0s - loss: 0.0196 - accuracy: 0.9092 - val_loss: 0.0574 - val_accuracy: 0.4524\n",
            "Epoch 318/400\n",
            "73/73 - 0s - loss: 0.0189 - accuracy: 0.9187 - val_loss: 0.0574 - val_accuracy: 0.4643\n",
            "Epoch 319/400\n",
            "73/73 - 0s - loss: 0.0183 - accuracy: 0.9239 - val_loss: 0.0558 - val_accuracy: 0.4524\n",
            "Epoch 320/400\n",
            "73/73 - 0s - loss: 0.0198 - accuracy: 0.9152 - val_loss: 0.0587 - val_accuracy: 0.4405\n",
            "Epoch 321/400\n",
            "73/73 - 0s - loss: 0.0189 - accuracy: 0.9178 - val_loss: 0.0564 - val_accuracy: 0.4286\n",
            "Epoch 322/400\n",
            "73/73 - 0s - loss: 0.0190 - accuracy: 0.9178 - val_loss: 0.0556 - val_accuracy: 0.4524\n",
            "Epoch 323/400\n",
            "73/73 - 0s - loss: 0.0186 - accuracy: 0.9273 - val_loss: 0.0593 - val_accuracy: 0.4286\n",
            "Epoch 324/400\n",
            "73/73 - 0s - loss: 0.0198 - accuracy: 0.9152 - val_loss: 0.0564 - val_accuracy: 0.4167\n",
            "Epoch 325/400\n",
            "73/73 - 0s - loss: 0.0197 - accuracy: 0.9161 - val_loss: 0.0547 - val_accuracy: 0.4286\n",
            "Epoch 326/400\n",
            "73/73 - 0s - loss: 0.0187 - accuracy: 0.9170 - val_loss: 0.0564 - val_accuracy: 0.4286\n",
            "Epoch 327/400\n",
            "73/73 - 0s - loss: 0.0196 - accuracy: 0.9144 - val_loss: 0.0532 - val_accuracy: 0.4167\n",
            "Epoch 328/400\n",
            "73/73 - 0s - loss: 0.0189 - accuracy: 0.9187 - val_loss: 0.0573 - val_accuracy: 0.4405\n",
            "Epoch 329/400\n",
            "73/73 - 0s - loss: 0.0190 - accuracy: 0.9221 - val_loss: 0.0554 - val_accuracy: 0.4405\n",
            "Epoch 330/400\n",
            "73/73 - 0s - loss: 0.0186 - accuracy: 0.9256 - val_loss: 0.0576 - val_accuracy: 0.4286\n",
            "Epoch 331/400\n",
            "73/73 - 0s - loss: 0.0190 - accuracy: 0.9221 - val_loss: 0.0572 - val_accuracy: 0.4167\n",
            "Epoch 332/400\n",
            "73/73 - 0s - loss: 0.0189 - accuracy: 0.9170 - val_loss: 0.0571 - val_accuracy: 0.4286\n",
            "Epoch 333/400\n",
            "73/73 - 0s - loss: 0.0195 - accuracy: 0.9221 - val_loss: 0.0576 - val_accuracy: 0.4286\n",
            "Epoch 334/400\n",
            "73/73 - 0s - loss: 0.0195 - accuracy: 0.9118 - val_loss: 0.0569 - val_accuracy: 0.4524\n",
            "Epoch 335/400\n",
            "73/73 - 0s - loss: 0.0192 - accuracy: 0.9161 - val_loss: 0.0560 - val_accuracy: 0.4405\n",
            "Epoch 336/400\n",
            "73/73 - 0s - loss: 0.0194 - accuracy: 0.9161 - val_loss: 0.0568 - val_accuracy: 0.4286\n",
            "Epoch 337/400\n",
            "73/73 - 0s - loss: 0.0195 - accuracy: 0.9196 - val_loss: 0.0606 - val_accuracy: 0.4643\n",
            "Epoch 338/400\n",
            "73/73 - 0s - loss: 0.0188 - accuracy: 0.9221 - val_loss: 0.0543 - val_accuracy: 0.4405\n",
            "Epoch 339/400\n",
            "73/73 - 0s - loss: 0.0199 - accuracy: 0.9152 - val_loss: 0.0578 - val_accuracy: 0.4643\n",
            "Epoch 340/400\n",
            "73/73 - 0s - loss: 0.0194 - accuracy: 0.9092 - val_loss: 0.0572 - val_accuracy: 0.4524\n",
            "Epoch 341/400\n",
            "73/73 - 0s - loss: 0.0189 - accuracy: 0.9187 - val_loss: 0.0563 - val_accuracy: 0.4524\n",
            "Epoch 342/400\n",
            "73/73 - 0s - loss: 0.0183 - accuracy: 0.9265 - val_loss: 0.0566 - val_accuracy: 0.4524\n",
            "Epoch 343/400\n",
            "73/73 - 0s - loss: 0.0198 - accuracy: 0.9144 - val_loss: 0.0576 - val_accuracy: 0.4524\n",
            "Epoch 344/400\n",
            "73/73 - 0s - loss: 0.0190 - accuracy: 0.9196 - val_loss: 0.0585 - val_accuracy: 0.4524\n",
            "Epoch 345/400\n",
            "73/73 - 0s - loss: 0.0187 - accuracy: 0.9178 - val_loss: 0.0573 - val_accuracy: 0.4286\n",
            "Epoch 346/400\n",
            "73/73 - 0s - loss: 0.0187 - accuracy: 0.9204 - val_loss: 0.0589 - val_accuracy: 0.4405\n",
            "Epoch 347/400\n",
            "73/73 - 0s - loss: 0.0183 - accuracy: 0.9221 - val_loss: 0.0584 - val_accuracy: 0.4524\n",
            "Epoch 348/400\n",
            "73/73 - 0s - loss: 0.0186 - accuracy: 0.9230 - val_loss: 0.0558 - val_accuracy: 0.4524\n",
            "Epoch 349/400\n",
            "73/73 - 0s - loss: 0.0182 - accuracy: 0.9308 - val_loss: 0.0580 - val_accuracy: 0.4405\n",
            "Epoch 350/400\n",
            "73/73 - 0s - loss: 0.0182 - accuracy: 0.9265 - val_loss: 0.0564 - val_accuracy: 0.4524\n",
            "Epoch 351/400\n",
            "73/73 - 0s - loss: 0.0203 - accuracy: 0.9109 - val_loss: 0.0604 - val_accuracy: 0.4405\n",
            "Epoch 352/400\n",
            "73/73 - 0s - loss: 0.0187 - accuracy: 0.9247 - val_loss: 0.0599 - val_accuracy: 0.4524\n",
            "Epoch 353/400\n",
            "73/73 - 0s - loss: 0.0184 - accuracy: 0.9256 - val_loss: 0.0575 - val_accuracy: 0.4524\n",
            "Epoch 354/400\n",
            "73/73 - 0s - loss: 0.0190 - accuracy: 0.9221 - val_loss: 0.0565 - val_accuracy: 0.4524\n",
            "Epoch 355/400\n",
            "73/73 - 0s - loss: 0.0181 - accuracy: 0.9221 - val_loss: 0.0589 - val_accuracy: 0.4286\n",
            "Epoch 356/400\n",
            "73/73 - 0s - loss: 0.0183 - accuracy: 0.9239 - val_loss: 0.0571 - val_accuracy: 0.4524\n",
            "Epoch 357/400\n",
            "73/73 - 0s - loss: 0.0186 - accuracy: 0.9213 - val_loss: 0.0593 - val_accuracy: 0.4524\n",
            "Epoch 358/400\n",
            "73/73 - 0s - loss: 0.0185 - accuracy: 0.9221 - val_loss: 0.0552 - val_accuracy: 0.4405\n",
            "Epoch 359/400\n",
            "73/73 - 0s - loss: 0.0184 - accuracy: 0.9230 - val_loss: 0.0548 - val_accuracy: 0.4286\n",
            "Epoch 360/400\n",
            "73/73 - 0s - loss: 0.0180 - accuracy: 0.9221 - val_loss: 0.0590 - val_accuracy: 0.4405\n",
            "Epoch 361/400\n",
            "73/73 - 0s - loss: 0.0194 - accuracy: 0.9170 - val_loss: 0.0573 - val_accuracy: 0.4524\n",
            "Epoch 362/400\n",
            "73/73 - 0s - loss: 0.0188 - accuracy: 0.9196 - val_loss: 0.0586 - val_accuracy: 0.4286\n",
            "Epoch 363/400\n",
            "73/73 - 0s - loss: 0.0176 - accuracy: 0.9247 - val_loss: 0.0569 - val_accuracy: 0.4524\n",
            "Epoch 364/400\n",
            "73/73 - 0s - loss: 0.0194 - accuracy: 0.9187 - val_loss: 0.0581 - val_accuracy: 0.4286\n",
            "Epoch 365/400\n",
            "73/73 - 0s - loss: 0.0186 - accuracy: 0.9187 - val_loss: 0.0582 - val_accuracy: 0.4167\n",
            "Epoch 366/400\n",
            "73/73 - 0s - loss: 0.0177 - accuracy: 0.9343 - val_loss: 0.0600 - val_accuracy: 0.4405\n",
            "Epoch 367/400\n",
            "73/73 - 0s - loss: 0.0183 - accuracy: 0.9247 - val_loss: 0.0579 - val_accuracy: 0.4524\n",
            "Epoch 368/400\n",
            "73/73 - 0s - loss: 0.0185 - accuracy: 0.9273 - val_loss: 0.0593 - val_accuracy: 0.4286\n",
            "Epoch 369/400\n",
            "73/73 - 0s - loss: 0.0189 - accuracy: 0.9178 - val_loss: 0.0577 - val_accuracy: 0.4286\n",
            "Epoch 370/400\n",
            "73/73 - 0s - loss: 0.0192 - accuracy: 0.9152 - val_loss: 0.0603 - val_accuracy: 0.4286\n",
            "Epoch 371/400\n",
            "73/73 - 0s - loss: 0.0192 - accuracy: 0.9213 - val_loss: 0.0583 - val_accuracy: 0.4405\n",
            "Epoch 372/400\n",
            "73/73 - 0s - loss: 0.0178 - accuracy: 0.9265 - val_loss: 0.0624 - val_accuracy: 0.4286\n",
            "Epoch 373/400\n",
            "73/73 - 0s - loss: 0.0186 - accuracy: 0.9239 - val_loss: 0.0566 - val_accuracy: 0.4405\n",
            "Epoch 374/400\n",
            "73/73 - 0s - loss: 0.0178 - accuracy: 0.9265 - val_loss: 0.0583 - val_accuracy: 0.4286\n",
            "Epoch 375/400\n",
            "73/73 - 0s - loss: 0.0182 - accuracy: 0.9239 - val_loss: 0.0566 - val_accuracy: 0.4286\n",
            "Epoch 376/400\n",
            "73/73 - 0s - loss: 0.0187 - accuracy: 0.9221 - val_loss: 0.0585 - val_accuracy: 0.4524\n",
            "Epoch 377/400\n",
            "73/73 - 0s - loss: 0.0187 - accuracy: 0.9204 - val_loss: 0.0590 - val_accuracy: 0.4524\n",
            "Epoch 378/400\n",
            "73/73 - 0s - loss: 0.0178 - accuracy: 0.9256 - val_loss: 0.0606 - val_accuracy: 0.4643\n",
            "Epoch 379/400\n",
            "73/73 - 0s - loss: 0.0180 - accuracy: 0.9239 - val_loss: 0.0572 - val_accuracy: 0.4405\n",
            "Epoch 380/400\n",
            "73/73 - 0s - loss: 0.0173 - accuracy: 0.9230 - val_loss: 0.0588 - val_accuracy: 0.4405\n",
            "Epoch 381/400\n",
            "73/73 - 0s - loss: 0.0182 - accuracy: 0.9239 - val_loss: 0.0579 - val_accuracy: 0.4405\n",
            "Epoch 382/400\n",
            "73/73 - 0s - loss: 0.0186 - accuracy: 0.9196 - val_loss: 0.0571 - val_accuracy: 0.4405\n",
            "Epoch 383/400\n",
            "73/73 - 0s - loss: 0.0174 - accuracy: 0.9325 - val_loss: 0.0581 - val_accuracy: 0.4524\n",
            "Epoch 384/400\n",
            "73/73 - 0s - loss: 0.0184 - accuracy: 0.9230 - val_loss: 0.0597 - val_accuracy: 0.4524\n",
            "Epoch 385/400\n",
            "73/73 - 0s - loss: 0.0183 - accuracy: 0.9213 - val_loss: 0.0580 - val_accuracy: 0.4167\n",
            "Epoch 386/400\n",
            "73/73 - 0s - loss: 0.0183 - accuracy: 0.9282 - val_loss: 0.0562 - val_accuracy: 0.4286\n",
            "Epoch 387/400\n",
            "73/73 - 0s - loss: 0.0181 - accuracy: 0.9213 - val_loss: 0.0576 - val_accuracy: 0.4524\n",
            "Epoch 388/400\n",
            "73/73 - 0s - loss: 0.0187 - accuracy: 0.9221 - val_loss: 0.0585 - val_accuracy: 0.4405\n",
            "Epoch 389/400\n",
            "73/73 - 0s - loss: 0.0179 - accuracy: 0.9221 - val_loss: 0.0577 - val_accuracy: 0.4405\n",
            "Epoch 390/400\n",
            "73/73 - 0s - loss: 0.0189 - accuracy: 0.9221 - val_loss: 0.0599 - val_accuracy: 0.4405\n",
            "Epoch 391/400\n",
            "73/73 - 0s - loss: 0.0183 - accuracy: 0.9196 - val_loss: 0.0573 - val_accuracy: 0.4167\n",
            "Epoch 392/400\n",
            "73/73 - 0s - loss: 0.0182 - accuracy: 0.9256 - val_loss: 0.0605 - val_accuracy: 0.4286\n",
            "Epoch 393/400\n",
            "73/73 - 0s - loss: 0.0182 - accuracy: 0.9196 - val_loss: 0.0575 - val_accuracy: 0.4286\n",
            "Epoch 394/400\n",
            "73/73 - 0s - loss: 0.0184 - accuracy: 0.9265 - val_loss: 0.0566 - val_accuracy: 0.4286\n",
            "Epoch 395/400\n",
            "73/73 - 0s - loss: 0.0182 - accuracy: 0.9282 - val_loss: 0.0571 - val_accuracy: 0.4286\n",
            "Epoch 396/400\n",
            "73/73 - 0s - loss: 0.0188 - accuracy: 0.9196 - val_loss: 0.0579 - val_accuracy: 0.4286\n",
            "Epoch 397/400\n",
            "73/73 - 0s - loss: 0.0187 - accuracy: 0.9204 - val_loss: 0.0588 - val_accuracy: 0.4167\n",
            "Epoch 398/400\n",
            "73/73 - 0s - loss: 0.0193 - accuracy: 0.9144 - val_loss: 0.0588 - val_accuracy: 0.4167\n",
            "Epoch 399/400\n",
            "73/73 - 0s - loss: 0.0182 - accuracy: 0.9204 - val_loss: 0.0586 - val_accuracy: 0.4167\n",
            "Epoch 400/400\n",
            "73/73 - 0s - loss: 0.0175 - accuracy: 0.9308 - val_loss: 0.0562 - val_accuracy: 0.4286\n",
            "Precision:  42.85714328289032 %\n",
            "Error medio absoluto:  0.05616328865289688\n"
          ],
          "name": "stdout"
        }
      ]
    },
    {
      "cell_type": "code",
      "metadata": {
        "id": "EdbzSmwQXREJ"
      },
      "source": [
        "# Correr esta celda para guardar los pesos en la carpeta del Drive\r\n",
        "import shutil\r\n",
        "save_path = '/content/drive/Shareddrives/NN4FT_DB/Exp_Adrian/Redes Entrenadas'\r\n",
        "\r\n",
        "ruta = shutil.move(pesos, save_path)"
      ],
      "execution_count": 51,
      "outputs": []
    },
    {
      "cell_type": "markdown",
      "metadata": {
        "id": "eMsmpaxJLyqX"
      },
      "source": [
        "### EVALUACIÓN"
      ]
    },
    {
      "cell_type": "code",
      "metadata": {
        "id": "Ls5TsuqfXYTk",
        "colab": {
          "base_uri": "https://localhost:8080/"
        },
        "outputId": "33490507-5df8-4911-b89d-7aef73715139"
      },
      "source": [
        "nn_path = '/content/drive/Shareddrives/NN4FT_DB/Exp_Adrian/Redes Entrenadas/red2_original.hdf5'\r\n",
        "\r\n",
        "# Declarar el modelo a utilizar antes de correr esta celda\r\n",
        "model = nn_model()\r\n",
        "model.load_weights(nn_path)\r\n",
        "\r\n",
        "# Correr la red nueronal\r\n",
        "print('Corriendo la red ... ')\r\n",
        "scores = model.evaluate(x_test, y_test, verbose=0)\r\n",
        "print(\"Precision: \", scores[1]*100, \"%\")\r\n",
        "print(\"Error medio absoluto: \", scores[0])"
      ],
      "execution_count": 53,
      "outputs": [
        {
          "output_type": "stream",
          "text": [
            "Corriendo la red ... \n",
            "Precision:  42.85714328289032 %\n",
            "Error medio absoluto:  0.05616328865289688\n"
          ],
          "name": "stdout"
        }
      ]
    },
    {
      "cell_type": "code",
      "metadata": {
        "id": "lAzD5uKjXYTl",
        "colab": {
          "base_uri": "https://localhost:8080/"
        },
        "outputId": "cfd25c40-691e-4e4a-a3e6-f529c72c5c18"
      },
      "source": [
        "# Resultados [SDC, HANG] que obtiene la red para las entradas dadas\r\n",
        "y_predict = model.predict(x_test)\r\n",
        "\r\n",
        "# Error absoluto de las predicciones \r\n",
        "errores = np.abs(y_test-model.predict(x_test))\r\n",
        "\r\n",
        "# Error medio absoluto obtenido en las predicciones \r\n",
        "mean_error = np.abs(y_test-model.predict(x_test)).mean(axis=0)\r\n",
        "\r\n",
        "# Caulcular los resultados para UnAce\r\n",
        "unAce_predict = 1 - (y_predict[:,0] + y_predict[:,1])\r\n",
        "unAce_real = 1 - (y_test[:,0] + y_test[:,1])\r\n",
        "\r\n",
        "unAce_error = np.abs(unAce_real - unAce_predict)\r\n",
        "unAce_MAE = np.abs(unAce_real - unAce_predict).mean(axis=0)\r\n",
        "\r\n",
        "print('Error medio absoluto (FT) :')\r\n",
        "print('SDC -->', mean_error[0])\r\n",
        "print('HANG -->', mean_error[1])\r\n",
        "print('UnAce -->', unAce_MAE)"
      ],
      "execution_count": 54,
      "outputs": [
        {
          "output_type": "stream",
          "text": [
            "Error medio absoluto (FT) :\n",
            "SDC --> 0.05354841775723265\n",
            "HANG --> 0.05877815936383073\n",
            "UnAce --> 0.010523513154947614\n"
          ],
          "name": "stdout"
        }
      ]
    },
    {
      "cell_type": "code",
      "metadata": {
        "id": "IdWw56l9XYTl"
      },
      "source": [
        "# Dibuja todas las graficas de los datos de HANG y SDC\r\n",
        "dibujar_Graficas(y_predict, y_test, errores)\r\n",
        "# Dibuja todas las graficas de los datos de unAce\r\n",
        "graficas_UnAce(y_predict, y_test, errores, unAce_real, unAce_predict, unAce_error)"
      ],
      "execution_count": null,
      "outputs": []
    },
    {
      "cell_type": "markdown",
      "metadata": {
        "id": "KTwTeQlQQ9V3"
      },
      "source": [
        "### GUARDADO DE LOS RESULTADOS"
      ]
    },
    {
      "cell_type": "code",
      "metadata": {
        "id": "qtzbiuLLXaqJ"
      },
      "source": [
        "results_path = '/content/drive/Shareddrives/NN4FT_DB/Exp_Adrian/Resultados/'\r\n",
        "\r\n",
        "csv = 'red2_original.csv' # ENTRADA DEL USUARIO\r\n",
        "with open(results_path + csv, \"w\") as f:\r\n",
        "  f.write('SDC_Real;HANG_Real;UnAce_Real;SDC_Predicho;HANG_Predicho;UnAce_Predicho;error_SDC;error_HANG;error_UnAce\\n')\r\n",
        "  f.close()\r\n",
        "\r\n",
        "string = \"\"\r\n",
        "\r\n",
        "for i in range(y_test.shape[0]):\r\n",
        "  string += (str(y_test[i,0]) + \";\" + str(y_test[i,1]) + \";\" + str(unAce_real[i]) + \";\"\r\n",
        "            + str(y_predict[i,0]) + \";\" + str(y_predict[i,1]) + \";\" + str(unAce_predict[i]) + \";\"\r\n",
        "            + str(errores[i,0]) + \";\" + str(errores[i,1]) + \";\" + str(unAce_error[i]) + \"\\n\")\r\n",
        "  \r\n",
        "  \r\n",
        "with open(results_path + csv, \"a\") as f:\r\n",
        "  f.write(string)\r\n",
        "  f.close()\r\n",
        "  "
      ],
      "execution_count": 57,
      "outputs": []
    },
    {
      "cell_type": "markdown",
      "metadata": {
        "id": "Hgkxa3MpMhu6"
      },
      "source": [
        "## OPTMIZACIÓN DE HIPERPARAMETROS\r\n",
        "\r\n",
        "Para realizar la optimización de parametros en este proyecto solamente se realizará solamente para probar las `red1 extremos` y `red2 extremos`. Por esta razón antes de llevar a cabo la optimización de parametros se deben correr los apartados de `DATOS ENTRENAMIENTO` y `DATOS TEST` para los conjuntos de datos que se quiera hacer la optimización."
      ]
    },
    {
      "cell_type": "code",
      "metadata": {
        "id": "THyv7279f0Hv"
      },
      "source": [
        "# Hyperparameter optimization\n",
        "# Parametros a optimizar son : nl, nnl, epochs\n",
        " \n",
        "# Fix random seed for reproducibility\n",
        "seed = 0\n",
        "np.random.seed(seed)\n",
        "\n",
        "# Antes de correr esta celda se debe declarar el modelo a optimizar\n",
        "model = KerasRegressor(build_fn=nn_modelToOptimize, epochs=150, verbose=0)\n",
        " \n",
        "# Neurons in each layer\n",
        "nn1=[2, 5, 15, 25, 45, 75, 128] \n",
        "nn2=[2, 5, 15, 25, 45, 75, 128]\n",
        "nn3=[2, 5, 15, 25, 45, 75, 128]\n",
        "nn4=[2, 5, 15, 25, 45, 75, 128]\n",
        "nn5=[2, 5, 15, 25, 45, 75, 128]\n",
        "nn6=[2, 5, 15, 25, 45, 75, 128]\n",
        "nn7=[2, 5, 15, 25, 45, 75, 128]\n",
        "\n",
        "# Numbers of hidden layers\n",
        "nl = [1]\n",
        "param_grid = dict(nl=nl, nn1=nn1) #nl = 1\n",
        "\n",
        "# nl = [2]\n",
        "# param_grid = dict(nl=nl, nn1=nn1, nn2=nn2) #nl = 2\n",
        "\n",
        "# nl = [3]\n",
        "# param_grid = dict(nl=nl, nn1=nn1, nn2=nn2, nn3=nn3) #nl = 3\n",
        "\n",
        "# nl = [4]\n",
        "# param_grid = dict(nl=nl, nn1=nn1, nn2=nn2, nn3=nn3, nn4=nn4) #nl = 4\n",
        "\n",
        "# nl = [5]\n",
        "# param_grid = dict(nl=nl, nn1=nn1, nn2=nn2, nn3=nn3, nn4=nn4, nn5=nn5) #nl = 5\n",
        "\n",
        "# nl = [6]\n",
        "# param_grid = dict(nl=nl, nn1=nn1, nn2=nn2, nn3=nn3, nn4=nn4, nn5=nn5, nn6=nn6) #nl = 6\n",
        "\n",
        "# nl = [7]\n",
        "# param_grid = dict(nl=nl, nn1=nn1, nn2=nn2, nn3=nn3, nn4=nn4, nn5=nn5, nn6=nn6, nn7=nn7) #nl = 7\n",
        " \n",
        "#grid = GridSearchCV(estimator=model, scoring='neg_mean_absolute_error', param_grid=param_grid, cv=10, n_jobs=-1, verbose=2)\n",
        "grid = RandomizedSearchCV(estimator=model, scoring='neg_mean_absolute_error', n_iter=36, param_distributions=param_grid, cv=10, n_jobs=-1, verbose=2)\n",
        "grid_result = grid.fit(x_data, y_data)\n",
        " \n",
        "# summarize results\n",
        "print(\"Best: %f using %s\" % (grid_result.best_score_, grid_result.best_params_))\n",
        "means = grid_result.cv_results_['mean_test_score']\n",
        "stds = grid_result.cv_results_['std_test_score']\n",
        "params = grid_result.cv_results_['params']\n",
        " \n",
        "for mean, stdev, param in sorted(zip(means, stds, params), key=lambda x: x[0])[::-1]:\n",
        "    print(\"%f (%f) with: %r\" % (mean, stdev, param))"
      ],
      "execution_count": null,
      "outputs": []
    },
    {
      "cell_type": "code",
      "metadata": {
        "id": "h4yX6Mhr48SA"
      },
      "source": [
        "# Función necesaria para hacer la evaluación de la Validación Cruzada\n",
        "\n",
        "def train_and_evaluate(model,train,test):\n",
        "\n",
        "  scaler = preprocessing.StandardScaler() #Values with mean=0 and standard deviation=1\n",
        "  \n",
        "  x_trainCV = scaler.fit_transform(x_data[train])\n",
        "  x_testCV = scaler.transform(x_data[test])\n",
        "  \n",
        "  y_trainCV = y_data[train]\n",
        "  y_testCV = y_data[test]\n",
        "  \n",
        "  history = model.fit(x=x_trainCV, y=y_trainCV, epochs=epochs, batch_size=16, validation_data=(x_testCV, y_testCV), verbose=0)\n",
        "  \n",
        "  scores = model.evaluate(x_testCV, y_testCV, verbose=0)\n",
        "  \n",
        "  pinta_grafica(history)\n",
        "  \n",
        "  return scores, history"
      ],
      "execution_count": null,
      "outputs": []
    },
    {
      "cell_type": "code",
      "metadata": {
        "id": "p6rS7IbAp1AV"
      },
      "source": [
        "# Para obtener un numero de épocas como \n",
        "epochs = 1000 # Se utiliza un numero alto para ver donde deja de aprender\n",
        "n_folds = 10 # CV con 10 particiones\n",
        "\n",
        "skf = KFold(n_splits=n_folds, random_state=0, shuffle=True).split(x_train, y_train)\n",
        " \n",
        "mean_plot = dict(loss=[0 for i in range(epochs)],val_loss=[0 for i in range(epochs)])\n",
        "values_kfold = np.empty([n_folds, 2])\n",
        "\n",
        "for i, (train, test) in enumerate(skf):\n",
        "  print(\"Running fold \", i+1, \"/\", n_folds)\n",
        "  \n",
        "  model = nn_model2() \n",
        "  c, history = train_and_evaluate(model,train,test)\n",
        "  values_kfold[i]=c\n",
        "  \n",
        "  for i in range(epochs):\n",
        "    mean_plot['loss'][i]+= history.history['loss'][i]\n",
        "    mean_plot['val_loss'][i]+= history.history['val_loss'][i]\n",
        " \n",
        "meanValues = values_kfold.mean(axis=0)\n",
        "print(\"Loss: \", meanValues[0], \" Accuracy: \", meanValues[1])\n",
        "\n",
        "for i in range(epochs):\n",
        "  mean_plot['loss'][i] /= n_folds\n",
        "  mean_plot['val_loss'][i] /= n_folds\n",
        "\n",
        "plt.plot(mean_plot['loss'],'r')\n",
        "plt.plot(mean_plot['val_loss'], 'b')\n",
        "plt.title('CV mean loss')\n",
        "plt.ylabel('loss')\n",
        "plt.xlabel('epoch')\n",
        "plt.legend(['train', 'val'], loc='upper left')\n",
        "plt.show()"
      ],
      "execution_count": null,
      "outputs": []
    },
    {
      "cell_type": "markdown",
      "metadata": {
        "id": "6Qtk8ticL3QR"
      },
      "source": [
        "## MODELOS DE REDES NUERONALES\r\n"
      ]
    },
    {
      "cell_type": "markdown",
      "metadata": {
        "id": "8jDNU1RnL7In"
      },
      "source": [
        "### MODELO 1"
      ]
    },
    {
      "cell_type": "code",
      "metadata": {
        "id": "8JJudXoq5R9C"
      },
      "source": [
        "def nn_model():\r\n",
        "  visible = Input(shape=(x_data.shape[1],))\r\n",
        "  \r\n",
        "  hidden = Dense(128, activation='relu', kernel_initializer='he_normal') (visible)\r\n",
        "  hidden = Dense(128, activation='relu', kernel_initializer='he_normal') (hidden)\r\n",
        "  hidden = Dense(22, activation='relu', kernel_initializer='he_normal') (hidden)\r\n",
        "  hidden = Dense(22, activation='relu', kernel_initializer='he_normal') (hidden)\r\n",
        "  hidden = Dense(64, activation='relu', kernel_initializer='he_normal') (hidden)\r\n",
        "  hidden = Dense(44, activation='relu', kernel_initializer='he_normal') (hidden)\r\n",
        "  \r\n",
        "  output = Dense(2, activation='tanh', kernel_initializer='he_normal') (hidden)\r\n",
        "  \r\n",
        "  model = Model(visible, output)\r\n",
        "  model.compile(optimizer='Adamax', loss='mean_absolute_error', metrics=['accuracy'])\r\n",
        "  \r\n",
        "  return model"
      ],
      "execution_count": 7,
      "outputs": []
    },
    {
      "cell_type": "markdown",
      "metadata": {
        "id": "tnmMZoQmL-nz"
      },
      "source": [
        "### MODELO 2"
      ]
    },
    {
      "cell_type": "code",
      "metadata": {
        "id": "xJeoJFCuvbdi"
      },
      "source": [
        "#Define your model\r\n",
        "def nn_model2():\r\n",
        "  visible = Input(shape=(x_data.shape[1]))\r\n",
        "  \r\n",
        "  hidden = Dense(128, activation='relu', kernel_initializer='he_normal', kernel_constraint=maxnorm(3)) (visible)\r\n",
        "  hidden = Dropout(0.1)(hidden)\r\n",
        "  hidden = Dense(128, activation='relu', kernel_initializer='he_normal', kernel_constraint=maxnorm(3)) (hidden)\r\n",
        "  hidden = Dropout(0.1)(hidden)\r\n",
        "  hidden = Dense(22, activation='relu', kernel_initializer='he_normal', kernel_constraint=maxnorm(3)) (hidden)\r\n",
        "  hidden = Dropout(0.1)(hidden)\r\n",
        "  hidden = Dense(22, activation='relu', kernel_initializer='he_normal', kernel_constraint=maxnorm(3)) (hidden)\r\n",
        "  hidden = Dropout(0.1)(hidden)\r\n",
        "  hidden = Dense(64, activation='relu', kernel_initializer='he_normal', kernel_constraint=maxnorm(3)) (hidden)\r\n",
        "  hidden = Dropout(0.1)(hidden)\r\n",
        "  hidden = Dense(44, activation='relu', kernel_initializer='he_normal', kernel_constraint=maxnorm(3)) (hidden)\r\n",
        "  hidden = Dropout(0.1)(hidden)\r\n",
        "  \r\n",
        "  output = Dense(2, activation='tanh', kernel_initializer='he_normal') (hidden)\r\n",
        "  \r\n",
        "  model = Model(visible, output)\r\n",
        "  model.compile(optimizer=optimizers.Adamax(), loss='mean_absolute_error', metrics=['accuracy'])\r\n",
        "  \r\n",
        "  return model"
      ],
      "execution_count": 8,
      "outputs": []
    },
    {
      "cell_type": "markdown",
      "metadata": {
        "id": "DZ9eC5UqL-ub"
      },
      "source": [
        "### MODELO PARA OPTIMIZAR"
      ]
    },
    {
      "cell_type": "code",
      "metadata": {
        "id": "pMlFO5ILi9ho"
      },
      "source": [
        "def nn_modelToOptimize(optimizer='Adamx', activation='relu', activation_output='tanh', \n",
        "                       loss='mean_absolute_error', init_mode='he_normal', \n",
        "                       nl=6, nn1=128, nn2=128, nn3=22, nn4=22, nn5=64, nn6=44, nn7=11):\n",
        "  \n",
        "  visible = Input(shape=(x_data.shape[1],))\n",
        "  \n",
        "  first = True\n",
        "  weights = [nn1, nn2, nn3, nn4, nn5, nn6, nn7]\n",
        "  for i in range(nl):\n",
        "    if first:\n",
        "      hidden = Dense(weights[i], activation=activation, kernel_initializer=init_mode) (visible)\n",
        "      first = False\n",
        "    else:\n",
        "      hidden = Dense(weights[i], activation=activation, kernel_initializer=init_mode) (hidden)\n",
        " \n",
        "  \n",
        "  output = Dense(2, activation=activation_output, kernel_initializer=init_mode) (hidden)\n",
        "  \n",
        "  model = Model(visible, output)\n",
        "  model.compile(optimizer=optimizer, loss=loss, metrics=['accuracy'])\n",
        "  \n",
        "  return model"
      ],
      "execution_count": null,
      "outputs": []
    },
    {
      "cell_type": "markdown",
      "metadata": {
        "id": "N8Ukm8rM2ZSO"
      },
      "source": [
        "### MODELO OPTIMIZADO 1\r\n"
      ]
    },
    {
      "cell_type": "markdown",
      "metadata": {
        "id": "z6bFQRzeN6_4"
      },
      "source": [
        "### MODELO OPTIMIZADO 2\r\n"
      ]
    },
    {
      "cell_type": "markdown",
      "metadata": {
        "id": "lYzV5uQNMBGJ"
      },
      "source": [
        "## FUNCIONES PARA GRAFICAR"
      ]
    },
    {
      "cell_type": "code",
      "metadata": {
        "id": "eCSGUnS8YREH"
      },
      "source": [
        "image_path = '/content/drive/Shareddrives/NN4FT_DB/Exp_Adrian/Graficas/'"
      ],
      "execution_count": 14,
      "outputs": []
    },
    {
      "cell_type": "code",
      "metadata": {
        "id": "69EHkSig7FLb"
      },
      "source": [
        "def dibujar_Graficas(predicho, real, errores): \r\n",
        "  \r\n",
        "  figura_1 = plt.figure()\r\n",
        "  plt.title('SDC (Real vs Predicho)')\r\n",
        "  plt.plot(real[:,0],'r+')\r\n",
        "  plt.plot(predicho[:,0], 'b+')\r\n",
        "  plt.legend(['Real', 'Predicho'], loc='upper left')\r\n",
        "  plt.show()\r\n",
        "  figura_1.savefig(image_path + \"SDC_RP.png\")\r\n",
        "  plt.clf\r\n",
        "  print('\\n')\r\n",
        "  \r\n",
        "  figura_2 = plt.figure()\r\n",
        "  plt.title('HANG (Real vs Predicho)')\r\n",
        "  plt.plot(real[:,1],'r+')\r\n",
        "  plt.plot(predicho[:,1], 'b+')\r\n",
        "  plt.legend(['Real', 'Predicho'], loc='upper left')\r\n",
        "  plt.show()\r\n",
        "  figura_2.savefig(image_path + \"HANG_RP.png\")\r\n",
        "  plt.clf\r\n",
        "  print('\\n')\r\n",
        "\r\n",
        "  figura_3 = plt.figure()\r\n",
        "  plt.title('SDC y HANG (Real)')\r\n",
        "  plt.plot(real[:,0],'r+')\r\n",
        "  plt.plot(real[:,1], 'b+')\r\n",
        "  plt.legend(['SDC', 'HANG'], loc='upper left')\r\n",
        "  plt.show()\r\n",
        "  figura_3.savefig(image_path + \"SDCyHANG_R.png\")\r\n",
        "  plt.clf\r\n",
        "  print('\\n')\r\n",
        "\r\n",
        "  figura_4 = plt.figure()\r\n",
        "  plt.title('SDC y HANG (Predicho)')\r\n",
        "  plt.plot(predicho[:,0],'r+')\r\n",
        "  plt.plot(predicho[:,1], 'b+')\r\n",
        "  plt.legend(['SDC', 'HANG'], loc='upper left')\r\n",
        "  plt.show()\r\n",
        "  figura_4.savefig(image_path + \"SDCyHANG_P.png\")\r\n",
        "  plt.clf\r\n",
        "  print('\\n')\r\n",
        "\r\n",
        "  figura_5 = plt.figure()\r\n",
        "  plt.title('Errores absoultos')\r\n",
        "  plt.plot(errores[:,0],'r+')\r\n",
        "  plt.plot(errores[:,1], 'b+')\r\n",
        "  plt.legend(['SDC', 'HANG'], loc='upper left')\r\n",
        "  plt.show()\r\n",
        "  figura_5.savefig(image_path + \"Errores.png\")\r\n",
        "  plt.clf\r\n",
        "  print('\\n')\r\n"
      ],
      "execution_count": 16,
      "outputs": []
    },
    {
      "cell_type": "code",
      "metadata": {
        "id": "nGucORqQkU_h"
      },
      "source": [
        "def graficas_UnAce(predicho, real, errores, unAce_r, unAce_p, unAce_e):\r\n",
        "\r\n",
        "  figura_6 = plt.figure()\r\n",
        "  plt.title('UnAce (Real vs Predicho)')\r\n",
        "  plt.plot(unAce_r,'r+')\r\n",
        "  plt.plot(unAce_p, 'b+')\r\n",
        "  plt.legend(['Real', 'Predicho'], loc='upper left')\r\n",
        "  plt.show()\r\n",
        "  figura_6.savefig(image_path + \"unAce_RP.png\")\r\n",
        "  plt.clf\r\n",
        "  print('\\n')\r\n",
        "\r\n",
        "  figura_7 = plt.figure()\r\n",
        "  plt.title('SDC HANG y UnAce (Real)')\r\n",
        "  plt.plot(real[:,0],'r+')\r\n",
        "  plt.plot(real[:,1], 'b+')\r\n",
        "  plt.plot(unAce_r, 'g+')\r\n",
        "  plt.legend(['SDC', 'HANG', 'UnAce'], loc='upper left')\r\n",
        "  plt.show()\r\n",
        "  figura_7.savefig(image_path + \"SDCyHANGyUnAce_R.png\")\r\n",
        "  plt.clf\r\n",
        "  print('\\n')\r\n",
        "\r\n",
        "  figura_8 = plt.figure()\r\n",
        "  plt.title('SDC HANG y UnAce (Predicho)')\r\n",
        "  plt.plot(predicho[:,0],'r+')\r\n",
        "  plt.plot(predicho[:,1], 'b+')\r\n",
        "  plt.plot(unAce_p, 'g+')\r\n",
        "  plt.legend(['SDC', 'HANG', 'UnAce'], loc='upper left')\r\n",
        "  plt.show()\r\n",
        "  figura_8.savefig(image_path + \"SDCyHANGyUnAce_P.png\")\r\n",
        "  plt.clf\r\n",
        "  print('\\n')\r\n",
        "\r\n",
        "  figura_9 = plt.figure()\r\n",
        "  plt.title('Errores absoultos')\r\n",
        "  plt.plot(errores[:,0],'r+')\r\n",
        "  plt.plot(errores[:,1], 'b+')\r\n",
        "  plt.plot(unAce_e, 'g+')\r\n",
        "  plt.legend(['SDC', 'HANG', 'UnAce'], loc='upper left')\r\n",
        "  plt.show()\r\n",
        "  figura_9.savefig(image_path + \"Errores_con_UnAce.png\")\r\n",
        "  plt.clf\r\n",
        "  print('\\n')\r\n",
        "  "
      ],
      "execution_count": 17,
      "outputs": []
    }
  ]
}