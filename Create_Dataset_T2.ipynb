{
  "nbformat": 4,
  "nbformat_minor": 0,
  "metadata": {
    "colab": {
      "name": "Create_Dataset_T2.ipynb",
      "provenance": [],
      "collapsed_sections": [],
      "toc_visible": true,
      "authorship_tag": "ABX9TyNtVO4Mm2OoZ19LJtHKHfRE",
      "include_colab_link": true
    },
    "kernelspec": {
      "name": "python3",
      "display_name": "Python 3"
    }
  },
  "cells": [
    {
      "cell_type": "markdown",
      "metadata": {
        "id": "view-in-github",
        "colab_type": "text"
      },
      "source": [
        "<a href=\"https://colab.research.google.com/github/AdriiTrujillo/Fault_Tolerance_Colabs/blob/main/Create_Dataset_T2.ipynb\" target=\"_parent\"><img src=\"https://colab.research.google.com/assets/colab-badge.svg\" alt=\"Open In Colab\"/></a>"
      ]
    },
    {
      "cell_type": "markdown",
      "metadata": {
        "id": "iAuNv0NhOeVl"
      },
      "source": [
        "# CREAR DATASET TAREA 2\r\n",
        "\r\n",
        "*Adrián Trujillo López*\r\n",
        "\r\n",
        "Crear un dataset de los individuos mas significativos de los 3 benchmarks, `bubblesort`, `dijkstra` y `Ndes`. La selección de individuos se basa en los valores extremos (*max, med, min*) de **FT( Fault Tolerance)**, **Cycles** y **memsize**.\r\n",
        "\r\n",
        "Orden de ejecucción del cuadreno : \r\n",
        "1. Este apartado de configuración global.\r\n",
        "2. Apartado de Funciones de procesamiento (final del documento). \r\n",
        "3. Apartado de guardar toda la información.\r\n",
        "4. Apartado para subir el archivo a Drive.\r\n",
        "5. Apartado para obtener los individuos mas representativos\r\n",
        "6. Apartado para subir el csv con los mas representativos a Google Drive"
      ]
    },
    {
      "cell_type": "code",
      "metadata": {
        "id": "6ywNXe8lOEmg"
      },
      "source": [
        "#Celda para poder probar lo que se quiera (o utilizar comandos del bash con !)\r\n"
      ],
      "execution_count": null,
      "outputs": []
    },
    {
      "cell_type": "code",
      "metadata": {
        "id": "U3piEoJyxT8a"
      },
      "source": [
        "# Importación de librerias\r\n",
        "%matplotlib inline\r\n",
        "import matplotlib.pyplot as plt\r\n",
        "import pandas as pd\r\n",
        "import numpy as np\r\n",
        "import re\r\n",
        "import sys\r\n",
        "\r\n",
        "import os\r\n",
        "from pydrive.auth import GoogleAuth\r\n",
        "from pydrive.drive import GoogleDrive\r\n",
        "from google.colab import auth, files\r\n",
        "from oauth2client.client import GoogleCredentials"
      ],
      "execution_count": null,
      "outputs": []
    },
    {
      "cell_type": "code",
      "metadata": {
        "id": "fktCA0L_xfHR"
      },
      "source": [
        "auth.authenticate_user()\r\n",
        "gauth = GoogleAuth()\r\n",
        "gauth.credentials = GoogleCredentials.get_application_default()\r\n",
        "drive = GoogleDrive(gauth)"
      ],
      "execution_count": null,
      "outputs": []
    },
    {
      "cell_type": "code",
      "metadata": {
        "colab": {
          "base_uri": "https://localhost:8080/"
        },
        "id": "d5ctfsjRy6mu",
        "outputId": "b6fc602a-19b8-4331-f374-4b001a00f01d"
      },
      "source": [
        "# Montar el contenido de drive\r\n",
        "from google.colab import drive\r\n",
        "drive.mount('/content/drive')"
      ],
      "execution_count": null,
      "outputs": [
        {
          "output_type": "stream",
          "text": [
            "Mounted at /content/drive\n"
          ],
          "name": "stdout"
        }
      ]
    },
    {
      "cell_type": "markdown",
      "metadata": {
        "id": "DtP7bA08RGwX"
      },
      "source": [
        "## Obtener la carpeta de cada Benchmark\r\n",
        "\r\n",
        "El siguiente codigo obtiene la carpeta y crea una lista con todas las carpetas dentro del benchmark. \r\n",
        "\r\n",
        "**Correr solamente una de las siguientes celdas dependiendo del benchmark que quieras procesar!!**"
      ]
    },
    {
      "cell_type": "markdown",
      "metadata": {
        "id": "2VWlAwA2UOqx"
      },
      "source": [
        "### Bubblesort"
      ]
    },
    {
      "cell_type": "code",
      "metadata": {
        "id": "jHS5X6e9RaN_",
        "colab": {
          "base_uri": "https://localhost:8080/"
        },
        "outputId": "d287af4e-9755-4e6b-c15c-03abeefaa11f"
      },
      "source": [
        "# BUBBLESORT_DB\r\n",
        "local_path = '/content/drive/Shareddrives/NN4FT_DB/'\r\n",
        "local_path = local_path + \"bubblesort_db\"\r\n",
        "\r\n",
        "folder_list = os.listdir(local_path)\r\n",
        "\r\n",
        "print(len(folder_list)) # Tiene que dar 824\r\n",
        "\r\n",
        "full_csv = \"bubblesort_full.csv\"\r\n",
        "\r\n",
        "with open(full_csv, \"w\") as f:\r\n",
        "  f.write('ind;time;size;ft;hang;sdc\\n')\r\n",
        "  f.close()\r\n"
      ],
      "execution_count": null,
      "outputs": [
        {
          "output_type": "stream",
          "text": [
            "824\n"
          ],
          "name": "stdout"
        }
      ]
    },
    {
      "cell_type": "markdown",
      "metadata": {
        "id": "GADXAm1KURhY"
      },
      "source": [
        "### Dijkstra"
      ]
    },
    {
      "cell_type": "code",
      "metadata": {
        "colab": {
          "base_uri": "https://localhost:8080/"
        },
        "id": "P98UMOvvWNUu",
        "outputId": "03dcdb61-d8a3-47e5-81f1-7582f8517486"
      },
      "source": [
        "# DIJKSTRA_DB\r\n",
        "local_path = '/content/drive/Shareddrives/NN4FT_DB/'\r\n",
        "local_path = local_path + \"dijkstra_db\"\r\n",
        "\r\n",
        "folder_list = os.listdir(local_path)\r\n",
        "\r\n",
        "print(len(folder_list)) # Tiene que dar 112\r\n",
        "\r\n",
        "full_csv = \"dijkstra_full.csv\"\r\n",
        "\r\n",
        "with open(full_csv, \"w\") as f:\r\n",
        "  f.write('ind;time;size;ft;hang;sdc\\n')\r\n",
        "  f.close()"
      ],
      "execution_count": null,
      "outputs": [
        {
          "output_type": "stream",
          "text": [
            "112\n"
          ],
          "name": "stdout"
        }
      ]
    },
    {
      "cell_type": "markdown",
      "metadata": {
        "id": "8dsPD1K1UTkI"
      },
      "source": [
        "### Ndes"
      ]
    },
    {
      "cell_type": "code",
      "metadata": {
        "id": "-jk4Bp6kXYc1",
        "colab": {
          "base_uri": "https://localhost:8080/"
        },
        "outputId": "8bcc4562-d2f7-418d-8599-88d879f7e752"
      },
      "source": [
        "# NDES_DB\r\n",
        "local_path = '/content/drive/Shareddrives/NN4FT_DB/'\r\n",
        "local_path = local_path + \"ndes_db\"\r\n",
        "\r\n",
        "folder_list = os.listdir(local_path)\r\n",
        "\r\n",
        "print(len(folder_list))\r\n",
        "\r\n",
        "full_csv = \"ndes_full.csv\"\r\n",
        "\r\n",
        "with open(full_csv, \"w\") as f:\r\n",
        "  f.write('ind;time;size;ft;hang;sdc\\n')\r\n",
        "  f.close()"
      ],
      "execution_count": null,
      "outputs": [
        {
          "output_type": "stream",
          "text": [
            "718\n"
          ],
          "name": "stdout"
        }
      ]
    },
    {
      "cell_type": "markdown",
      "metadata": {
        "id": "7w5nFNY8Xwbx"
      },
      "source": [
        "## Guardar toda la información\r\n",
        "\r\n",
        "Este codigo se encarga de utilizar la funciones descritas en el apartado de `Funciones de procesamiento` para obtener toda la información de cada individuo y crear un archivo csv con toda la información de todos los individuos.\r\n",
        "\r\n",
        "Por eso para que funcione este apartado **hay que correr el siguiente primero**.\r\n",
        "\r\n",
        "A diferencia del codigo de David Ruiz no necesito dividir en Chunks por que no utilizo GoogleAuth."
      ]
    },
    {
      "cell_type": "code",
      "metadata": {
        "id": "XsqhRj5oYaBk",
        "colab": {
          "base_uri": "https://localhost:8080/"
        },
        "outputId": "f7a3ae37-80d0-45b7-d50f-2422345f886d"
      },
      "source": [
        "outputToWrite = \"\"\r\n",
        "i = 0\r\n",
        "\r\n",
        "# folder hace refencia a cada individuo\r\n",
        "for folder in folder_list:\r\n",
        "\r\n",
        "  i += 1 # Cuenta de las carpteas recorridas\r\n",
        "  print(i,\"/\", len(folder_list))\r\n",
        "\r\n",
        "  folder_path = local_path + \"/\" + folder\r\n",
        "  file_list = os.listdir(folder_path)\r\n",
        "\r\n",
        "  for file in file_list:\r\n",
        "\r\n",
        "    file_path = folder_path + \"/\" + file\r\n",
        "\r\n",
        "    if file == \"results.perf\":\r\n",
        "      unace, sdc, hang = getFT(file_path) \r\n",
        "\r\n",
        "    if file == \"cycles.log\":\r\n",
        "      cycles = getCycles(file_path)\r\n",
        "\r\n",
        "    if file == \"RESULTS.LOG\":\r\n",
        "      memsize = getMemSize(file_path)\r\n",
        "\r\n",
        "\r\n",
        "  outputToWrite += folder + \";\" + cycles + \";\" + memsize + \";\" + unace + \";\" + hang + \";\" + sdc + \"\\n\"\r\n",
        "\r\n",
        "with open(full_csv, \"a\") as f:\r\n",
        "  f.write(outputToWrite)\r\n",
        "  f.close()\r\n",
        "    "
      ],
      "execution_count": null,
      "outputs": [
        {
          "output_type": "stream",
          "text": [
            "1 / 718\n",
            "2 / 718\n",
            "3 / 718\n",
            "4 / 718\n",
            "5 / 718\n",
            "6 / 718\n",
            "7 / 718\n",
            "8 / 718\n",
            "9 / 718\n",
            "10 / 718\n",
            "11 / 718\n",
            "12 / 718\n",
            "13 / 718\n",
            "14 / 718\n",
            "15 / 718\n",
            "16 / 718\n",
            "17 / 718\n",
            "18 / 718\n",
            "19 / 718\n",
            "20 / 718\n",
            "21 / 718\n",
            "22 / 718\n",
            "23 / 718\n",
            "24 / 718\n",
            "25 / 718\n",
            "26 / 718\n",
            "27 / 718\n",
            "28 / 718\n",
            "29 / 718\n",
            "30 / 718\n",
            "31 / 718\n",
            "32 / 718\n",
            "33 / 718\n",
            "34 / 718\n",
            "35 / 718\n",
            "36 / 718\n",
            "37 / 718\n",
            "38 / 718\n",
            "39 / 718\n",
            "40 / 718\n",
            "41 / 718\n",
            "42 / 718\n",
            "43 / 718\n",
            "44 / 718\n",
            "45 / 718\n",
            "46 / 718\n",
            "47 / 718\n",
            "48 / 718\n",
            "49 / 718\n",
            "50 / 718\n",
            "51 / 718\n",
            "52 / 718\n",
            "53 / 718\n",
            "54 / 718\n",
            "55 / 718\n",
            "56 / 718\n",
            "57 / 718\n",
            "58 / 718\n",
            "59 / 718\n",
            "60 / 718\n",
            "61 / 718\n",
            "62 / 718\n",
            "63 / 718\n",
            "64 / 718\n",
            "65 / 718\n",
            "66 / 718\n",
            "67 / 718\n",
            "68 / 718\n",
            "69 / 718\n",
            "70 / 718\n",
            "71 / 718\n",
            "72 / 718\n",
            "73 / 718\n",
            "74 / 718\n",
            "75 / 718\n",
            "76 / 718\n",
            "77 / 718\n",
            "78 / 718\n",
            "79 / 718\n",
            "80 / 718\n",
            "81 / 718\n",
            "82 / 718\n",
            "83 / 718\n",
            "84 / 718\n",
            "85 / 718\n",
            "86 / 718\n",
            "87 / 718\n",
            "88 / 718\n",
            "89 / 718\n",
            "90 / 718\n",
            "91 / 718\n",
            "92 / 718\n",
            "93 / 718\n",
            "94 / 718\n",
            "95 / 718\n",
            "96 / 718\n",
            "97 / 718\n",
            "98 / 718\n",
            "99 / 718\n",
            "100 / 718\n",
            "101 / 718\n",
            "102 / 718\n",
            "103 / 718\n",
            "104 / 718\n",
            "105 / 718\n",
            "106 / 718\n",
            "107 / 718\n",
            "108 / 718\n",
            "109 / 718\n",
            "110 / 718\n",
            "111 / 718\n",
            "112 / 718\n",
            "113 / 718\n",
            "114 / 718\n",
            "115 / 718\n",
            "116 / 718\n",
            "117 / 718\n",
            "118 / 718\n",
            "119 / 718\n",
            "120 / 718\n",
            "121 / 718\n",
            "122 / 718\n",
            "123 / 718\n",
            "124 / 718\n",
            "125 / 718\n",
            "126 / 718\n",
            "127 / 718\n",
            "128 / 718\n",
            "129 / 718\n",
            "130 / 718\n",
            "131 / 718\n",
            "132 / 718\n",
            "133 / 718\n",
            "134 / 718\n",
            "135 / 718\n",
            "136 / 718\n",
            "137 / 718\n",
            "138 / 718\n",
            "139 / 718\n",
            "140 / 718\n",
            "141 / 718\n",
            "142 / 718\n",
            "143 / 718\n",
            "144 / 718\n",
            "145 / 718\n",
            "146 / 718\n",
            "147 / 718\n",
            "148 / 718\n",
            "149 / 718\n",
            "150 / 718\n",
            "151 / 718\n",
            "152 / 718\n",
            "153 / 718\n",
            "154 / 718\n",
            "155 / 718\n",
            "156 / 718\n",
            "157 / 718\n",
            "158 / 718\n",
            "159 / 718\n",
            "160 / 718\n",
            "161 / 718\n",
            "162 / 718\n",
            "163 / 718\n",
            "164 / 718\n",
            "165 / 718\n",
            "166 / 718\n",
            "167 / 718\n",
            "168 / 718\n",
            "169 / 718\n",
            "170 / 718\n",
            "171 / 718\n",
            "172 / 718\n",
            "173 / 718\n",
            "174 / 718\n",
            "175 / 718\n",
            "176 / 718\n",
            "177 / 718\n",
            "178 / 718\n",
            "179 / 718\n",
            "180 / 718\n",
            "181 / 718\n",
            "182 / 718\n",
            "183 / 718\n",
            "184 / 718\n",
            "185 / 718\n",
            "186 / 718\n",
            "187 / 718\n",
            "188 / 718\n",
            "189 / 718\n",
            "190 / 718\n",
            "191 / 718\n",
            "192 / 718\n",
            "193 / 718\n",
            "194 / 718\n",
            "195 / 718\n",
            "196 / 718\n",
            "197 / 718\n",
            "198 / 718\n",
            "199 / 718\n",
            "200 / 718\n",
            "201 / 718\n",
            "202 / 718\n",
            "203 / 718\n",
            "204 / 718\n",
            "205 / 718\n",
            "206 / 718\n",
            "207 / 718\n",
            "208 / 718\n",
            "209 / 718\n",
            "210 / 718\n",
            "211 / 718\n",
            "212 / 718\n",
            "213 / 718\n",
            "214 / 718\n",
            "215 / 718\n",
            "216 / 718\n",
            "217 / 718\n",
            "218 / 718\n",
            "219 / 718\n",
            "220 / 718\n",
            "221 / 718\n",
            "222 / 718\n",
            "223 / 718\n",
            "224 / 718\n",
            "225 / 718\n",
            "226 / 718\n",
            "227 / 718\n",
            "228 / 718\n",
            "229 / 718\n",
            "230 / 718\n",
            "231 / 718\n",
            "232 / 718\n",
            "233 / 718\n",
            "234 / 718\n",
            "235 / 718\n",
            "236 / 718\n",
            "237 / 718\n",
            "238 / 718\n",
            "239 / 718\n",
            "240 / 718\n",
            "241 / 718\n",
            "242 / 718\n",
            "243 / 718\n",
            "244 / 718\n",
            "245 / 718\n",
            "246 / 718\n",
            "247 / 718\n",
            "248 / 718\n",
            "249 / 718\n",
            "250 / 718\n",
            "251 / 718\n",
            "252 / 718\n",
            "253 / 718\n",
            "254 / 718\n",
            "255 / 718\n",
            "256 / 718\n",
            "257 / 718\n",
            "258 / 718\n",
            "259 / 718\n",
            "260 / 718\n",
            "261 / 718\n",
            "262 / 718\n",
            "263 / 718\n",
            "264 / 718\n",
            "265 / 718\n",
            "266 / 718\n",
            "267 / 718\n",
            "268 / 718\n",
            "269 / 718\n",
            "270 / 718\n",
            "271 / 718\n",
            "272 / 718\n",
            "273 / 718\n",
            "274 / 718\n",
            "275 / 718\n",
            "276 / 718\n",
            "277 / 718\n",
            "278 / 718\n",
            "279 / 718\n",
            "280 / 718\n",
            "281 / 718\n",
            "282 / 718\n",
            "283 / 718\n",
            "284 / 718\n",
            "285 / 718\n",
            "286 / 718\n",
            "287 / 718\n",
            "288 / 718\n",
            "289 / 718\n",
            "290 / 718\n",
            "291 / 718\n",
            "292 / 718\n",
            "293 / 718\n",
            "294 / 718\n",
            "295 / 718\n",
            "296 / 718\n",
            "297 / 718\n",
            "298 / 718\n",
            "299 / 718\n",
            "300 / 718\n",
            "301 / 718\n",
            "302 / 718\n",
            "303 / 718\n",
            "304 / 718\n",
            "305 / 718\n",
            "306 / 718\n",
            "307 / 718\n",
            "308 / 718\n",
            "309 / 718\n",
            "310 / 718\n",
            "311 / 718\n",
            "312 / 718\n",
            "313 / 718\n",
            "314 / 718\n",
            "315 / 718\n",
            "316 / 718\n",
            "317 / 718\n",
            "318 / 718\n",
            "319 / 718\n",
            "320 / 718\n",
            "321 / 718\n",
            "322 / 718\n",
            "323 / 718\n",
            "324 / 718\n",
            "325 / 718\n",
            "326 / 718\n",
            "327 / 718\n",
            "328 / 718\n",
            "329 / 718\n",
            "330 / 718\n",
            "331 / 718\n",
            "332 / 718\n",
            "333 / 718\n",
            "334 / 718\n",
            "335 / 718\n",
            "336 / 718\n",
            "337 / 718\n",
            "338 / 718\n",
            "339 / 718\n",
            "340 / 718\n",
            "341 / 718\n",
            "342 / 718\n",
            "343 / 718\n",
            "344 / 718\n",
            "345 / 718\n",
            "346 / 718\n",
            "347 / 718\n",
            "348 / 718\n",
            "349 / 718\n",
            "350 / 718\n",
            "351 / 718\n",
            "352 / 718\n",
            "353 / 718\n",
            "354 / 718\n",
            "355 / 718\n",
            "356 / 718\n",
            "357 / 718\n",
            "358 / 718\n",
            "359 / 718\n",
            "360 / 718\n",
            "361 / 718\n",
            "362 / 718\n",
            "363 / 718\n",
            "364 / 718\n",
            "365 / 718\n",
            "366 / 718\n",
            "367 / 718\n",
            "368 / 718\n",
            "369 / 718\n",
            "370 / 718\n",
            "371 / 718\n",
            "372 / 718\n",
            "373 / 718\n",
            "374 / 718\n",
            "375 / 718\n",
            "376 / 718\n",
            "377 / 718\n",
            "378 / 718\n",
            "379 / 718\n",
            "380 / 718\n",
            "381 / 718\n",
            "382 / 718\n",
            "383 / 718\n",
            "384 / 718\n",
            "385 / 718\n",
            "386 / 718\n",
            "387 / 718\n",
            "388 / 718\n",
            "389 / 718\n",
            "390 / 718\n",
            "391 / 718\n",
            "392 / 718\n",
            "393 / 718\n",
            "394 / 718\n",
            "395 / 718\n",
            "396 / 718\n",
            "397 / 718\n",
            "398 / 718\n",
            "399 / 718\n",
            "400 / 718\n",
            "401 / 718\n",
            "402 / 718\n",
            "403 / 718\n",
            "404 / 718\n",
            "405 / 718\n",
            "406 / 718\n",
            "407 / 718\n",
            "408 / 718\n",
            "409 / 718\n",
            "410 / 718\n",
            "411 / 718\n",
            "412 / 718\n",
            "413 / 718\n",
            "414 / 718\n",
            "415 / 718\n",
            "416 / 718\n",
            "417 / 718\n",
            "418 / 718\n",
            "419 / 718\n",
            "420 / 718\n",
            "421 / 718\n",
            "422 / 718\n",
            "423 / 718\n",
            "424 / 718\n",
            "425 / 718\n",
            "426 / 718\n",
            "427 / 718\n",
            "428 / 718\n",
            "429 / 718\n",
            "430 / 718\n",
            "431 / 718\n",
            "432 / 718\n",
            "433 / 718\n",
            "434 / 718\n",
            "435 / 718\n",
            "436 / 718\n",
            "437 / 718\n",
            "438 / 718\n",
            "439 / 718\n",
            "440 / 718\n",
            "441 / 718\n",
            "442 / 718\n",
            "443 / 718\n",
            "444 / 718\n",
            "445 / 718\n",
            "446 / 718\n",
            "447 / 718\n",
            "448 / 718\n",
            "449 / 718\n",
            "450 / 718\n",
            "451 / 718\n",
            "452 / 718\n",
            "453 / 718\n",
            "454 / 718\n",
            "455 / 718\n",
            "456 / 718\n",
            "457 / 718\n",
            "458 / 718\n",
            "459 / 718\n",
            "460 / 718\n",
            "461 / 718\n",
            "462 / 718\n",
            "463 / 718\n",
            "464 / 718\n",
            "465 / 718\n",
            "466 / 718\n",
            "467 / 718\n",
            "468 / 718\n",
            "469 / 718\n",
            "470 / 718\n",
            "471 / 718\n",
            "472 / 718\n",
            "473 / 718\n",
            "474 / 718\n",
            "475 / 718\n",
            "476 / 718\n",
            "477 / 718\n",
            "478 / 718\n",
            "479 / 718\n",
            "480 / 718\n",
            "481 / 718\n",
            "482 / 718\n",
            "483 / 718\n",
            "484 / 718\n",
            "485 / 718\n",
            "486 / 718\n",
            "487 / 718\n",
            "488 / 718\n",
            "489 / 718\n",
            "490 / 718\n",
            "491 / 718\n",
            "492 / 718\n",
            "493 / 718\n",
            "494 / 718\n",
            "495 / 718\n",
            "496 / 718\n",
            "497 / 718\n",
            "498 / 718\n",
            "499 / 718\n",
            "500 / 718\n",
            "501 / 718\n",
            "502 / 718\n",
            "503 / 718\n",
            "504 / 718\n",
            "505 / 718\n",
            "506 / 718\n",
            "507 / 718\n",
            "508 / 718\n",
            "509 / 718\n",
            "510 / 718\n",
            "511 / 718\n",
            "512 / 718\n",
            "513 / 718\n",
            "514 / 718\n",
            "515 / 718\n",
            "516 / 718\n",
            "517 / 718\n",
            "518 / 718\n",
            "519 / 718\n",
            "520 / 718\n",
            "521 / 718\n",
            "522 / 718\n",
            "523 / 718\n",
            "524 / 718\n",
            "525 / 718\n",
            "526 / 718\n",
            "527 / 718\n",
            "528 / 718\n",
            "529 / 718\n",
            "530 / 718\n",
            "531 / 718\n",
            "532 / 718\n",
            "533 / 718\n",
            "534 / 718\n",
            "535 / 718\n",
            "536 / 718\n",
            "537 / 718\n",
            "538 / 718\n",
            "539 / 718\n",
            "540 / 718\n",
            "541 / 718\n",
            "542 / 718\n",
            "543 / 718\n",
            "544 / 718\n",
            "545 / 718\n",
            "546 / 718\n",
            "547 / 718\n",
            "548 / 718\n",
            "549 / 718\n",
            "550 / 718\n",
            "551 / 718\n",
            "552 / 718\n",
            "553 / 718\n",
            "554 / 718\n",
            "555 / 718\n",
            "556 / 718\n",
            "557 / 718\n",
            "558 / 718\n",
            "559 / 718\n",
            "560 / 718\n",
            "561 / 718\n",
            "562 / 718\n",
            "563 / 718\n",
            "564 / 718\n",
            "565 / 718\n",
            "566 / 718\n",
            "567 / 718\n",
            "568 / 718\n",
            "569 / 718\n",
            "570 / 718\n",
            "571 / 718\n",
            "572 / 718\n",
            "573 / 718\n",
            "574 / 718\n",
            "575 / 718\n",
            "576 / 718\n",
            "577 / 718\n",
            "578 / 718\n",
            "579 / 718\n",
            "580 / 718\n",
            "581 / 718\n",
            "582 / 718\n",
            "583 / 718\n",
            "584 / 718\n",
            "585 / 718\n",
            "586 / 718\n",
            "587 / 718\n",
            "588 / 718\n",
            "589 / 718\n",
            "590 / 718\n",
            "591 / 718\n",
            "592 / 718\n",
            "593 / 718\n",
            "594 / 718\n",
            "595 / 718\n",
            "596 / 718\n",
            "597 / 718\n",
            "598 / 718\n",
            "599 / 718\n",
            "600 / 718\n",
            "601 / 718\n",
            "602 / 718\n",
            "603 / 718\n",
            "604 / 718\n",
            "605 / 718\n",
            "606 / 718\n",
            "607 / 718\n",
            "608 / 718\n",
            "609 / 718\n",
            "610 / 718\n",
            "611 / 718\n",
            "612 / 718\n",
            "613 / 718\n",
            "614 / 718\n",
            "615 / 718\n",
            "616 / 718\n",
            "617 / 718\n",
            "618 / 718\n",
            "619 / 718\n",
            "620 / 718\n",
            "621 / 718\n",
            "622 / 718\n",
            "623 / 718\n",
            "624 / 718\n",
            "625 / 718\n",
            "626 / 718\n",
            "627 / 718\n",
            "628 / 718\n",
            "629 / 718\n",
            "630 / 718\n",
            "631 / 718\n",
            "632 / 718\n",
            "633 / 718\n",
            "634 / 718\n",
            "635 / 718\n",
            "636 / 718\n",
            "637 / 718\n",
            "638 / 718\n",
            "639 / 718\n",
            "640 / 718\n",
            "641 / 718\n",
            "642 / 718\n",
            "643 / 718\n",
            "644 / 718\n",
            "645 / 718\n",
            "646 / 718\n",
            "647 / 718\n",
            "648 / 718\n",
            "649 / 718\n",
            "650 / 718\n",
            "651 / 718\n",
            "652 / 718\n",
            "653 / 718\n",
            "654 / 718\n",
            "655 / 718\n",
            "656 / 718\n",
            "657 / 718\n",
            "658 / 718\n",
            "659 / 718\n",
            "660 / 718\n",
            "661 / 718\n",
            "662 / 718\n",
            "663 / 718\n",
            "664 / 718\n",
            "665 / 718\n",
            "666 / 718\n",
            "667 / 718\n",
            "668 / 718\n",
            "669 / 718\n",
            "670 / 718\n",
            "671 / 718\n",
            "672 / 718\n",
            "673 / 718\n",
            "674 / 718\n",
            "675 / 718\n",
            "676 / 718\n",
            "677 / 718\n",
            "678 / 718\n",
            "679 / 718\n",
            "680 / 718\n",
            "681 / 718\n",
            "682 / 718\n",
            "683 / 718\n",
            "684 / 718\n",
            "685 / 718\n",
            "686 / 718\n",
            "687 / 718\n",
            "688 / 718\n",
            "689 / 718\n",
            "690 / 718\n",
            "691 / 718\n",
            "692 / 718\n",
            "693 / 718\n",
            "694 / 718\n",
            "695 / 718\n",
            "696 / 718\n",
            "697 / 718\n",
            "698 / 718\n",
            "699 / 718\n",
            "700 / 718\n",
            "701 / 718\n",
            "702 / 718\n",
            "703 / 718\n",
            "704 / 718\n",
            "705 / 718\n",
            "706 / 718\n",
            "707 / 718\n",
            "708 / 718\n",
            "709 / 718\n",
            "710 / 718\n",
            "711 / 718\n",
            "712 / 718\n",
            "713 / 718\n",
            "714 / 718\n",
            "715 / 718\n",
            "716 / 718\n",
            "717 / 718\n",
            "718 / 718\n"
          ],
          "name": "stdout"
        }
      ]
    },
    {
      "cell_type": "markdown",
      "metadata": {
        "id": "gZRWK8c7qFxr"
      },
      "source": [
        "## Subir el dataset completo a Drive (NN4FT_DB)\r\n",
        "\r\n",
        "Como no estoy utilizando googleAuth para nada basta con utilizar la función move de la libreria shutil y mover el archivo a la ruta que se indice dentro de la carpeta `drive`."
      ]
    },
    {
      "cell_type": "code",
      "metadata": {
        "id": "rKst8QUQqD8o"
      },
      "source": [
        "import shutil\r\n",
        "save_path = '/content/drive/Shareddrives/NN4FT_DB/Exp_Adrian/Data Frames'\r\n",
        "\r\n",
        "ruta = shutil.move(full_csv, save_path)"
      ],
      "execution_count": null,
      "outputs": []
    },
    {
      "cell_type": "markdown",
      "metadata": {
        "id": "oKChnXa0q_K8"
      },
      "source": [
        "## Obtener los individuos mas representativos\r\n",
        "\r\n",
        "En el siguiente apartado se realizaran una serie de procesamientos sobre los datasets con todos los individuos para seleccionar las mas representativos. En total so obtendran 270 o menos individuos por cada dataset. "
      ]
    },
    {
      "cell_type": "markdown",
      "metadata": {
        "id": "jegiz3zCT_WX"
      },
      "source": [
        "### Bubblesort"
      ]
    },
    {
      "cell_type": "code",
      "metadata": {
        "id": "UOCovbJBrtO7",
        "colab": {
          "base_uri": "https://localhost:8080/"
        },
        "outputId": "b6932933-2adc-4e0b-bd12-4ad12de78d65"
      },
      "source": [
        "# BUBBLESORT_DF\r\n",
        "# Si el csv no está en esta dirección cambiarlo a gusto del usuario.\r\n",
        "bubblesort_path = '/content/drive/Shareddrives/NN4FT_DB/Exp_Adrian/Data Frames/bubblesort_full.csv'\r\n",
        "# Nombre para guardar el csv con los individuos mas representativos\r\n",
        "final_csv = \"bubblesort-score.csv\"\r\n",
        "test_csv = \"bubblesort-test.csv\"\r\n",
        "\r\n",
        "full_df = pd.read_csv(bubblesort_path, sep=\";\") \r\n",
        "print(\"Tamaño bubblesort_df completo: \", full_df.shape)"
      ],
      "execution_count": null,
      "outputs": [
        {
          "output_type": "stream",
          "text": [
            "Tamaño bubblesort_df completo:  (824, 6)\n"
          ],
          "name": "stdout"
        }
      ]
    },
    {
      "cell_type": "markdown",
      "metadata": {
        "id": "Wv0avbziUDby"
      },
      "source": [
        "### Dijkstra"
      ]
    },
    {
      "cell_type": "code",
      "metadata": {
        "id": "bA2TPMUMsZjf",
        "colab": {
          "base_uri": "https://localhost:8080/"
        },
        "outputId": "2cf20cba-8d72-42f3-f5e4-15c3d96d2ba3"
      },
      "source": [
        "# DIJKSTRA_DF\r\n",
        "# Si el csv no está en esta dirección cambiarlo a gusto del usuario.\r\n",
        "dijkstra_path = '/content/drive/Shareddrives/NN4FT_DB/Exp_Adrian/Data Frames/dijkstra_full.csv'\r\n",
        "# Nombre para guardar el csv con los individuos mas representativos\r\n",
        "final_csv = \"dijstra-score.csv\"\r\n",
        "test_csv = \"dijstra-test.csv\"\r\n",
        "\r\n",
        "full_df = pd.read_csv(dijkstra_path, sep=\";\") \r\n",
        "print(\"Tamaño dijkstra_df completo: \", full_df.shape)"
      ],
      "execution_count": null,
      "outputs": [
        {
          "output_type": "stream",
          "text": [
            "Tamaño dijkstra_df completo:  (112, 6)\n"
          ],
          "name": "stdout"
        }
      ]
    },
    {
      "cell_type": "markdown",
      "metadata": {
        "id": "XTBrZ3s9UHxo"
      },
      "source": [
        "### Ndes"
      ]
    },
    {
      "cell_type": "code",
      "metadata": {
        "id": "8OOjFvZOQsfD",
        "colab": {
          "base_uri": "https://localhost:8080/"
        },
        "outputId": "758a40e6-dfd0-46fa-bdaa-0d5289273048"
      },
      "source": [
        "# NDES_DF\r\n",
        "# Si el csv no está en esta dirección cambiarlo a gusto del usuario.\r\n",
        "ndes_path = '/content/drive/Shareddrives/NN4FT_DB/Exp_Adrian/Data Frames/ndes_full.csv'\r\n",
        "# Nombre para guardar el csv con los individuos mas representativos\r\n",
        "final_csv = \"ndes-score.csv\"\r\n",
        "test_csv = \"ndes-test.csv\"\r\n",
        "\r\n",
        "full_df = pd.read_csv(ndes_path, sep=\";\") \r\n",
        "print(\"Tamaño ndes_df completo: \", full_df.shape)"
      ],
      "execution_count": null,
      "outputs": [
        {
          "output_type": "stream",
          "text": [
            "Tamaño ndes_df completo:  (718, 6)\n"
          ],
          "name": "stdout"
        }
      ]
    },
    {
      "cell_type": "markdown",
      "metadata": {
        "id": "LdPmW8pVV3DA"
      },
      "source": [
        "### Procesamiento"
      ]
    },
    {
      "cell_type": "code",
      "metadata": {
        "colab": {
          "base_uri": "https://localhost:8080/"
        },
        "id": "N7BJN3wnuosN",
        "outputId": "880b26ec-4ce8-4185-da7b-8dda439131e2"
      },
      "source": [
        "porcentaje_ind_sel = 15 # Entrada del usuario (Porcentaje)\r\n",
        "num_ind = (len(full_df)*porcentaje_ind_sel)//100\r\n",
        "\r\n",
        "print(\"Numeros de individuos seleccionados por cada extemo para el entrenamiento: \", num_ind)\r\n",
        "\r\n",
        "individuos_sel = []\r\n",
        "\r\n",
        "sorted_ft = full_df.sort_values(by=['ft'], ascending=False).drop(['size', 'time', 'hang', 'sdc'], axis=1)\r\n",
        "sorted_size = full_df.sort_values(by=['size'], ascending=False).drop(['ft', 'time', 'hang', 'sdc'], axis=1)\r\n",
        "sorted_time = full_df.sort_values(by=['time'], ascending=False).drop(['size', 'ft', 'hang', 'sdc'], axis=1)\r\n",
        "\r\n",
        "for i in range(len(sorted_ft)):\r\n",
        "\r\n",
        "  individuo = sorted_ft.iloc[i]['ind']\r\n",
        "\r\n",
        "  if i < num_ind:\r\n",
        "    if individuo not in individuos_sel:\r\n",
        "      individuos_sel.append(individuo)\r\n",
        "  if (i >= (len(sorted_ft)//2) - (num_ind//2)) and (i < (len(sorted_ft)//2) + (num_ind//2)):\r\n",
        "    if individuo not in individuos_sel:\r\n",
        "      individuos_sel.append(individuo)\r\n",
        "  if i >= (len(sorted_ft) - num_ind):\r\n",
        "    if individuo not in individuos_sel:\r\n",
        "      individuos_sel.append(individuo)\r\n",
        "\r\n",
        "print(len(individuos_sel), \" ... \")\r\n",
        "\r\n",
        "for i in range(len(sorted_size)):\r\n",
        "\r\n",
        "  individuo = sorted_size.iloc[i]['ind']\r\n",
        "\r\n",
        "  if i < num_ind:\r\n",
        "    if individuo not in individuos_sel:\r\n",
        "      individuos_sel.append(individuo)\r\n",
        "  if (i >= (len(sorted_size)//2) - (num_ind//2)) and (i < (len(sorted_size)//2) + (num_ind//2)):\r\n",
        "    if individuo not in individuos_sel:\r\n",
        "      individuos_sel.append(individuo)\r\n",
        "  if i >= (len(sorted_size) - num_ind):\r\n",
        "    if individuo not in individuos_sel:\r\n",
        "      individuos_sel.append(individuo)\r\n",
        "\r\n",
        "print(len(individuos_sel), \" ... \")\r\n",
        "\r\n",
        "for i in range(len(sorted_time)):\r\n",
        "\r\n",
        "  individuo = sorted_time.iloc[i]['ind']\r\n",
        "\r\n",
        "  if i < num_ind:\r\n",
        "    if individuo not in individuos_sel:\r\n",
        "      individuos_sel.append(individuo)\r\n",
        "  if (i >= (len(sorted_time)//2) - (num_ind//2)) and (i < (len(sorted_time)//2) + (num_ind//2)):\r\n",
        "    if individuo not in individuos_sel:\r\n",
        "      individuos_sel.append(individuo)\r\n",
        "  if i >= (len(sorted_time) - num_ind):\r\n",
        "    if individuo not in individuos_sel:\r\n",
        "      individuos_sel.append(individuo)\r\n",
        "\r\n",
        "print(len(individuos_sel))\r\n"
      ],
      "execution_count": null,
      "outputs": [
        {
          "output_type": "stream",
          "text": [
            "Numeros de individuos seleccionados por cada extemo para el entrenamiento:  107\n",
            "320  ... \n",
            "492  ... \n",
            "592\n"
          ],
          "name": "stdout"
        }
      ]
    },
    {
      "cell_type": "code",
      "metadata": {
        "colab": {
          "base_uri": "https://localhost:8080/"
        },
        "id": "IJFvZdeyp2Z2",
        "outputId": "55c8dfe2-0ce9-4dc2-a357-5f24901fcdbb"
      },
      "source": [
        "# Guardar todos los individuos seleccionados en un dataframe nuevo mas reducido\r\n",
        "\r\n",
        "final_df = pd.DataFrame()\r\n",
        "no_select_df = pd.DataFrame()\r\n",
        "\r\n",
        "for i in range(len(individuos_sel)):\r\n",
        "  row_df = full_df.loc[full_df['ind'] == individuos_sel[i]]\r\n",
        "  final_df = pd.concat([row_df, final_df], ignore_index=True)\r\n",
        "\r\n",
        "for i in range(len(full_df)):\r\n",
        "  if full_df['ind'][i] not in individuos_sel:\r\n",
        "    row_df = full_df.loc[full_df['ind'] == full_df['ind'][i]]\r\n",
        "    no_select_df = pd.concat([row_df, no_select_df], ignore_index=True)\r\n",
        "\r\n",
        "\r\n",
        "print(\"Dataframe de los seleccionados: \", final_df.shape)\r\n",
        "print(\"Dataframe de los no seleccionados: \", no_select_df.shape)"
      ],
      "execution_count": null,
      "outputs": [
        {
          "output_type": "stream",
          "text": [
            "Dataframe de los seleccionados:  (592, 6)\n",
            "Dataframe de los no seleccionados:  (126, 6)\n"
          ],
          "name": "stdout"
        }
      ]
    },
    {
      "cell_type": "markdown",
      "metadata": {
        "id": "PIr_D0nWWCkh"
      },
      "source": [
        "## Subir el dataset reducido a Drive (NN4FT_DB)\r\n",
        "\r\n",
        "Se guarda el dataset de los individuos más representativos en un archivo csv con el nombre del benchmark que se ha utilizado anteriormente."
      ]
    },
    {
      "cell_type": "code",
      "metadata": {
        "id": "2rLFl20tWzfI",
        "colab": {
          "base_uri": "https://localhost:8080/"
        },
        "outputId": "ebfae780-5cd6-40b9-ae3e-252fe8bbca93"
      },
      "source": [
        "# Especificar la en la ruta donde se quiere que se guarde el csv resultante\r\n",
        "save_path = '/content/drive/Shareddrives/NN4FT_DB/Exp_Adrian/Data Frames'\r\n",
        "\r\n",
        "save_path = save_path + \"/\" + final_csv\r\n",
        "\r\n",
        "final_df.to_csv(save_path, sep = \";\", index = False);\r\n",
        "\r\n",
        "print(\"Archivo guardado en :\", save_path)"
      ],
      "execution_count": null,
      "outputs": [
        {
          "output_type": "stream",
          "text": [
            "Archivo guardado en : /content/drive/Shareddrives/NN4FT_DB/Exp_Adrian/Data Frames/ndes-score.csv\n"
          ],
          "name": "stdout"
        }
      ]
    },
    {
      "cell_type": "markdown",
      "metadata": {
        "id": "T2u6QTpKebAp"
      },
      "source": [
        "## Crear dataset de TEST\r\n",
        "\r\n",
        "Mientras que en los apartados anteriores se crea el dataset de entrenamiento y validación en el siguiente apartado se va a crear el dataset de TEST para poder comprobar el funcionamiento de la red. \r\n",
        "\r\n",
        "Para ello se coge un porcentaje al azar de los individuos no seleccionados para entrenamiento"
      ]
    },
    {
      "cell_type": "code",
      "metadata": {
        "colab": {
          "base_uri": "https://localhost:8080/"
        },
        "id": "0Oca-sTEvCiZ",
        "outputId": "48c8cf65-b50d-445c-8098-17aea593a8ea"
      },
      "source": [
        "porcentaje_ind_no_sel = 15 # Entrada del usuario (Porcentaje)\r\n",
        "no_sel_num = (len(full_df)*porcentaje_ind_no_sel)//100\r\n",
        "print(\"El numero de individuos para la realización de test son: \", no_sel_num)\r\n",
        "\r\n",
        "no_select_df = no_select_df.sample(no_sel_num).reset_index(drop=True)\r\n",
        "\r\n",
        "print(\"Tamaño del dataset de Test: \", no_select_df.shape)"
      ],
      "execution_count": null,
      "outputs": [
        {
          "output_type": "stream",
          "text": [
            "El numero de individuos para la realización de test son:  107\n",
            "Tamaño del dataset de Test:  (107, 6)\n"
          ],
          "name": "stdout"
        }
      ]
    },
    {
      "cell_type": "markdown",
      "metadata": {
        "id": "4HqPao5qzT_r"
      },
      "source": [
        "## Subir el dataset de TEST a Drive (NN4FT_DB)"
      ]
    },
    {
      "cell_type": "code",
      "metadata": {
        "colab": {
          "base_uri": "https://localhost:8080/"
        },
        "id": "hbCzuQ-DzLfI",
        "outputId": "a3252906-204e-42a0-971a-bcd740d8eb26"
      },
      "source": [
        "# Especificar la en la ruta donde se quiere que se guarde el csv resultante\r\n",
        "save_path = '/content/drive/Shareddrives/NN4FT_DB/Exp_Adrian/Data Frames'\r\n",
        "\r\n",
        "save_path = save_path + \"/\" + test_csv\r\n",
        "\r\n",
        "no_select_df.to_csv(save_path, sep = \";\", index = False);\r\n",
        "\r\n",
        "print(\"Archivo guardado en :\", save_path)"
      ],
      "execution_count": null,
      "outputs": [
        {
          "output_type": "stream",
          "text": [
            "Archivo guardado en : /content/drive/Shareddrives/NN4FT_DB/Exp_Adrian/Data Frames/ndes-test.csv\n"
          ],
          "name": "stdout"
        }
      ]
    },
    {
      "cell_type": "markdown",
      "metadata": {
        "id": "yvqE-BZgj1XQ"
      },
      "source": [
        "## Funciones de procesamiento\r\n",
        "\r\n",
        "Aquí se declaran las funciones necesarias para obtener los datos que nos interesan de cada individuo a nivel general sin obtener aquellos de los extremos de cada benchmark."
      ]
    },
    {
      "cell_type": "code",
      "metadata": {
        "id": "nVbZlgv5fVef"
      },
      "source": [
        "unaceLine = r\"^overall\\sUNACE\"\r\n",
        "sdcLine = r\"^overall\\sSDC\"\r\n",
        "hangLine = r\"^overall\\sHANG\"\r\n",
        "\r\n",
        "#Función que devuelve la FT de cada individuo\r\n",
        "def getFT(file_path):\r\n",
        "\r\n",
        "  with open(file_path) as file:\r\n",
        "    for line in file:\r\n",
        "      if re.match(unaceLine, line):\r\n",
        "        unace = line.split()[4]\r\n",
        "      if re.match(sdcLine, line):\r\n",
        "        sdc = line.split()[4]\r\n",
        "      if re.match(hangLine, line):\r\n",
        "        hang = line.split()[4]\r\n",
        "\r\n",
        "  return str(unace), str(sdc), str(hang)"
      ],
      "execution_count": null,
      "outputs": []
    },
    {
      "cell_type": "code",
      "metadata": {
        "id": "C7c-sVGcftod"
      },
      "source": [
        "# Función para obtener el tamaño en memoria de cada ejecutable\r\n",
        "def getMemSize(file_path):\r\n",
        "\r\n",
        "  with open(file_path) as file:\r\n",
        "    for line in file:\r\n",
        "      memsize = line.split()[1]\r\n",
        "\r\n",
        "  return str(memsize)"
      ],
      "execution_count": null,
      "outputs": []
    },
    {
      "cell_type": "code",
      "metadata": {
        "id": "Xm_zNkmHgJS3"
      },
      "source": [
        "# Función para obtener los ciclos que realiza cada individuo\r\n",
        "def getCycles(file_path):\r\n",
        "\r\n",
        "  with open(file_path) as file:\r\n",
        "    for line in file:\r\n",
        "      cycles = line.split()[1]\r\n",
        "\r\n",
        "  return str(cycles)"
      ],
      "execution_count": null,
      "outputs": []
    }
  ]
}