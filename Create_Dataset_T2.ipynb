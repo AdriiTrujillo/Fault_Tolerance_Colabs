{
  "nbformat": 4,
  "nbformat_minor": 0,
  "metadata": {
    "colab": {
      "name": "Create_Dataset_T2.ipynb",
      "provenance": [],
      "collapsed_sections": [],
      "toc_visible": true,
      "authorship_tag": "ABX9TyOgEqtr451JPvDI71wew9HF",
      "include_colab_link": true
    },
    "kernelspec": {
      "name": "python3",
      "display_name": "Python 3"
    }
  },
  "cells": [
    {
      "cell_type": "markdown",
      "metadata": {
        "id": "view-in-github",
        "colab_type": "text"
      },
      "source": [
        "<a href=\"https://colab.research.google.com/github/AdriiTrujillo/Fault_Tolerance_Colabs/blob/main/Create_Dataset_T2.ipynb\" target=\"_parent\"><img src=\"https://colab.research.google.com/assets/colab-badge.svg\" alt=\"Open In Colab\"/></a>"
      ]
    },
    {
      "cell_type": "markdown",
      "metadata": {
        "id": "iAuNv0NhOeVl"
      },
      "source": [
        "# CREAR DATASET TAREA 2\r\n",
        "\r\n",
        "*Adrián Trujillo López*\r\n",
        "\r\n",
        "Crear un dataset de los individuos mas significativos de los 3 benchmarks, `bubblesort`, `dijkstra` y `Ndes`. La selección de individuos se basa en los valores extremos (*max, med, min*) de **FT( Fault Tolerance)**, **Cycles** y **memsize**.\r\n",
        "\r\n",
        "Orden de ejecucción del cuadreno : \r\n",
        "1. Este apartado de configuración global.\r\n",
        "2. Apartado de Funciones de procesamiento (final del documento). \r\n",
        "3. Apartado de guardar toda la información.\r\n",
        "4. Apartado para subir el archivo a Drive.\r\n",
        "5. Apartado para obtener los individuos mas representativos\r\n",
        "6. Apartado para subir el csv con los mas representativos a Google Drive"
      ]
    },
    {
      "cell_type": "code",
      "metadata": {
        "id": "6ywNXe8lOEmg"
      },
      "source": [
        "#Celda para poder probar lo que se quiera (o utilizar comandos del bash con !)\r\n"
      ],
      "execution_count": null,
      "outputs": []
    },
    {
      "cell_type": "code",
      "metadata": {
        "id": "U3piEoJyxT8a"
      },
      "source": [
        "# Importación de librerias\r\n",
        "%matplotlib inline\r\n",
        "import matplotlib.pyplot as plt\r\n",
        "import pandas as pd\r\n",
        "import numpy as np\r\n",
        "import re\r\n",
        "import sys\r\n",
        "\r\n",
        "import os\r\n",
        "from pydrive.auth import GoogleAuth\r\n",
        "from pydrive.drive import GoogleDrive\r\n",
        "from google.colab import auth, files\r\n",
        "from oauth2client.client import GoogleCredentials"
      ],
      "execution_count": null,
      "outputs": []
    },
    {
      "cell_type": "code",
      "metadata": {
        "id": "fktCA0L_xfHR"
      },
      "source": [
        "auth.authenticate_user()\r\n",
        "gauth = GoogleAuth()\r\n",
        "gauth.credentials = GoogleCredentials.get_application_default()\r\n",
        "drive = GoogleDrive(gauth)"
      ],
      "execution_count": null,
      "outputs": []
    },
    {
      "cell_type": "code",
      "metadata": {
        "colab": {
          "base_uri": "https://localhost:8080/"
        },
        "id": "d5ctfsjRy6mu",
        "outputId": "3ac8ac22-f6da-4d3d-e960-47ee2d07dc87"
      },
      "source": [
        "# Montar el contenido de drive\r\n",
        "from google.colab import drive\r\n",
        "drive.mount('/content/drive')"
      ],
      "execution_count": null,
      "outputs": [
        {
          "output_type": "stream",
          "text": [
            "Mounted at /content/drive\n"
          ],
          "name": "stdout"
        }
      ]
    },
    {
      "cell_type": "markdown",
      "metadata": {
        "id": "DtP7bA08RGwX"
      },
      "source": [
        "## Obtener la carpeta de cada Benchmark\r\n",
        "\r\n",
        "El siguiente codigo obtiene la carpeta y crea una lista con todas las carpetas dentro del benchmark. \r\n",
        "\r\n",
        "**Correr solamente una de las siguientes celdas dependiendo del benchmark que quieras procesar!!**"
      ]
    },
    {
      "cell_type": "markdown",
      "metadata": {
        "id": "2VWlAwA2UOqx"
      },
      "source": [
        "### Bubblesort"
      ]
    },
    {
      "cell_type": "code",
      "metadata": {
        "id": "jHS5X6e9RaN_",
        "colab": {
          "base_uri": "https://localhost:8080/"
        },
        "outputId": "41e9229d-bb28-477d-f4f4-9883803d8dbf"
      },
      "source": [
        "# BUBBLESORT_DB\r\n",
        "local_path = '/content/drive/Shareddrives/NN4FT_DB/'\r\n",
        "local_path = local_path + \"bubblesort_db\"\r\n",
        "\r\n",
        "folder_list = os.listdir(local_path)\r\n",
        "\r\n",
        "print(len(folder_list)) # Tiene que dar 824\r\n",
        "\r\n",
        "full_csv = \"bubblesort_full.csv\"\r\n",
        "\r\n",
        "with open(full_csv, \"w\") as f:\r\n",
        "  f.write('ind,time,size,ft\\n')\r\n",
        "  f.close()\r\n"
      ],
      "execution_count": null,
      "outputs": [
        {
          "output_type": "stream",
          "text": [
            "824\n"
          ],
          "name": "stdout"
        }
      ]
    },
    {
      "cell_type": "markdown",
      "metadata": {
        "id": "GADXAm1KURhY"
      },
      "source": [
        "### Dijkstra"
      ]
    },
    {
      "cell_type": "code",
      "metadata": {
        "colab": {
          "base_uri": "https://localhost:8080/"
        },
        "id": "P98UMOvvWNUu",
        "outputId": "1946c8a2-449f-4c5f-ea20-fba3fe2a49c5"
      },
      "source": [
        "# DIJKSTRA_DB\r\n",
        "local_path = '/content/drive/Shareddrives/NN4FT_DB/'\r\n",
        "local_path = local_path + \"dijkstra_db\"\r\n",
        "\r\n",
        "folder_list = os.listdir(local_path)\r\n",
        "\r\n",
        "print(len(folder_list)) # Tiene que dar 112\r\n",
        "\r\n",
        "full_csv = \"dijkstra_full.csv\"\r\n",
        "\r\n",
        "with open(full_csv, \"w\") as f:\r\n",
        "  f.write('ind;time;size;ft\\n')\r\n",
        "  f.close()"
      ],
      "execution_count": null,
      "outputs": [
        {
          "output_type": "stream",
          "text": [
            "112\n"
          ],
          "name": "stdout"
        }
      ]
    },
    {
      "cell_type": "markdown",
      "metadata": {
        "id": "8dsPD1K1UTkI"
      },
      "source": [
        "### Ndes"
      ]
    },
    {
      "cell_type": "code",
      "metadata": {
        "id": "-jk4Bp6kXYc1"
      },
      "source": [
        "# NDES_DB\r\n",
        "local_path = '/content/drive/Shareddrives/NN4FT_DB/'\r\n",
        "local_path = local_path + \"ndes_db\"\r\n",
        "\r\n",
        "folder_list = os.listdir(local_path)\r\n",
        "\r\n",
        "print(len(folder_list))\r\n",
        "\r\n",
        "full_csv = \"ndes_full.csv\"\r\n",
        "\r\n",
        "with open(full_csv, \"w\") as f:\r\n",
        "  f.write('ind;time;size;ft\\n')\r\n",
        "  f.close()"
      ],
      "execution_count": null,
      "outputs": []
    },
    {
      "cell_type": "markdown",
      "metadata": {
        "id": "7w5nFNY8Xwbx"
      },
      "source": [
        "## Guardar toda la información\r\n",
        "\r\n",
        "Este codigo se encarga de utilizar la funciones descritas en el apartado de `Funciones de procesamiento` para obtener toda la información de cada individuo y crear un archivo csv con toda la información de todos los individuos.\r\n",
        "\r\n",
        "Por eso para que funcione este apartado **hay que correr el siguiente primero**.\r\n",
        "\r\n",
        "A diferencia del codigo de David Ruiz no necesito dividir en Chunks por que no utilizo GoogleAuth."
      ]
    },
    {
      "cell_type": "code",
      "metadata": {
        "id": "XsqhRj5oYaBk",
        "colab": {
          "base_uri": "https://localhost:8080/"
        },
        "outputId": "bc2bd359-795a-4893-a830-233f1e0b9424"
      },
      "source": [
        "outputToWrite = \"\"\r\n",
        "i = 0\r\n",
        "\r\n",
        "# folder hace refencia a cada individuo\r\n",
        "for folder in folder_list:\r\n",
        "\r\n",
        "  i += 1 # Cuenta de las carpteas recorridas\r\n",
        "  print(i,\"/\", len(folder_list))\r\n",
        "\r\n",
        "  folder_path = local_path + \"/\" + folder\r\n",
        "  file_list = os.listdir(folder_path)\r\n",
        "\r\n",
        "  for file in file_list:\r\n",
        "\r\n",
        "    file_path = folder_path + \"/\" + file\r\n",
        "\r\n",
        "    if file == \"results.perf\":\r\n",
        "      unace, sdc, hang = getFT(file_path) \r\n",
        "\r\n",
        "    if file == \"cycles.log\":\r\n",
        "      cycles = getCycles(file_path)\r\n",
        "\r\n",
        "    if file == \"RESULTS.LOG\":\r\n",
        "      memsize = getMemSize(file_path)\r\n",
        "\r\n",
        "\r\n",
        "  outputToWrite += folder + \";\" + cycles + \";\" + memsize + \";\" + unace + \"\\n\"\r\n",
        "\r\n",
        "with open(full_csv, \"a\") as f:\r\n",
        "  f.write(outputToWrite)\r\n",
        "  f.close()\r\n",
        "    "
      ],
      "execution_count": null,
      "outputs": [
        {
          "output_type": "stream",
          "text": [
            "1 / 112\n",
            "2 / 112\n",
            "3 / 112\n",
            "4 / 112\n",
            "5 / 112\n",
            "6 / 112\n",
            "7 / 112\n",
            "8 / 112\n",
            "9 / 112\n",
            "10 / 112\n",
            "11 / 112\n",
            "12 / 112\n",
            "13 / 112\n",
            "14 / 112\n",
            "15 / 112\n",
            "16 / 112\n",
            "17 / 112\n",
            "18 / 112\n",
            "19 / 112\n",
            "20 / 112\n",
            "21 / 112\n",
            "22 / 112\n",
            "23 / 112\n",
            "24 / 112\n",
            "25 / 112\n",
            "26 / 112\n",
            "27 / 112\n",
            "28 / 112\n",
            "29 / 112\n",
            "30 / 112\n",
            "31 / 112\n",
            "32 / 112\n",
            "33 / 112\n",
            "34 / 112\n",
            "35 / 112\n",
            "36 / 112\n",
            "37 / 112\n",
            "38 / 112\n",
            "39 / 112\n",
            "40 / 112\n",
            "41 / 112\n",
            "42 / 112\n",
            "43 / 112\n",
            "44 / 112\n",
            "45 / 112\n",
            "46 / 112\n",
            "47 / 112\n",
            "48 / 112\n",
            "49 / 112\n",
            "50 / 112\n",
            "51 / 112\n",
            "52 / 112\n",
            "53 / 112\n",
            "54 / 112\n",
            "55 / 112\n",
            "56 / 112\n",
            "57 / 112\n",
            "58 / 112\n",
            "59 / 112\n",
            "60 / 112\n",
            "61 / 112\n",
            "62 / 112\n",
            "63 / 112\n",
            "64 / 112\n",
            "65 / 112\n",
            "66 / 112\n",
            "67 / 112\n",
            "68 / 112\n",
            "69 / 112\n",
            "70 / 112\n",
            "71 / 112\n",
            "72 / 112\n",
            "73 / 112\n",
            "74 / 112\n",
            "75 / 112\n",
            "76 / 112\n",
            "77 / 112\n",
            "78 / 112\n",
            "79 / 112\n",
            "80 / 112\n",
            "81 / 112\n",
            "82 / 112\n",
            "83 / 112\n",
            "84 / 112\n",
            "85 / 112\n",
            "86 / 112\n",
            "87 / 112\n",
            "88 / 112\n",
            "89 / 112\n",
            "90 / 112\n",
            "91 / 112\n",
            "92 / 112\n",
            "93 / 112\n",
            "94 / 112\n",
            "95 / 112\n",
            "96 / 112\n",
            "97 / 112\n",
            "98 / 112\n",
            "99 / 112\n",
            "100 / 112\n",
            "101 / 112\n",
            "102 / 112\n",
            "103 / 112\n",
            "104 / 112\n",
            "105 / 112\n",
            "106 / 112\n",
            "107 / 112\n",
            "108 / 112\n",
            "109 / 112\n",
            "110 / 112\n",
            "111 / 112\n",
            "112 / 112\n"
          ],
          "name": "stdout"
        }
      ]
    },
    {
      "cell_type": "markdown",
      "metadata": {
        "id": "gZRWK8c7qFxr"
      },
      "source": [
        "## Subir el dataset completo a Drive (NN4FT_DB)\r\n",
        "\r\n",
        "Como no estoy utilizando googleAuth para nada basta con utilizar la función move de la libreria shutil y mover el archivo a la ruta que se indice dentro de la carpeta `drive`."
      ]
    },
    {
      "cell_type": "code",
      "metadata": {
        "id": "rKst8QUQqD8o"
      },
      "source": [
        "import shutil\r\n",
        "save_path = '/content/drive/Shareddrives/NN4FT_DB/Exp_Adrian/Data Frames'\r\n",
        "\r\n",
        "ruta = shutil.move(full_csv, save_path)"
      ],
      "execution_count": null,
      "outputs": []
    },
    {
      "cell_type": "markdown",
      "metadata": {
        "id": "oKChnXa0q_K8"
      },
      "source": [
        "## Obtener los individuos mas representativos\r\n",
        "\r\n",
        "En el siguiente apartado se realizaran una serie de procesamientos sobre los datasets con todos los individuos para seleccionar las mas representativos. En total so obtendran 270 o menos individuos por cada dataset. "
      ]
    },
    {
      "cell_type": "markdown",
      "metadata": {
        "id": "jegiz3zCT_WX"
      },
      "source": [
        "### Bubblesort"
      ]
    },
    {
      "cell_type": "code",
      "metadata": {
        "id": "UOCovbJBrtO7",
        "colab": {
          "base_uri": "https://localhost:8080/"
        },
        "outputId": "52954090-f381-4bf5-c729-2daf489d3267"
      },
      "source": [
        "# BUBBLESORT_DF\r\n",
        "# Si el csv no está en esta dirección cambiarlo a gusto del usuario.\r\n",
        "bubblesort_path = '/content/drive/Shareddrives/NN4FT_DB/Exp_Adrian/Data Frames/bubblesort_full.csv'\r\n",
        "# Nombre para guardar el csv con los individuos mas representativos\r\n",
        "final_csv = \"bubblesort-score.csv\"\r\n",
        "test_csv = \"bubblesort-test.csv\"\r\n",
        "\r\n",
        "full_df = pd.read_csv(bubblesort_path, sep=\";\") \r\n",
        "print(\"Tamaño bubblesort_df completo: \", full_df.shape)"
      ],
      "execution_count": 184,
      "outputs": [
        {
          "output_type": "stream",
          "text": [
            "Tamaño bubblesort_df completo:  (824, 4)\n"
          ],
          "name": "stdout"
        }
      ]
    },
    {
      "cell_type": "markdown",
      "metadata": {
        "id": "Wv0avbziUDby"
      },
      "source": [
        "### Dijkstra"
      ]
    },
    {
      "cell_type": "code",
      "metadata": {
        "id": "bA2TPMUMsZjf",
        "colab": {
          "base_uri": "https://localhost:8080/"
        },
        "outputId": "68eba221-e69f-469b-85d9-03481c12708e"
      },
      "source": [
        "# DIJKSTRA_DF\r\n",
        "# Si el csv no está en esta dirección cambiarlo a gusto del usuario.\r\n",
        "dijkstra_path = '/content/drive/Shareddrives/NN4FT_DB/Exp_Adrian/Data Frames/dijkstra_full.csv'\r\n",
        "# Nombre para guardar el csv con los individuos mas representativos\r\n",
        "final_csv = \"dijstra-score.csv\"\r\n",
        "test_csv = \"dijstra-test.csv\"\r\n",
        "\r\n",
        "full_df = pd.read_csv(dijkstra_path, sep=\";\") \r\n",
        "print(\"Tamaño dijkstra_df completo: \", full_df.shape)"
      ],
      "execution_count": 188,
      "outputs": [
        {
          "output_type": "stream",
          "text": [
            "Tamaño dijkstra_df completo:  (112, 4)\n"
          ],
          "name": "stdout"
        }
      ]
    },
    {
      "cell_type": "markdown",
      "metadata": {
        "id": "XTBrZ3s9UHxo"
      },
      "source": [
        "### Ndes"
      ]
    },
    {
      "cell_type": "code",
      "metadata": {
        "id": "8OOjFvZOQsfD"
      },
      "source": [
        "# NDES_DF\r\n",
        "# Si el csv no está en esta dirección cambiarlo a gusto del usuario.\r\n",
        "ndes_path = '/content/drive/Shareddrives/NN4FT_DB/Exp_Adrian/Data Frames/ndes_full.csv'\r\n",
        "# Nombre para guardar el csv con los individuos mas representativos\r\n",
        "final_csv = \"ndes-score.csv\"\r\n",
        "test_csv = \"ndes-test.csv\"\r\n",
        "\r\n",
        "full_df = pd.read_csv(ndes_path, sep=\";\") \r\n",
        "print(\"Tamaño ndes_df completo: \", full_df.shape)"
      ],
      "execution_count": null,
      "outputs": []
    },
    {
      "cell_type": "markdown",
      "metadata": {
        "id": "LdPmW8pVV3DA"
      },
      "source": [
        "### Procesamiento"
      ]
    },
    {
      "cell_type": "code",
      "metadata": {
        "colab": {
          "base_uri": "https://localhost:8080/"
        },
        "id": "N7BJN3wnuosN",
        "outputId": "48d204df-a28a-45fb-a2d0-3f11ff6ff504"
      },
      "source": [
        "porcentaje_ind_sel = 15 # Entrada del usuario (Porcentaje)\r\n",
        "num_ind = (len(full_df)*porcentaje_ind_sel)//100\r\n",
        "\r\n",
        "print(\"Numeros de individuos seleccionados por cada extemo para el entrenamiento: \", num_ind)\r\n",
        "\r\n",
        "individuos_sel = []\r\n",
        "\r\n",
        "sorted_ft = full_df.sort_values(by=['ft'], ascending=False).drop(['size', 'time'], axis=1)\r\n",
        "sorted_size = full_df.sort_values(by=['size'], ascending=False).drop(['ft', 'time'], axis=1)\r\n",
        "sorted_time = full_df.sort_values(by=['time'], ascending=False).drop(['size', 'ft'], axis=1)\r\n",
        "\r\n",
        "for i in range(len(sorted_ft)):\r\n",
        "\r\n",
        "  individuo = sorted_ft.iloc[i]['ind']\r\n",
        "\r\n",
        "  if i < num_ind:\r\n",
        "    if individuo not in individuos_sel:\r\n",
        "      individuos_sel.append(individuo)\r\n",
        "  if (i >= (len(sorted_ft)//2) - (num_ind//2)) and (i < (len(sorted_ft)//2) + (num_ind//2)):\r\n",
        "    if individuo not in individuos_sel:\r\n",
        "      individuos_sel.append(individuo)\r\n",
        "  if i >= (len(sorted_ft) - num_ind):\r\n",
        "    if individuo not in individuos_sel:\r\n",
        "      individuos_sel.append(individuo)\r\n",
        "\r\n",
        "print(len(individuos_sel), \" ... \")\r\n",
        "\r\n",
        "for i in range(len(sorted_size)):\r\n",
        "\r\n",
        "  individuo = sorted_size.iloc[i]['ind']\r\n",
        "\r\n",
        "  if i < num_ind:\r\n",
        "    if individuo not in individuos_sel:\r\n",
        "      individuos_sel.append(individuo)\r\n",
        "  if (i >= (len(sorted_size)//2) - (num_ind//2)) and (i < (len(sorted_size)//2) + (num_ind//2)):\r\n",
        "    if individuo not in individuos_sel:\r\n",
        "      individuos_sel.append(individuo)\r\n",
        "  if i >= (len(sorted_size) - num_ind):\r\n",
        "    if individuo not in individuos_sel:\r\n",
        "      individuos_sel.append(individuo)\r\n",
        "\r\n",
        "print(len(individuos_sel), \" ... \")\r\n",
        "\r\n",
        "for i in range(len(sorted_time)):\r\n",
        "\r\n",
        "  individuo = sorted_time.iloc[i]['ind']\r\n",
        "\r\n",
        "  if i < num_ind:\r\n",
        "    if individuo not in individuos_sel:\r\n",
        "      individuos_sel.append(individuo)\r\n",
        "  if (i >= (len(sorted_time)//2) - (num_ind//2)) and (i < (len(sorted_time)//2) + (num_ind//2)):\r\n",
        "    if individuo not in individuos_sel:\r\n",
        "      individuos_sel.append(individuo)\r\n",
        "  if i >= (len(sorted_time) - num_ind):\r\n",
        "    if individuo not in individuos_sel:\r\n",
        "      individuos_sel.append(individuo)\r\n",
        "\r\n",
        "print(len(individuos_sel))\r\n"
      ],
      "execution_count": 189,
      "outputs": [
        {
          "output_type": "stream",
          "text": [
            "Numeros de individuos seleccionados por cada extemo para el entrenamiento:  16\n",
            "48  ... \n",
            "76  ... \n",
            "92\n"
          ],
          "name": "stdout"
        }
      ]
    },
    {
      "cell_type": "code",
      "metadata": {
        "id": "duwxaLhws-Vk"
      },
      "source": [
        ""
      ],
      "execution_count": null,
      "outputs": []
    },
    {
      "cell_type": "code",
      "metadata": {
        "colab": {
          "base_uri": "https://localhost:8080/"
        },
        "id": "IJFvZdeyp2Z2",
        "outputId": "479f2167-d7da-470c-f64a-482945a795ef"
      },
      "source": [
        "# Guardar todos los individuos seleccionados en un dataframe nuevo mas reducido\r\n",
        "\r\n",
        "final_df = pd.DataFrame()\r\n",
        "no_select_df = pd.DataFrame()\r\n",
        "\r\n",
        "for i in range(len(individuos_sel)):\r\n",
        "  row_df = full_df.loc[full_df['ind'] == individuos_sel[i]]\r\n",
        "  final_df = pd.concat([row_df, final_df], ignore_index=True)\r\n",
        "\r\n",
        "for i in range(len(full_df)):\r\n",
        "  if full_df['ind'][i] not in individuos_sel:\r\n",
        "    row_df = full_df.loc[full_df['ind'] == full_df['ind'][i]]\r\n",
        "    no_select_df = pd.concat([row_df, no_select_df], ignore_index=True)\r\n",
        "\r\n",
        "\r\n",
        "print(\"Dataframe de los seleccionados: \", final_df.shape)\r\n",
        "print(\"Dataframe de los no seleccionados: \", no_select_df.shape)"
      ],
      "execution_count": 190,
      "outputs": [
        {
          "output_type": "stream",
          "text": [
            "Dataframe de los seleccionados:  (92, 4)\n",
            "Dataframe de los no seleccionados:  (20, 4)\n"
          ],
          "name": "stdout"
        }
      ]
    },
    {
      "cell_type": "markdown",
      "metadata": {
        "id": "PIr_D0nWWCkh"
      },
      "source": [
        "## Subir el dataset reducido a Drive (NN4FT_DB)\r\n",
        "\r\n",
        "Se guarda el dataset de los individuos más representativos en un archivo csv con el nombre del benchmark que se ha utilizado anteriormente."
      ]
    },
    {
      "cell_type": "code",
      "metadata": {
        "id": "2rLFl20tWzfI",
        "colab": {
          "base_uri": "https://localhost:8080/"
        },
        "outputId": "b6193275-57a5-4c1e-d7d9-8f551accd22c"
      },
      "source": [
        "# Especificar la en la ruta donde se quiere que se guarde el csv resultante\r\n",
        "save_path = '/content/drive/Shareddrives/NN4FT_DB/Exp_Adrian/Data Frames'\r\n",
        "\r\n",
        "save_path = save_path + \"/\" + final_csv\r\n",
        "\r\n",
        "final_df.to_csv(save_path, sep = \";\", index = False);\r\n",
        "\r\n",
        "print(\"Archivo guardado en :\", save_path)"
      ],
      "execution_count": 191,
      "outputs": [
        {
          "output_type": "stream",
          "text": [
            "Archivo guardado en : /content/drive/Shareddrives/NN4FT_DB/Exp_Adrian/Data Frames/dijstra-score.csv\n"
          ],
          "name": "stdout"
        }
      ]
    },
    {
      "cell_type": "markdown",
      "metadata": {
        "id": "T2u6QTpKebAp"
      },
      "source": [
        "## Crear dataset de TEST\r\n",
        "\r\n",
        "Mientras que en los apartados anteriores se crea el dataset de entrenamiento y validación en el siguiente apartado se va a crear el dataset de TEST para poder comprobar el funcionamiento de la red. \r\n",
        "\r\n",
        "Para ello se coge un porcentaje al azar de los individuos no seleccionados para entrenamiento"
      ]
    },
    {
      "cell_type": "code",
      "metadata": {
        "colab": {
          "base_uri": "https://localhost:8080/"
        },
        "id": "0Oca-sTEvCiZ",
        "outputId": "c584cca7-2cf1-4aa8-d384-630ea9a9ae14"
      },
      "source": [
        "porcentaje_ind_no_sel = 15 # Entrada del usuario (Porcentaje)\r\n",
        "no_sel_num = (len(full_df)*porcentaje_ind_no_sel)//100\r\n",
        "print(\"El numero de individuos para la realización de test son: \", no_sel_num)\r\n",
        "\r\n",
        "no_select_df = no_select_df.sample(no_sel_num).reset_index(drop=True)\r\n",
        "\r\n",
        "print(\"Tamaño del dataset de Test: \", no_select_df.shape)"
      ],
      "execution_count": 192,
      "outputs": [
        {
          "output_type": "stream",
          "text": [
            "El numero de individuos para la realización de test son:  16\n",
            "Tamaño del dataset de Test:  (16, 4)\n"
          ],
          "name": "stdout"
        }
      ]
    },
    {
      "cell_type": "markdown",
      "metadata": {
        "id": "4HqPao5qzT_r"
      },
      "source": [
        "## Subir el dataset de TEST a Drive (NN4FT_DB)"
      ]
    },
    {
      "cell_type": "code",
      "metadata": {
        "colab": {
          "base_uri": "https://localhost:8080/"
        },
        "id": "hbCzuQ-DzLfI",
        "outputId": "2b2663fe-3b2f-4540-8d18-e0144a0ad2e2"
      },
      "source": [
        "# Especificar la en la ruta donde se quiere que se guarde el csv resultante\r\n",
        "save_path = '/content/drive/Shareddrives/NN4FT_DB/Exp_Adrian/Data Frames'\r\n",
        "\r\n",
        "save_path = save_path + \"/\" + test_csv\r\n",
        "\r\n",
        "no_select_df.to_csv(save_path, sep = \";\", index = False);\r\n",
        "\r\n",
        "print(\"Archivo guardado en :\", save_path)"
      ],
      "execution_count": 193,
      "outputs": [
        {
          "output_type": "stream",
          "text": [
            "Archivo guardado en : /content/drive/Shareddrives/NN4FT_DB/Exp_Adrian/Data Frames/dijstra-test.csv\n"
          ],
          "name": "stdout"
        }
      ]
    },
    {
      "cell_type": "markdown",
      "metadata": {
        "id": "yvqE-BZgj1XQ"
      },
      "source": [
        "## Funciones de procesamiento\r\n",
        "\r\n",
        "Aquí se declaran las funciones necesarias para obtener los datos que nos interesan de cada individuo a nivel general sin obtener aquellos de los extremos de cada benchmark."
      ]
    },
    {
      "cell_type": "code",
      "metadata": {
        "id": "nVbZlgv5fVef"
      },
      "source": [
        "unaceLine = r\"^overall\\sUNACE\"\r\n",
        "sdcLine = r\"^overall\\sSDC\"\r\n",
        "hangLine = r\"^overall\\sHANG\"\r\n",
        "\r\n",
        "#Función que devuelve la FT de cada individuo\r\n",
        "def getFT(file_path):\r\n",
        "\r\n",
        "  with open(file_path) as file:\r\n",
        "    for line in file:\r\n",
        "      if re.match(unaceLine, line):\r\n",
        "        unace = line.split()[4]\r\n",
        "      if re.match(sdcLine, line):\r\n",
        "        sdc = line.split()[4]\r\n",
        "      if re.match(hangLine, line):\r\n",
        "        hang = line.split()[4]\r\n",
        "\r\n",
        "  return str(unace), str(sdc), str(hang)"
      ],
      "execution_count": null,
      "outputs": []
    },
    {
      "cell_type": "code",
      "metadata": {
        "id": "C7c-sVGcftod"
      },
      "source": [
        "# Función para obtener el tamaño en memoria de cada ejecutable\r\n",
        "def getMemSize(file_path):\r\n",
        "\r\n",
        "  with open(file_path) as file:\r\n",
        "    for line in file:\r\n",
        "      memsize = line.split()[1]\r\n",
        "\r\n",
        "  return str(memsize)"
      ],
      "execution_count": null,
      "outputs": []
    },
    {
      "cell_type": "code",
      "metadata": {
        "id": "Xm_zNkmHgJS3"
      },
      "source": [
        "# Función para obtener los ciclos que realiza cada individuo\r\n",
        "def getCycles(file_path):\r\n",
        "\r\n",
        "  with open(file_path) as file:\r\n",
        "    for line in file:\r\n",
        "      cycles = line.split()[1]\r\n",
        "\r\n",
        "  return str(cycles)"
      ],
      "execution_count": null,
      "outputs": []
    }
  ]
}