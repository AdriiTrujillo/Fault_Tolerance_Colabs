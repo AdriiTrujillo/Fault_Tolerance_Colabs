{
  "nbformat": 4,
  "nbformat_minor": 0,
  "metadata": {
    "colab": {
      "name": "Create_Dataset_T2.ipynb",
      "provenance": [],
      "collapsed_sections": [],
      "toc_visible": true,
      "authorship_tag": "ABX9TyMGqhpjBuQ3/pAqst9fClRx",
      "include_colab_link": true
    },
    "kernelspec": {
      "name": "python3",
      "display_name": "Python 3"
    }
  },
  "cells": [
    {
      "cell_type": "markdown",
      "metadata": {
        "id": "view-in-github",
        "colab_type": "text"
      },
      "source": [
        "<a href=\"https://colab.research.google.com/github/AdriiTrujillo/Fault_Tolerance_Colabs/blob/main/Create_Dataset_T2.ipynb\" target=\"_parent\"><img src=\"https://colab.research.google.com/assets/colab-badge.svg\" alt=\"Open In Colab\"/></a>"
      ]
    },
    {
      "cell_type": "markdown",
      "metadata": {
        "id": "iAuNv0NhOeVl"
      },
      "source": [
        "# CREAR DATASET TAREA 2\r\n",
        "\r\n",
        "*Adrián Trujillo López*\r\n",
        "\r\n",
        "Crear un dataset de los individuos mas significativos de los 3 benchmarks, `bubblesort`, `dijkstra` y `Ndes`. La selección de individuos se basa en los valores extremos (*max, med, min*) de **FT( Fault Tolerance)**, **Cycles** y **memsize**.\r\n",
        "\r\n",
        "Orden de ejecucción del cuadreno : \r\n",
        "1. Este apartado de configuración global.\r\n",
        "2. Apartado de Funciones de procesamiento\r\n",
        "3. Apartado de guardar toda la información\r\n",
        "4. Apartado para subir el archivo a Drive"
      ]
    },
    {
      "cell_type": "code",
      "metadata": {
        "id": "6ywNXe8lOEmg"
      },
      "source": [
        "#Celda para poder probar lo que se quiera (o utilizar comandos del bash con !)\r\n"
      ],
      "execution_count": null,
      "outputs": []
    },
    {
      "cell_type": "code",
      "metadata": {
        "id": "U3piEoJyxT8a"
      },
      "source": [
        "# Importación de librerias\r\n",
        "%matplotlib inline\r\n",
        "import matplotlib.pyplot as plt\r\n",
        "import pandas as pd\r\n",
        "import numpy as np\r\n",
        "import re\r\n",
        "import sys\r\n",
        "\r\n",
        "import os\r\n",
        "from pydrive.auth import GoogleAuth\r\n",
        "from pydrive.drive import GoogleDrive\r\n",
        "from google.colab import auth, files\r\n",
        "from oauth2client.client import GoogleCredentials"
      ],
      "execution_count": null,
      "outputs": []
    },
    {
      "cell_type": "code",
      "metadata": {
        "id": "fktCA0L_xfHR"
      },
      "source": [
        "auth.authenticate_user()\r\n",
        "gauth = GoogleAuth()\r\n",
        "gauth.credentials = GoogleCredentials.get_application_default()\r\n",
        "drive = GoogleDrive(gauth)"
      ],
      "execution_count": null,
      "outputs": []
    },
    {
      "cell_type": "code",
      "metadata": {
        "colab": {
          "base_uri": "https://localhost:8080/"
        },
        "id": "d5ctfsjRy6mu",
        "outputId": "6501dac4-6925-4562-c8bb-c8924e13b221"
      },
      "source": [
        "# Montar el contenido de drive\r\n",
        "from google.colab import drive\r\n",
        "drive.mount('/content/drive')"
      ],
      "execution_count": null,
      "outputs": [
        {
          "output_type": "stream",
          "text": [
            "Drive already mounted at /content/drive; to attempt to forcibly remount, call drive.mount(\"/content/drive\", force_remount=True).\n"
          ],
          "name": "stdout"
        }
      ]
    },
    {
      "cell_type": "markdown",
      "metadata": {
        "id": "DtP7bA08RGwX"
      },
      "source": [
        "## Obtener la carpeta de cada Benchmark\r\n",
        "\r\n",
        "El siguiente codigo obtiene la carpeta y crea una lista con todas las carpetas dentro del benchmark. \r\n",
        "\r\n",
        "**Correr solamente una de las siguientes celdas dependiendo del benchmark que quieras procesar!!**"
      ]
    },
    {
      "cell_type": "code",
      "metadata": {
        "id": "jHS5X6e9RaN_",
        "colab": {
          "base_uri": "https://localhost:8080/"
        },
        "outputId": "43e54a27-c6eb-471d-b37e-7dd49d458610"
      },
      "source": [
        "# BUBBLESORT_DB\r\n",
        "local_path = '/content/drive/Shareddrives/NN4FT_DB/'\r\n",
        "local_path = local_path + \"bubblesort_db\"\r\n",
        "\r\n",
        "folder_list = os.listdir(local_path)\r\n",
        "\r\n",
        "print(len(folder_list)) # Tiene que dar 824\r\n",
        "\r\n",
        "full_csv = \"bubblesort_full.csv\"\r\n",
        "\r\n",
        "with open(full_csv, \"w\") as f:\r\n",
        "  f.write('folder;unAce;SDC;Hang;cycles;memsize\\n')\r\n",
        "  f.close()\r\n"
      ],
      "execution_count": null,
      "outputs": [
        {
          "output_type": "stream",
          "text": [
            "824\n"
          ],
          "name": "stdout"
        }
      ]
    },
    {
      "cell_type": "code",
      "metadata": {
        "colab": {
          "base_uri": "https://localhost:8080/"
        },
        "id": "P98UMOvvWNUu",
        "outputId": "49faed85-624e-431c-e158-fae5ac29cf12"
      },
      "source": [
        "# DIJKSTRA_DB\r\n",
        "local_path = '/content/drive/Shareddrives/NN4FT_DB/'\r\n",
        "local_path = local_path + \"dijkstra_db\"\r\n",
        "\r\n",
        "folder_list = os.listdir(local_path)\r\n",
        "\r\n",
        "print(len(folder_list)) # Tiene que dar 112\r\n",
        "\r\n",
        "full_csv = \"dijkstra_full.csv\"\r\n",
        "\r\n",
        "with open(full_csv, \"w\") as f:\r\n",
        "  f.write('folder;unAce;SDC;Hang;cycles;memsize\\n')\r\n",
        "  f.close()"
      ],
      "execution_count": null,
      "outputs": [
        {
          "output_type": "stream",
          "text": [
            "112\n"
          ],
          "name": "stdout"
        }
      ]
    },
    {
      "cell_type": "code",
      "metadata": {
        "colab": {
          "base_uri": "https://localhost:8080/"
        },
        "id": "-jk4Bp6kXYc1",
        "outputId": "d366c9e5-3383-45dc-8781-bd6bf5b22033"
      },
      "source": [
        "# NDES_DB\r\n",
        "local_path = '/content/drive/Shareddrives/NN4FT_DB/'\r\n",
        "local_path = local_path + \"ndes_db\"\r\n",
        "\r\n",
        "folder_list = os.listdir(local_path)\r\n",
        "\r\n",
        "print(len(folder_list))\r\n",
        "\r\n",
        "full_csv = ndes_full.csv\"\r\n",
        "\r\n",
        "with open(full_csv, \"w\") as f:\r\n",
        "  f.write('folder;unAce;SDC;Hang;cycles;memsize\\n')\r\n",
        "  f.close()"
      ],
      "execution_count": null,
      "outputs": [
        {
          "output_type": "execute_result",
          "data": {
            "text/plain": [
              "112"
            ]
          },
          "metadata": {
            "tags": []
          },
          "execution_count": 21
        }
      ]
    },
    {
      "cell_type": "markdown",
      "metadata": {
        "id": "7w5nFNY8Xwbx"
      },
      "source": [
        "## Guardar toda la información\r\n",
        "\r\n",
        "Este codigo se encarga de utilizar la funciones descritas en el apartado de `Funciones de procesamiento` para obtener toda la información de cada individuo y crear un archivo csv con toda la información de todos los individuos.\r\n",
        "\r\n",
        "Por eso para que funcione este apartado **hay que correr el siguiente primero**.\r\n",
        "\r\n",
        "A diferencia del codigo de David Ruiz no necesito dividir en Chunks por que no utilizo GoogleAuth."
      ]
    },
    {
      "cell_type": "code",
      "metadata": {
        "colab": {
          "base_uri": "https://localhost:8080/"
        },
        "id": "XsqhRj5oYaBk",
        "outputId": "7c264777-6f3c-4c78-cdc8-b2db603231be"
      },
      "source": [
        "outputToWrite = \"\"\r\n",
        "i = 0\r\n",
        "\r\n",
        "# folder hace refencia a cada individuo\r\n",
        "for folder in folder_list:\r\n",
        "\r\n",
        "  i += 1 # Cuenta de las carpteas recorridas\r\n",
        "  print(i,\"/\", len(folder_list))\r\n",
        "\r\n",
        "  folder_path = local_path + \"/\" + folder\r\n",
        "  file_list = os.listdir(folder_path)\r\n",
        "\r\n",
        "  for file in file_list:\r\n",
        "\r\n",
        "    file_path = folder_path + \"/\" + file\r\n",
        "\r\n",
        "    if file == \"results.perf\":\r\n",
        "      unace, sdc, hang = getFT(file_path) \r\n",
        "\r\n",
        "    if file == \"cycles.log\":\r\n",
        "      cycles = getCycles(file_path)\r\n",
        "\r\n",
        "    if file == \"RESULTS.LOG\":\r\n",
        "      memsize = getMemSize(file_path)\r\n",
        "\r\n",
        "\r\n",
        "  outputToWrite += folder + \";\" + unace + \";\" + sdc + \";\" + hang + \";\" + cycles + \";\" + memsize + \"\\n\"\r\n",
        "\r\n",
        "\r\n",
        "with open(full_csv, \"a\") as f:\r\n",
        "  f.write(outputToWrite)\r\n",
        "  f.close()\r\n",
        "    "
      ],
      "execution_count": null,
      "outputs": [
        {
          "output_type": "stream",
          "text": [
            "1 / 112\n",
            "2 / 112\n",
            "3 / 112\n",
            "4 / 112\n",
            "5 / 112\n",
            "6 / 112\n",
            "7 / 112\n",
            "8 / 112\n",
            "9 / 112\n",
            "10 / 112\n",
            "11 / 112\n",
            "12 / 112\n",
            "13 / 112\n",
            "14 / 112\n",
            "15 / 112\n",
            "16 / 112\n",
            "17 / 112\n",
            "18 / 112\n",
            "19 / 112\n",
            "20 / 112\n",
            "21 / 112\n",
            "22 / 112\n",
            "23 / 112\n",
            "24 / 112\n",
            "25 / 112\n",
            "26 / 112\n",
            "27 / 112\n",
            "28 / 112\n",
            "29 / 112\n",
            "30 / 112\n",
            "31 / 112\n",
            "32 / 112\n",
            "33 / 112\n",
            "34 / 112\n",
            "35 / 112\n",
            "36 / 112\n",
            "37 / 112\n",
            "38 / 112\n",
            "39 / 112\n",
            "40 / 112\n",
            "41 / 112\n",
            "42 / 112\n",
            "43 / 112\n",
            "44 / 112\n",
            "45 / 112\n",
            "46 / 112\n",
            "47 / 112\n",
            "48 / 112\n",
            "49 / 112\n",
            "50 / 112\n",
            "51 / 112\n",
            "52 / 112\n",
            "53 / 112\n",
            "54 / 112\n",
            "55 / 112\n",
            "56 / 112\n",
            "57 / 112\n",
            "58 / 112\n",
            "59 / 112\n",
            "60 / 112\n",
            "61 / 112\n",
            "62 / 112\n",
            "63 / 112\n",
            "64 / 112\n",
            "65 / 112\n",
            "66 / 112\n",
            "67 / 112\n",
            "68 / 112\n",
            "69 / 112\n",
            "70 / 112\n",
            "71 / 112\n",
            "72 / 112\n",
            "73 / 112\n",
            "74 / 112\n",
            "75 / 112\n",
            "76 / 112\n",
            "77 / 112\n",
            "78 / 112\n",
            "79 / 112\n",
            "80 / 112\n",
            "81 / 112\n",
            "82 / 112\n",
            "83 / 112\n",
            "84 / 112\n",
            "85 / 112\n",
            "86 / 112\n",
            "87 / 112\n",
            "88 / 112\n",
            "89 / 112\n",
            "90 / 112\n",
            "91 / 112\n",
            "92 / 112\n",
            "93 / 112\n",
            "94 / 112\n",
            "95 / 112\n",
            "96 / 112\n",
            "97 / 112\n",
            "98 / 112\n",
            "99 / 112\n",
            "100 / 112\n",
            "101 / 112\n",
            "102 / 112\n",
            "103 / 112\n",
            "104 / 112\n",
            "105 / 112\n",
            "106 / 112\n",
            "107 / 112\n",
            "108 / 112\n",
            "109 / 112\n",
            "110 / 112\n",
            "111 / 112\n",
            "112 / 112\n"
          ],
          "name": "stdout"
        }
      ]
    },
    {
      "cell_type": "markdown",
      "metadata": {
        "id": "gZRWK8c7qFxr"
      },
      "source": [
        "## Subir el dataset completo a Drive (NN4FT_DB)\r\n",
        "\r\n",
        "Como no estoy utilizando googleAuth para nada basta con utilizar la función move de la libreria shutil y mover el archivo a la ruta que se indice dentro de la carpeta `drive`."
      ]
    },
    {
      "cell_type": "code",
      "metadata": {
        "id": "rKst8QUQqD8o"
      },
      "source": [
        "import shutil\r\n",
        "save_path = '/content/drive/Shareddrives/NN4FT_DB/Exp_Adrian/Data Frames'\r\n",
        "\r\n",
        "ruta = shutil.move(full_csv, save_path)"
      ],
      "execution_count": null,
      "outputs": []
    },
    {
      "cell_type": "markdown",
      "metadata": {
        "id": "yvqE-BZgj1XQ"
      },
      "source": [
        "## Funciones de procesamiento\r\n",
        "\r\n",
        "Aquí se declaran las funciones necesarias para obtener los datos que nos interesan de cada individuo a nivel general sin obtener aquellos de los extremos de cada benchmark."
      ]
    },
    {
      "cell_type": "code",
      "metadata": {
        "id": "nVbZlgv5fVef"
      },
      "source": [
        "unaceLine = r\"^overall\\sUNACE\"\r\n",
        "sdcLine = r\"^overall\\sSDC\"\r\n",
        "hangLine = r\"^overall\\sHANG\"\r\n",
        "\r\n",
        "#Función que devuelve la FT de cada individuo\r\n",
        "def getFT(file_path):\r\n",
        "\r\n",
        "  with open(file_path) as file:\r\n",
        "    for line in file:\r\n",
        "      if re.match(unaceLine, line):\r\n",
        "        unace = line.split()[4]\r\n",
        "      if re.match(sdcLine, line):\r\n",
        "        sdc = line.split()[4]\r\n",
        "      if re.match(hangLine, line):\r\n",
        "        hang = line.split()[4]\r\n",
        "\r\n",
        "  return str(unace), str(sdc), str(hang)"
      ],
      "execution_count": null,
      "outputs": []
    },
    {
      "cell_type": "code",
      "metadata": {
        "id": "C7c-sVGcftod"
      },
      "source": [
        "# Función para obtener el tamaño en memoria de cada ejecutable\r\n",
        "def getMemSize(file_path):\r\n",
        "\r\n",
        "  with open(file_path) as file:\r\n",
        "    for line in file:\r\n",
        "      memsize = line.split()[1]\r\n",
        "\r\n",
        "  return str(memsize)"
      ],
      "execution_count": null,
      "outputs": []
    },
    {
      "cell_type": "code",
      "metadata": {
        "id": "Xm_zNkmHgJS3"
      },
      "source": [
        "# Función para obtener los ciclos que realiza cada individuo\r\n",
        "def getCycles(file_path):\r\n",
        "\r\n",
        "  with open(file_path) as file:\r\n",
        "    for line in file:\r\n",
        "      cycles = line.split()[1]\r\n",
        "\r\n",
        "  return str(cycles)"
      ],
      "execution_count": null,
      "outputs": []
    }
  ]
}